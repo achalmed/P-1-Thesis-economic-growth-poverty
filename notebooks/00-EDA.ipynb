{
 "cells": [
  {
   "cell_type": "code",
   "execution_count": 34,
   "outputs": [
    {
     "name": "stdout",
     "output_type": "stream",
     "text": [
      "The autoreload extension is already loaded. To reload it, use:\n",
      "  %reload_ext autoreload\n"
     ]
    }
   ],
   "source": [
    "%load_ext autoreload\n",
    "%autoreload 2"
   ],
   "metadata": {
    "collapsed": false,
    "pycharm": {
     "name": "#%%\n"
    }
   }
  },
  {
   "cell_type": "code",
   "execution_count": 35,
   "outputs": [],
   "source": [
    "import warnings\n",
    "warnings.filterwarnings('ignore')\n",
    "\n",
    "import numpy as np\n",
    "import pandas as pd\n",
    "import matplotlib.pyplot as plt\n",
    "import seaborn as sns\n",
    "import os"
   ],
   "metadata": {
    "collapsed": false,
    "pycharm": {
     "name": "#%%\n"
    }
   }
  },
  {
   "cell_type": "markdown",
   "source": [
    "# Predicción de Ingresos de clientes de una Fintech\n",
    "\n",
    "> El término préstamo se refiere a un tipo de operación financiera en la cual se presta una suma de dinero a otra parte a cambio de un reembolso futuro del valor o monto principal. En muchos caos, el prestamista también agrega intereses y/o cargos financieros al valor del principal que el prestatario debe pagar... Los préstamos vienen en muchas formas diferentes, incluyendo préstamos garantizados, no grantizados, comerciales yp ersonales (https://www.investopedia.com/terms/l/loan.asp)\n",
    "\n",
    "Z. Zhang, \"Research of Default Risk of Commercial Bank's Personal Loan Based on Rough Sets and Neural Network,\" 2011 3rd International Workshop on Intelligent Systems and Applications, 2011, pp. 1-4, doi: 10.1109/ISA.2011.5873366.\n",
    "\n",
    "\n",
    "El surgimiento de las Fintechs ha sido disruptivo para el negocio tradicional de los préstamos. La automatización de procesos ha demostrado ser un ventaja competitiva, mostrando escalas de operabilidad sin precedentes. [bibliografía]\n",
    "\n",
    "En su fortaleza también aparecen sus amenazas. Por momentos la promesa de automatización completa no puede ser satisfecha por los desafios técnicos que requiere y por otro lado por la presión de inversores y clientes se debe cumplir con la desburocratización de los procesos.\n",
    "\n",
    " Desde un punto de vista créditicio siguen haciendo frente a las preguntas fundamentales del riesgo tradicional\n",
    "\n",
    "* ¿A quiénes prestarle dinero?\n",
    "* ¿Cuánto dinero deberían prestarle?\n",
    "\n",
    "La segunda pregunta será el foco de nuestro análisis, abordandola desde el punto de vista de la Capacidad de Pago\n",
    "\n",
    "> Capacidad de Pago es entendido como la posibilidad o no de hacerle frente a un compromiso. Desde un punto de vista práctico representaría un ratio de liquidez dado por cuantas cuotas o mensualidad de un préstamo puede pagar el ingreso disponible de un cliente\n",
    "\n",
    "En nuestro caso nos enfrentamos una Fintech con un año de antiguedad en el mercado que a partir de septiembre del 2021 buscará dejar de pedir comprobante a todos los clientes. Sin embargo posee una definición de capacidad de pago y un valor umbral, determinado por la siguiente ecuación.\n",
    "$$\n",
    "  \\text{CAP true} = \\frac{\\text{Ingreso real} - 2000*Dependientes - Pagos a Bureau}{Mensualidad} >= 2\n",
    "$$\n",
    "\n",
    "Dada la baja voluntad en declarar sus ingresos verdaderos y en el objetivo de no pedir comprobantes, nos encontramos en un dilema.\n",
    "\n",
    "Las propuestas para abordar el caso son dos:\n",
    "* 1- El departamento de operaciones preocupado por la conversión sugiere utilizar el Score créditicio >= 680 cómo política para aceptar el ingreso declarado cómo real. La hipótesis es que los clientes con buen score créditicio buscan no perjudicar su historial.\n",
    "* 2- El departamento de Machine Learning propone un modelo de ingresos que permita minimizar los riesgos sujeto a la cantidad de conversión de la propuesta anterior.\n"
   ],
   "metadata": {
    "collapsed": false,
    "pycharm": {
     "name": "#%% md\n"
    }
   }
  },
  {
   "cell_type": "markdown",
   "source": [
    "# Dataset\n"
   ],
   "metadata": {
    "collapsed": false,
    "pycharm": {
     "name": "#%% md\n"
    }
   }
  },
  {
   "cell_type": "code",
   "execution_count": 36,
   "outputs": [],
   "source": [
    "path = \"../data/\"\n",
    "prospectos = pd.read_csv(path + \"prospectos.csv\", index_col=0)"
   ],
   "metadata": {
    "collapsed": false,
    "pycharm": {
     "name": "#%%\n"
    }
   }
  },
  {
   "cell_type": "code",
   "execution_count": 40,
   "outputs": [
    {
     "data": {
      "text/plain": "(13147, 50)"
     },
     "execution_count": 40,
     "metadata": {},
     "output_type": "execute_result"
    }
   ],
   "source": [
    "prospectos.shape"
   ],
   "metadata": {
    "collapsed": false,
    "pycharm": {
     "name": "#%%\n"
    }
   }
  },
  {
   "cell_type": "markdown",
   "source": [
    "Posemos un dataset con 13147 prospectos, es decir, clientes que presentaron su documentación de ingreso real y por distintas razones (ya sea que rechazaron el préstamo o fueron rechazados) no son parte actual de la cartera crediticia. Además posemos una cartera de 10mil clientes que fueron aprobados y si son parte de la cartera actual y la misma cantidad de clientes que fueron aprobados."
   ],
   "metadata": {
    "collapsed": false,
    "pycharm": {
     "name": "#%% md\n"
    }
   }
  },
  {
   "cell_type": "code",
   "execution_count": 42,
   "outputs": [
    {
     "data": {
      "text/plain": "(13943, 49)"
     },
     "execution_count": 42,
     "metadata": {},
     "output_type": "execute_result"
    }
   ],
   "source": [
    "aprobados = pd.read_csv(path + \"aprobados.csv\", index_col=0, usecols = prospectos.columns)\n",
    "aprobados.shape"
   ],
   "metadata": {
    "collapsed": false,
    "pycharm": {
     "name": "#%%\n"
    }
   }
  },
  {
   "cell_type": "markdown",
   "source": [
    "La data pertenece a información recolectada del Bureau de Crédito de México sumado a dos columnas. Ingreso Declarado e Ingreso real. El declarado pertenece al input que se da en la página web y el ingreso real pertenece a los papeles presentados por el cliente e ingresados posteriormente por los operarios de los locales. [bibliografia: Manual técnico]"
   ],
   "metadata": {
    "collapsed": false,
    "pycharm": {
     "name": "#%% md\n"
    }
   }
  },
  {
   "cell_type": "markdown",
   "source": [
    "# Diccionario de variables\n",
    "\n",
    "\n",
    "CLASIFICACIÓN DE PUNTUALIDAD DE PAGO - MOP (Manner of Payment – por sus siglas en inglés)\n",
    "Contiene el código que indica si la cuenta está al corriente (sin atraso) o tiene atraso en sus pagos.\n",
    "Los valores que pueden reportarse en este campo están indicados en el Anexo 3- Clasificación de puntualidad de pago-MOP, que se presenta en períodos de 30 días.\n",
    "Ejemplos: si en Cliente tiene pagos mensuales y 1 pago atrasado MOP= 02. Si tiene pagos semanales: con 1 pago atrasado: MOP= 02; con 2 pagos atrasados: MOP= 02, con 3 pagos MOP= 02, etc.\n",
    "\n",
    "Clasificación de Puntualidad de Pago – MOP\n",
    "Las Claves de Clasificación de Puntualidad de Pago – MOP, indica el tiempo transcurrido desde que el Cliente\n",
    "debió haber cumplido con el compromiso de pago acordado con el Usuario.\n",
    "La siguiente tabla describe los códigos de Puntualidad de pago o MOP (Manner of Payment)."
   ],
   "metadata": {
    "collapsed": false,
    "pycharm": {
     "name": "#%% md\n"
    }
   }
  },
  {
   "cell_type": "code",
   "execution_count": 43,
   "outputs": [
    {
     "data": {
      "text/plain": "Index(['declarativa', 'fecha de apertura de la cuenta más antigua',\n       'fecha de apertura de la cuenta más reciente',\n       'fecha de la consulta mas reciente', 'mensaje de alerta',\n       'moneda del credito', 'nueva direccion en los últimos 60 días',\n       'número de cuentas', 'número de cuentas cerradas',\n       'número de cuentas con historial de morosidad',\n       'número de cuentas con mop = 00', 'número de cuentas con mop = 01',\n       'número de cuentas con mop = 02', 'número de cuentas con mop = 03',\n       'número de cuentas con mop = 04', 'número de cuentas con mop = 05',\n       'número de cuentas con mop = 06', 'número de cuentas con mop = 07',\n       'número de cuentas con mop = 96', 'número de cuentas con mop = 97',\n       'número de cuentas con mop = 99', 'número de cuentas con mop = UR',\n       'número de cuentas con morosidad actual',\n       'número de cuentas de pagos fijos e hipotecarios',\n       'número de cuentas en aclaración',\n       'número de cuentas en despacho de cobranza o administadora de cartera',\n       'número de cuentas revolventes y sin límite pre-establecido',\n       'número de solicitudes de consulta',\n       'número de solicitudes del informe de buró',\n       'número de solicitudes del informe de buró realizadas por despachos de cobranza o administadora de cartera',\n       'porcentaje del límite de crédito utilizado para cuentas revolventes y sin límite pre-establecido',\n       'total de creditos máximos para cuentas revolventes y sin límite pre-establecido',\n       'total de créditos máximos para cuentas de pagos fijos e hipotecarios',\n       'total de importe de pago para cuentas de pagos fijos e hipotecarios',\n       'total de importe pagado para cuentas revolventes y sin límite pre-establecido',\n       'total de límites de crédito para cuentas revolventes y sin límite pre-establecido',\n       'total de saldos actuales para cuentas de pagos fijos e hipotecarios',\n       'total de saldos actuales para cuentas revolventes y sin límite pre-establecido',\n       'total de saldos vencidos para cuentas de pagos fijos e hipotecarios',\n       'total de saldos vencidos para cuentas revolventes y sin límite pre-establecido',\n       'código de razón 1', 'código de razón 2', 'código de razón 3',\n       'código del score', 'nombre del score', 'valor del score',\n       'net_income_verified', 'ingreso_neto_comprobado', 'estimate'],\n      dtype='object')"
     },
     "execution_count": 43,
     "metadata": {},
     "output_type": "execute_result"
    }
   ],
   "source": [
    "aprobados.columns"
   ],
   "metadata": {
    "collapsed": false,
    "pycharm": {
     "name": "#%%\n"
    }
   }
  },
  {
   "cell_type": "code",
   "execution_count": 52,
   "outputs": [],
   "source": [
    "df2 = pd.concat([aprobados, prospectos], ignore_index=True, sort=False)\n"
   ],
   "metadata": {
    "collapsed": false,
    "pycharm": {
     "name": "#%%\n"
    }
   }
  },
  {
   "cell_type": "code",
   "execution_count": null,
   "outputs": [],
   "source": [],
   "metadata": {
    "collapsed": false,
    "pycharm": {
     "name": "#%%\n"
    }
   }
  },
  {
   "cell_type": "markdown",
   "source": [
    "$$\n",
    "  Declaran = \\frac{Declared Income - True Income}{True Income}\n",
    "$$"
   ],
   "metadata": {
    "collapsed": false,
    "pycharm": {
     "name": "#%% md\n"
    }
   }
  },
  {
   "cell_type": "code",
   "execution_count": 53,
   "outputs": [
    {
     "name": "stdout",
     "output_type": "stream",
     "text": [
      "La cantidad de clientes que declaran más son 6316 y representan el 23.31% del dataset\n"
     ]
    }
   ],
   "source": [
    "cant_declaran_más= len(df2[df2.net_income_verified > df2.ingreso_neto_comprobado])\n",
    "print(f\"La cantidad de clientes que declaran más son {cant_declaran_más} y representan el {(cant_declaran_más/len(df2))*100:.2f}% del dataset\")"
   ],
   "metadata": {
    "collapsed": false,
    "pycharm": {
     "name": "#%%\n"
    }
   }
  },
  {
   "cell_type": "code",
   "execution_count": 54,
   "outputs": [],
   "source": [
    "df2[\"diff_per\"] = (df2[\"net_income_verified\"] - df2[\"ingreso_neto_comprobado\"])/df2[\"ingreso_neto_comprobado\"]"
   ],
   "metadata": {
    "collapsed": false,
    "pycharm": {
     "name": "#%%\n"
    }
   }
  },
  {
   "cell_type": "code",
   "execution_count": 55,
   "outputs": [],
   "source": [
    "df2.loc[df2[\"diff_per\"] == 0,  'Declaran'] = \"Lo Mismo\"\n",
    "df2.loc[(df2[\"diff_per\"] < 0), 'Declaran'] = \"Menos\"\n",
    "df2.loc[(df2[\"diff_per\"] > 0) & (df2[\"diff_per\"] <= 0.3), 'Declaran'] = \"entre 1% y 30% más\"\n",
    "df2.loc[(df2[\"diff_per\"] > 0.3) & (df2[\"diff_per\"] <= 0.5), 'Declaran'] = \"entre 31% y 50% más\"\n",
    "df2.loc[(df2[\"diff_per\"] > 0.5) & (df2[\"diff_per\"] < 1), 'Declaran'] = \"entre 51% y 99% más\"\n",
    "df2.loc[(df2[\"diff_per\"] >= 1) , 'Declaran'] = \"Más del 100%\""
   ],
   "metadata": {
    "collapsed": false,
    "pycharm": {
     "name": "#%%\n"
    }
   }
  },
  {
   "cell_type": "code",
   "execution_count": 56,
   "outputs": [],
   "source": [
    "reorderlist = [\"Más del 100%\",\"entre 51% y 99% más\",\"entre 31% y 50% más\",\"entre 1% y 30% más\",\"Lo Mismo\", \"Menos\"]"
   ],
   "metadata": {
    "collapsed": false,
    "pycharm": {
     "name": "#%%\n"
    }
   }
  },
  {
   "cell_type": "code",
   "execution_count": 57,
   "outputs": [],
   "source": [
    "declararon = pd.merge(df2.Declaran.value_counts(),df2.Declaran.value_counts(normalize=True), right_index=True, left_index=True)\n",
    "declararon.columns = [\"Cantidad Clientes\",\"Proporcion\"]\n",
    "declararon = declararon.reindex(reorderlist)\n",
    "declararon.index.name = \"Declaran\""
   ],
   "metadata": {
    "collapsed": false,
    "pycharm": {
     "name": "#%%\n"
    }
   }
  },
  {
   "cell_type": "code",
   "execution_count": 58,
   "outputs": [
    {
     "data": {
      "text/plain": "<Figure size 720x720 with 1 Axes>",
      "image/png": "[encoded data removed]"
     },
     "metadata": {
      "needs_background": "light"
     },
     "output_type": "display_data"
    }
   ],
   "source": [
    "plt.figure(figsize=(10,10))\n",
    "paleta = [\"#d53e4f\",\"#fc8d59\", \"#fee08b\", \"#e6f598\", \"#99d594\", \"#3288bd\"]\n",
    "sns.barplot(x=\"Cantidad Clientes\",y=declararon.index,data=declararon, palette=paleta)\n",
    "plt.savefig(\"cantidad.png\", bbox_inches='tight')"
   ],
   "metadata": {
    "collapsed": false,
    "pycharm": {
     "name": "#%%\n"
    }
   }
  },
  {
   "cell_type": "code",
   "execution_count": 59,
   "outputs": [],
   "source": [
    "declararon.loc['Total',:]= declararon.sum(axis=0)\n",
    "\n",
    "per_problema = declararon[0:3][\"Proporcion\"].sum(axis=0)\n",
    "\n",
    "declararon[\"Proporcion\"] = (declararon[\"Proporcion\"].round(2)*100).astype(str) + '%'\n",
    "declararon[\"Cantidad Clientes\"] = declararon[\"Cantidad Clientes\"].astype(int)"
   ],
   "metadata": {
    "collapsed": false,
    "pycharm": {
     "name": "#%%\n"
    }
   }
  },
  {
   "cell_type": "code",
   "execution_count": 60,
   "outputs": [
    {
     "name": "stdout",
     "output_type": "stream",
     "text": [
      "El gran problema representa 2883 clientes \n",
      "y representa el 10.64% de la población que \n",
      "conocemos el ingreso real \n",
      "\n"
     ]
    },
    {
     "data": {
      "text/plain": "                     Cantidad Clientes Proporcion\nDeclaran                                         \nMás del 100%                       741       3.0%\nentre 51% y 99% más               1071       4.0%\nentre 31% y 50% más               1071       4.0%\nentre 1% y 30% más                3433      13.0%\nLo Mismo                         17281      64.0%\nMenos                             3488      13.0%\nTotal                            27085     100.0%",
      "text/html": "<div>\n<style scoped>\n    .dataframe tbody tr th:only-of-type {\n        vertical-align: middle;\n    }\n\n    .dataframe tbody tr th {\n        vertical-align: top;\n    }\n\n    .dataframe thead th {\n        text-align: right;\n    }\n</style>\n<table border=\"1\" class=\"dataframe\">\n  <thead>\n    <tr style=\"text-align: right;\">\n      <th></th>\n      <th>Cantidad Clientes</th>\n      <th>Proporcion</th>\n    </tr>\n    <tr>\n      <th>Declaran</th>\n      <th></th>\n      <th></th>\n    </tr>\n  </thead>\n  <tbody>\n    <tr>\n      <th>Más del 100%</th>\n      <td>741</td>\n      <td>3.0%</td>\n    </tr>\n    <tr>\n      <th>entre 51% y 99% más</th>\n      <td>1071</td>\n      <td>4.0%</td>\n    </tr>\n    <tr>\n      <th>entre 31% y 50% más</th>\n      <td>1071</td>\n      <td>4.0%</td>\n    </tr>\n    <tr>\n      <th>entre 1% y 30% más</th>\n      <td>3433</td>\n      <td>13.0%</td>\n    </tr>\n    <tr>\n      <th>Lo Mismo</th>\n      <td>17281</td>\n      <td>64.0%</td>\n    </tr>\n    <tr>\n      <th>Menos</th>\n      <td>3488</td>\n      <td>13.0%</td>\n    </tr>\n    <tr>\n      <th>Total</th>\n      <td>27085</td>\n      <td>100.0%</td>\n    </tr>\n  </tbody>\n</table>\n</div>"
     },
     "execution_count": 60,
     "metadata": {},
     "output_type": "execute_result"
    }
   ],
   "source": [
    "total_problema = declararon[0:3][\"Cantidad Clientes\"].sum(axis=0)\n",
    "\n",
    "print(f\"El gran problema representa {total_problema} clientes \\ny representa el {(per_problema*100):.2f}% de la población que \\nconocemos el ingreso real \\n\")\n",
    "declararon"
   ],
   "metadata": {
    "collapsed": false,
    "pycharm": {
     "name": "#%%\n"
    }
   }
  },
  {
   "cell_type": "code",
   "execution_count": 62,
   "outputs": [],
   "source": [
    "df2[\"ratio_income_min_w\"] = df2[\"ingreso_neto_comprobado\"]/4000\n",
    "\n",
    "lst = [df2]\n",
    "for column in lst:\n",
    "    column.loc[column[\"ratio_income_min_w\"] <= 1,  'salarios_min'] = \" Hasta 1 salario min\"\n",
    "    column.loc[(column[\"ratio_income_min_w\"] > 1) & (column[\"ratio_income_min_w\"] <= 2), 'salarios_min'] = \"1 hasta 2 salarios\"\n",
    "    column.loc[(column[\"ratio_income_min_w\"] > 2) & (column[\"ratio_income_min_w\"] <= 3), 'salarios_min'] = \"2 hasta 3 salarios\"\n",
    "    column.loc[(column[\"ratio_income_min_w\"] > 3) & (column[\"ratio_income_min_w\"] <= 5), 'salarios_min'] = \"3 hasta 5 salarios\"\n",
    "    column.loc[column[\"ratio_income_min_w\"] >5, 'salarios_min'] = \"+ de 5 salarios\"\n",
    "\n",
    "reorderlist = [\" Hasta 1 salario min\", \"1 hasta 2 salarios\",\"2 hasta 3 salarios\",\"3 hasta 5 salarios\", \"+ de 5 salarios\"]"
   ],
   "metadata": {
    "collapsed": false,
    "pycharm": {
     "name": "#%%\n"
    }
   }
  },
  {
   "cell_type": "code",
   "execution_count": 63,
   "outputs": [
    {
     "data": {
      "text/plain": "                      Cantidad Clientes Kavak Proporcion Muestra    Mexico  \\\nIngreso Real                                                                 \n Hasta 1 salario min                      0.0               0.0%  10642543   \n1 hasta 2 salarios                      139.0               0.5%  17141160   \n2 hasta 3 salarios                     2265.0               8.4%   9818858   \n3 hasta 5 salarios                     7726.0              28.5%   4522674   \n+ de 5 salarios                       16960.0              62.6%   1741491   \nTotal                                 27090.0             100.0%  43866726   \n\n                     % Poblacion Mexico  \nIngreso Real                             \n Hasta 1 salario min            24.261%  \n1 hasta 2 salarios              39.076%  \n2 hasta 3 salarios              22.383%  \n3 hasta 5 salarios               10.31%  \n+ de 5 salarios                   3.97%  \nTotal                            100.0%  ",
      "text/html": "<div>\n<style scoped>\n    .dataframe tbody tr th:only-of-type {\n        vertical-align: middle;\n    }\n\n    .dataframe tbody tr th {\n        vertical-align: top;\n    }\n\n    .dataframe thead th {\n        text-align: right;\n    }\n</style>\n<table border=\"1\" class=\"dataframe\">\n  <thead>\n    <tr style=\"text-align: right;\">\n      <th></th>\n      <th>Cantidad Clientes Kavak</th>\n      <th>Proporcion Muestra</th>\n      <th>Mexico</th>\n      <th>% Poblacion Mexico</th>\n    </tr>\n    <tr>\n      <th>Ingreso Real</th>\n      <th></th>\n      <th></th>\n      <th></th>\n      <th></th>\n    </tr>\n  </thead>\n  <tbody>\n    <tr>\n      <th>Hasta 1 salario min</th>\n      <td>0.0</td>\n      <td>0.0%</td>\n      <td>10642543</td>\n      <td>24.261%</td>\n    </tr>\n    <tr>\n      <th>1 hasta 2 salarios</th>\n      <td>139.0</td>\n      <td>0.5%</td>\n      <td>17141160</td>\n      <td>39.076%</td>\n    </tr>\n    <tr>\n      <th>2 hasta 3 salarios</th>\n      <td>2265.0</td>\n      <td>8.4%</td>\n      <td>9818858</td>\n      <td>22.383%</td>\n    </tr>\n    <tr>\n      <th>3 hasta 5 salarios</th>\n      <td>7726.0</td>\n      <td>28.5%</td>\n      <td>4522674</td>\n      <td>10.31%</td>\n    </tr>\n    <tr>\n      <th>+ de 5 salarios</th>\n      <td>16960.0</td>\n      <td>62.6%</td>\n      <td>1741491</td>\n      <td>3.97%</td>\n    </tr>\n    <tr>\n      <th>Total</th>\n      <td>27090.0</td>\n      <td>100.0%</td>\n      <td>43866726</td>\n      <td>100.0%</td>\n    </tr>\n  </tbody>\n</table>\n</div>"
     },
     "execution_count": 63,
     "metadata": {},
     "output_type": "execute_result"
    },
    {
     "data": {
      "text/plain": "<Figure size 576x432 with 1 Axes>",
      "image/png": "[encoded data removed]"
     },
     "metadata": {
      "needs_background": "light"
     },
     "output_type": "display_data"
    }
   ],
   "source": [
    "cantidad = df2.groupby([\"salarios_min\"]).agg(\n",
    "    Cantidad =  ('salarios_min', 'count')).reindex(reorderlist)\n",
    "proporcion = df2.salarios_min.value_counts(normalize=True).reindex(reorderlist).round(3)\n",
    "inegi_df = pd.merge(cantidad,proporcion, right_index=True, left_index=True)\n",
    "inegi_df.columns = [\"Cantidad Clientes Kavak\",\"Proporcion Muestra\"]\n",
    "inegi_df = inegi_df.reindex(reorderlist)\n",
    "inegi_df.loc['Total',:]= inegi_df.sum(axis=0)\n",
    "inegi_df.fillna(0, inplace=True)\n",
    "\n",
    "\n",
    "inegi_df.index.name = \"Ingreso Real\"\n",
    "inegi_df[\"Mexico\"] = [10642543,17141160,9818858,4522674,1741491,43866726]\n",
    "inegi_df[\"% Poblacion Mexico\"] = [valor/43866726 for valor in inegi_df[\"Mexico\"]]\n",
    "inegi_plot = inegi_df.copy()\n",
    "inegi_df[\"% Poblacion Mexico\"] = ((inegi_df[\"% Poblacion Mexico\"]*100).round(3)).astype(str) + '%'\n",
    "inegi_df[\"Proporcion Muestra\"] = ((inegi_df[\"Proporcion Muestra\"]*100).round(2)).astype(str) + '%'\n",
    "inegi_plot =inegi_plot.reset_index(level=0)\n",
    "inegi_plot[0:5].plot(x=\"Ingreso Real\",y=[\"Proporcion Muestra\",\"% Poblacion Mexico\"], kind=\"bar\", width=0.8, alpha=0.8, align='center',figsize=(8,6)).set_ylim([0,0.6])\n",
    "current_values = plt.gca().get_yticks()\n",
    "# using format string '{:.0f}' here but you can choose others\n",
    "plt.gca().set_yticklabels(['{:,.0%}'.format(x) for x in current_values])\n",
    "plt.xticks(rotation=45)\n",
    "\n",
    "plt.xlabel('Distribución Income')\n",
    "\n",
    "inegi_df"
   ],
   "metadata": {
    "collapsed": false,
    "pycharm": {
     "name": "#%%\n"
    }
   }
  },
  {
   "cell_type": "code",
   "execution_count": null,
   "outputs": [],
   "source": [],
   "metadata": {
    "collapsed": false,
    "pycharm": {
     "name": "#%%\n"
    }
   }
  },
  {
   "cell_type": "code",
   "execution_count": 64,
   "outputs": [
    {
     "data": {
      "text/plain": "Index(['declarativa', 'fecha de apertura de la cuenta más antigua',\n       'fecha de apertura de la cuenta más reciente',\n       'fecha de la consulta mas reciente', 'mensaje de alerta',\n       'moneda del credito', 'nueva direccion en los últimos 60 días',\n       'número de cuentas', 'número de cuentas cerradas',\n       'número de cuentas con historial de morosidad',\n       'número de cuentas con mop = 00', 'número de cuentas con mop = 01',\n       'número de cuentas con mop = 02', 'número de cuentas con mop = 03',\n       'número de cuentas con mop = 04', 'número de cuentas con mop = 05',\n       'número de cuentas con mop = 06', 'número de cuentas con mop = 07',\n       'número de cuentas con mop = 96', 'número de cuentas con mop = 97',\n       'número de cuentas con mop = 99', 'número de cuentas con mop = UR',\n       'número de cuentas con morosidad actual',\n       'número de cuentas de pagos fijos e hipotecarios',\n       'número de cuentas en aclaración',\n       'número de cuentas en despacho de cobranza o administadora de cartera',\n       'número de cuentas revolventes y sin límite pre-establecido',\n       'número de solicitudes de consulta',\n       'número de solicitudes del informe de buró',\n       'número de solicitudes del informe de buró realizadas por despachos de cobranza o administadora de cartera',\n       'porcentaje del límite de crédito utilizado para cuentas revolventes y sin límite pre-establecido',\n       'total de creditos máximos para cuentas revolventes y sin límite pre-establecido',\n       'total de créditos máximos para cuentas de pagos fijos e hipotecarios',\n       'total de importe de pago para cuentas de pagos fijos e hipotecarios',\n       'total de importe pagado para cuentas revolventes y sin límite pre-establecido',\n       'total de límites de crédito para cuentas revolventes y sin límite pre-establecido',\n       'total de saldos actuales para cuentas de pagos fijos e hipotecarios',\n       'total de saldos actuales para cuentas revolventes y sin límite pre-establecido',\n       'total de saldos vencidos para cuentas de pagos fijos e hipotecarios',\n       'total de saldos vencidos para cuentas revolventes y sin límite pre-establecido',\n       'código de razón 1', 'código de razón 2', 'código de razón 3',\n       'código del score', 'nombre del score', 'valor del score',\n       'net_income_verified', 'ingreso_neto_comprobado', 'estimate',\n       'researchable_id', 'diff_per', 'Declaran', 'ratio_income_min_w',\n       'salarios_min'],\n      dtype='object')"
     },
     "execution_count": 64,
     "metadata": {},
     "output_type": "execute_result"
    }
   ],
   "source": [
    "df2.columns"
   ],
   "metadata": {
    "collapsed": false,
    "pycharm": {
     "name": "#%%\n"
    }
   }
  },
  {
   "cell_type": "code",
   "execution_count": null,
   "outputs": [],
   "source": [
    "cantidad = df2.groupby([\"salarios_min\"]).agg(\n",
    "    Cantidad =  ('salarios_min', 'count')).reindex(reorderlist)\n",
    "proporcion = df2.salarios_min.value_counts(normalize=True).reindex(reorderlist)"
   ],
   "metadata": {
    "collapsed": false,
    "pycharm": {
     "name": "#%%\n"
    }
   }
  },
  {
   "cell_type": "markdown",
   "source": [
    "# Hipotesis negocio\n",
    "# Ratios\n",
    "# Regresion\n",
    "# Ligthgbm"
   ],
   "metadata": {
    "collapsed": false,
    "pycharm": {
     "name": "#%% md\n"
    }
   }
  },
  {
   "cell_type": "code",
   "execution_count": null,
   "outputs": [],
   "source": [],
   "metadata": {
    "collapsed": false,
    "pycharm": {
     "name": "#%%\n"
    }
   }
  }
 ],
 "metadata": {
  "kernelspec": {
   "display_name": "Python 3",
   "language": "python",
   "name": "python3"
  },
  "language_info": {
   "codemirror_mode": {
    "name": "ipython",
    "version": 2
   },
   "file_extension": ".py",
   "mimetype": "text/x-python",
   "name": "python",
   "nbconvert_exporter": "python",
   "pygments_lexer": "ipython2",
   "version": "2.7.6"
  }
 },
 "nbformat": 4,
 "nbformat_minor": 0
}