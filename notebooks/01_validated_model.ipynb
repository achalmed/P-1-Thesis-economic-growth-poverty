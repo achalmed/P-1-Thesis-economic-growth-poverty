{
 "cells": [
  {
   "cell_type": "code",
   "execution_count": 1,
   "id": "e2012737",
   "metadata": {},
   "outputs": [],
   "source": [
    "#!pip install lightgbm\n",
    "#!pip install optuna"
   ]
  },
  {
   "cell_type": "code",
   "execution_count": 2,
   "id": "ccfb1d87",
   "metadata": {},
   "outputs": [],
   "source": [
    "%load_ext autoreload\n",
    "%autoreload 2"
   ]
  },
  {
   "cell_type": "code",
   "execution_count": 3,
   "id": "27413436",
   "metadata": {},
   "outputs": [],
   "source": [
    "import pandas as pd\n",
    "from sklearn.model_selection import train_test_split\n",
    "import optuna\n",
    "from sklearn.metrics import mean_absolute_percentage_error as MAPE\n",
    "from sklearn.metrics import mean_squared_error \n",
    "\n",
    "import lightgbm as lgbm\n",
    "import joblib\n",
    "import warnings\n",
    "warnings.filterwarnings('ignore')\n",
    "\n",
    "import numpy as np\n",
    "import pandas as pd\n",
    "import matplotlib.pyplot as plt\n",
    "import seaborn as sns\n",
    "import optuna \n",
    "from optuna.visualization import plot_optimization_history, plot_param_importances\n",
    "from optuna import Trial, visualization\n",
    "from optuna.samplers import TPESampler\n",
    "\n",
    "from sklearn.metrics import mean_squared_error\n",
    "from sklearn.model_selection import train_test_split\n",
    "from statistics import mean\n",
    "from s3_utils.s3_utils import write_parquet_from_pd, read_pd_from_parquet, start_logger,write_pickle,read_pickle\n",
    "\n",
    "from s3_utils import read_pd_from_csv\n",
    "pd.set_option('display.max_rows', 500)"
   ]
  },
  {
   "cell_type": "code",
   "execution_count": 4,
   "id": "e53ab681",
   "metadata": {},
   "outputs": [],
   "source": [
    "def objective(trial):\n",
    "    param = {\n",
    "        'metric': 'mse',\n",
    "        'random_state': 42,\n",
    "        'n_estimators': trial.suggest_categorical('n_estimators',[1000,1500,2000,2500,3000,4000,5000]),\n",
    "        'reg_alpha': trial.suggest_loguniform('reg_alpha', 1e-3, 10.0),\n",
    "        'reg_lambda': trial.suggest_loguniform('reg_lambda', 1e-3, 10.0),\n",
    "        'colsample_bytree': trial.suggest_categorical('colsample_bytree', [0.3,0.4,0.5,0.6,0.7,0.8,0.9, 1.0]),\n",
    "        'subsample': trial.suggest_categorical('subsample', [0.4,0.5,0.6,0.7,0.8,1.0]),\n",
    "        'learning_rate': trial.suggest_categorical('learning_rate', [0.006,0.01,0.02,0.05,0.1,0.15]),\n",
    "        'max_depth': trial.suggest_categorical('max_depth', [3,4,5,6,7,8,9,10,15]),\n",
    "        'num_leaves' : trial.suggest_int('num_leaves', 1, 1000),\n",
    "        'min_child_samples': trial.suggest_int('min_child_samples', 1, 300),\n",
    "        'cat_smooth' : trial.suggest_int('min_data_per_groups', 1, 100),\n",
    "        'verbosity':-1\n",
    "    }\n",
    "    model = lgbm.LGBMRegressor(**param)\n",
    "\n",
    "    model.fit(X_train, y_train, eval_set=[(X_test, y_test)],callbacks=[lgbm.early_stopping(stopping_rounds=50)])\n",
    "    preds = model.predict(X_test)\n",
    "    mse = mean_squared_error(y_test, preds, squared=False)\n",
    "\n",
    "    return mse\n",
    "\n"
   ]
  },
  {
   "cell_type": "code",
   "execution_count": 5,
   "id": "817f5c5e",
   "metadata": {},
   "outputs": [
    {
     "name": "stdout",
     "output_type": "stream",
     "text": [
      "Running script locally\n"
     ]
    }
   ],
   "source": [
    "import logging\n",
    "import sys\n",
    "from s3_utils import write_parquet_from_pd\n",
    "\n",
    "try:\n",
    "    from awsglue.utils import getResolvedOptions\n",
    "\n",
    "    args = getResolvedOptions(sys.argv, [\"path\"])\n",
    "    path = args[\"path\"]\n",
    "except Exception as error:\n",
    "    print(\"Running script locally\")\n",
    "    path = \"glue_scripts/output\"\n",
    "\n",
    "\n",
    "logger = logging.getLogger()\n",
    "logger.setLevel(logging.INFO)\n",
    "handler = logging.StreamHandler(sys.stdout)\n",
    "logFormatter = logging.Formatter(\n",
    "    \"%(asctime)s %(message)s\", datefmt=\"%m/%d/%Y %I:%M:%S %p\"\n",
    ")\n",
    "handler.setFormatter(logFormatter)\n",
    "handler.setLevel(logging.INFO)\n",
    "logger.addHandler(handler)"
   ]
  },
  {
   "cell_type": "code",
   "execution_count": 6,
   "id": "b1fbba35",
   "metadata": {},
   "outputs": [
    {
     "data": {
      "text/plain": [
       "(13147, 50)"
      ]
     },
     "execution_count": 6,
     "metadata": {},
     "output_type": "execute_result"
    }
   ],
   "source": [
    "prospectos = pd.read_csv(\"s3://data-science-kavak-dev/projects/cerberus/v2/dev/income/data/prospectos.csv\", index_col=0)\n",
    "prospectos.shape\n",
    "\n"
   ]
  },
  {
   "cell_type": "code",
   "execution_count": 7,
   "id": "d4bfdb51",
   "metadata": {},
   "outputs": [
    {
     "data": {
      "text/plain": [
       "(13943, 50)"
      ]
     },
     "execution_count": 7,
     "metadata": {},
     "output_type": "execute_result"
    }
   ],
   "source": [
    "aprobados = pd.read_csv(\"s3://data-science-kavak-dev/projects/cerberus/v2/dev/income/data/aprobados.csv\", usecols=prospectos.columns)\n",
    "aprobados.shape"
   ]
  },
  {
   "cell_type": "code",
   "execution_count": 8,
   "id": "c18df48e",
   "metadata": {},
   "outputs": [],
   "source": [
    "df = prospectos.loc[~prospectos.researchable_id.isin(aprobados.researchable_id),]"
   ]
  },
  {
   "cell_type": "code",
   "execution_count": 9,
   "id": "64d7e3c5",
   "metadata": {},
   "outputs": [],
   "source": [
    "df = df.query(\"ingreso_neto_comprobado < 300000\")"
   ]
  },
  {
   "cell_type": "code",
   "execution_count": 10,
   "id": "2c41c43f",
   "metadata": {},
   "outputs": [
    {
     "name": "stdout",
     "output_type": "stream",
     "text": [
      "Las columnas del dataset son Index(['researchable_id', 'declarativa',\n",
      "       'fecha de apertura de la cuenta más antigua',\n",
      "       'fecha de apertura de la cuenta más reciente',\n",
      "       'fecha de la consulta mas reciente', 'mensaje de alerta',\n",
      "       'moneda del credito', 'nueva direccion en los últimos 60 días',\n",
      "       'número de cuentas', 'número de cuentas cerradas',\n",
      "       'número de cuentas con historial de morosidad',\n",
      "       'número de cuentas con mop = 00', 'número de cuentas con mop = 01',\n",
      "       'número de cuentas con mop = 02', 'número de cuentas con mop = 03',\n",
      "       'número de cuentas con mop = 04', 'número de cuentas con mop = 05',\n",
      "       'número de cuentas con mop = 06', 'número de cuentas con mop = 07',\n",
      "       'número de cuentas con mop = 96', 'número de cuentas con mop = 97',\n",
      "       'número de cuentas con mop = 99', 'número de cuentas con mop = UR',\n",
      "       'número de cuentas con morosidad actual',\n",
      "       'número de cuentas de pagos fijos e hipotecarios',\n",
      "       'número de cuentas en aclaración',\n",
      "       'número de cuentas en despacho de cobranza o administadora de cartera',\n",
      "       'número de cuentas revolventes y sin límite pre-establecido',\n",
      "       'número de solicitudes de consulta',\n",
      "       'número de solicitudes del informe de buró',\n",
      "       'número de solicitudes del informe de buró realizadas por despachos de cobranza o administadora de cartera',\n",
      "       'porcentaje del límite de crédito utilizado para cuentas revolventes y sin límite pre-establecido',\n",
      "       'total de creditos máximos para cuentas revolventes y sin límite pre-establecido',\n",
      "       'total de créditos máximos para cuentas de pagos fijos e hipotecarios',\n",
      "       'total de importe de pago para cuentas de pagos fijos e hipotecarios',\n",
      "       'total de importe pagado para cuentas revolventes y sin límite pre-establecido',\n",
      "       'total de límites de crédito para cuentas revolventes y sin límite pre-establecido',\n",
      "       'total de saldos actuales para cuentas de pagos fijos e hipotecarios',\n",
      "       'total de saldos actuales para cuentas revolventes y sin límite pre-establecido',\n",
      "       'total de saldos vencidos para cuentas de pagos fijos e hipotecarios',\n",
      "       'total de saldos vencidos para cuentas revolventes y sin límite pre-establecido',\n",
      "       'código de razón 1', 'código de razón 2', 'código de razón 3',\n",
      "       'código del score', 'nombre del score', 'valor del score',\n",
      "       'net_income_verified', 'ingreso_neto_comprobado', 'estimate'],\n",
      "      dtype='object')\n"
     ]
    }
   ],
   "source": [
    "print(f\"Las columnas del dataset son {df.columns}\")"
   ]
  },
  {
   "cell_type": "code",
   "execution_count": 11,
   "id": "9cfa65cc",
   "metadata": {},
   "outputs": [],
   "source": [
    "base = df.copy()\n",
    "base = base[base[\"net_income_verified\"]>=base[\"ingreso_neto_comprobado\"]]"
   ]
  },
  {
   "cell_type": "code",
   "execution_count": 12,
   "id": "b9d1b8c1",
   "metadata": {},
   "outputs": [],
   "source": [
    "#base.ingreso_neto_comprobado = base.ingreso_neto_comprobado.clip(4000,100000)"
   ]
  },
  {
   "cell_type": "markdown",
   "id": "beeda991",
   "metadata": {},
   "source": [
    "## Modelo % validado"
   ]
  },
  {
   "cell_type": "code",
   "execution_count": 13,
   "id": "9c5145da",
   "metadata": {},
   "outputs": [],
   "source": [
    "validated_df = base.copy()\n",
    "validated_df[\"target\"] = (base[\"ingreso_neto_comprobado\"]/base[\"net_income_verified\"])\n",
    "del validated_df[\"ingreso_neto_comprobado\"]"
   ]
  },
  {
   "cell_type": "code",
   "execution_count": 14,
   "id": "779cb3cf",
   "metadata": {},
   "outputs": [],
   "source": [
    "#validated_df = validated_df[validated_df[\"target\"]<=1.35]"
   ]
  },
  {
   "cell_type": "code",
   "execution_count": 15,
   "id": "d52b3e8c",
   "metadata": {},
   "outputs": [],
   "source": [
    "#validated_df = validated_df[validated_df[\"target\"]<=1]"
   ]
  },
  {
   "cell_type": "code",
   "execution_count": 16,
   "id": "78681891",
   "metadata": {},
   "outputs": [],
   "source": [
    "to_drop = ['estimate','researchable_id', 'declarativa' ]\n",
    "target = [\"target\"]"
   ]
  },
  {
   "cell_type": "code",
   "execution_count": 17,
   "id": "a3733065",
   "metadata": {},
   "outputs": [],
   "source": [
    "to_drop = to_drop + [\"target\"]\n",
    "columnas = [col for col in validated_df.columns if col not in to_drop]\n",
    "X = validated_df[columnas]\n",
    "y = validated_df[target]"
   ]
  },
  {
   "cell_type": "code",
   "execution_count": 18,
   "id": "748c912c",
   "metadata": {},
   "outputs": [
    {
     "name": "stdout",
     "output_type": "stream",
     "text": [
      "Training until validation scores don't improve for 50 rounds\n",
      "Early stopping, best iteration is:\n",
      "[281]\tvalid_0's l2: 0.0231788\n",
      "Training until validation scores don't improve for 50 rounds\n",
      "Early stopping, best iteration is:\n",
      "[43]\tvalid_0's l2: 0.0230564\n",
      "Training until validation scores don't improve for 50 rounds\n",
      "Early stopping, best iteration is:\n",
      "[2886]\tvalid_0's l2: 0.0237133\n",
      "Training until validation scores don't improve for 50 rounds\n",
      "Early stopping, best iteration is:\n",
      "[250]\tvalid_0's l2: 0.0232185\n",
      "Training until validation scores don't improve for 50 rounds\n",
      "Early stopping, best iteration is:\n",
      "[144]\tvalid_0's l2: 0.0230446\n",
      "Training until validation scores don't improve for 50 rounds\n",
      "Early stopping, best iteration is:\n",
      "[73]\tvalid_0's l2: 0.0231918\n",
      "Training until validation scores don't improve for 50 rounds\n",
      "Early stopping, best iteration is:\n",
      "[164]\tvalid_0's l2: 0.0232416\n",
      "Training until validation scores don't improve for 50 rounds\n",
      "Did not meet early stopping. Best iteration is:\n",
      "[1995]\tvalid_0's l2: 0.0234579\n",
      "Training until validation scores don't improve for 50 rounds\n",
      "Early stopping, best iteration is:\n",
      "[1455]\tvalid_0's l2: 0.0229578\n",
      "Training until validation scores don't improve for 50 rounds\n",
      "Early stopping, best iteration is:\n",
      "[143]\tvalid_0's l2: 0.0233265\n",
      "Training until validation scores don't improve for 50 rounds\n",
      "Early stopping, best iteration is:\n",
      "[1283]\tvalid_0's l2: 0.0213025\n",
      "Training until validation scores don't improve for 50 rounds\n",
      "Early stopping, best iteration is:\n",
      "[1498]\tvalid_0's l2: 0.0221424\n",
      "Training until validation scores don't improve for 50 rounds\n",
      "Early stopping, best iteration is:\n",
      "[1436]\tvalid_0's l2: 0.0222707\n",
      "Training until validation scores don't improve for 50 rounds\n",
      "Early stopping, best iteration is:\n",
      "[1338]\tvalid_0's l2: 0.0212728\n",
      "Training until validation scores don't improve for 50 rounds\n",
      "Early stopping, best iteration is:\n",
      "[1702]\tvalid_0's l2: 0.0217243\n",
      "Training until validation scores don't improve for 50 rounds\n",
      "Early stopping, best iteration is:\n",
      "[452]\tvalid_0's l2: 0.0232448\n",
      "Training until validation scores don't improve for 50 rounds\n",
      "Early stopping, best iteration is:\n",
      "[1125]\tvalid_0's l2: 0.022807\n",
      "Training until validation scores don't improve for 50 rounds\n",
      "Early stopping, best iteration is:\n",
      "[161]\tvalid_0's l2: 0.022816\n",
      "Training until validation scores don't improve for 50 rounds\n",
      "Early stopping, best iteration is:\n",
      "[1319]\tvalid_0's l2: 0.0214402\n",
      "Training until validation scores don't improve for 50 rounds\n",
      "Early stopping, best iteration is:\n",
      "[281]\tvalid_0's l2: 0.0230472\n",
      "Training until validation scores don't improve for 50 rounds\n",
      "Early stopping, best iteration is:\n",
      "[181]\tvalid_0's l2: 0.0225875\n",
      "Training until validation scores don't improve for 50 rounds\n",
      "Early stopping, best iteration is:\n",
      "[1164]\tvalid_0's l2: 0.021505\n",
      "Training until validation scores don't improve for 50 rounds\n",
      "Early stopping, best iteration is:\n",
      "[1252]\tvalid_0's l2: 0.0224715\n",
      "Training until validation scores don't improve for 50 rounds\n",
      "Did not meet early stopping. Best iteration is:\n",
      "[1488]\tvalid_0's l2: 0.0211975\n",
      "Training until validation scores don't improve for 50 rounds\n",
      "Early stopping, best iteration is:\n",
      "[1814]\tvalid_0's l2: 0.022559\n",
      "Training until validation scores don't improve for 50 rounds\n",
      "Early stopping, best iteration is:\n",
      "[2854]\tvalid_0's l2: 0.0220791\n",
      "Training until validation scores don't improve for 50 rounds\n",
      "Early stopping, best iteration is:\n",
      "[1313]\tvalid_0's l2: 0.0226461\n",
      "Training until validation scores don't improve for 50 rounds\n",
      "Early stopping, best iteration is:\n",
      "[1840]\tvalid_0's l2: 0.0231748\n",
      "Training until validation scores don't improve for 50 rounds\n",
      "Early stopping, best iteration is:\n",
      "[628]\tvalid_0's l2: 0.0219248\n",
      "Training until validation scores don't improve for 50 rounds\n",
      "Early stopping, best iteration is:\n",
      "[438]\tvalid_0's l2: 0.0225949\n",
      "Training until validation scores don't improve for 50 rounds\n",
      "Early stopping, best iteration is:\n",
      "[1077]\tvalid_0's l2: 0.0230378\n",
      "Training until validation scores don't improve for 50 rounds\n",
      "Early stopping, best iteration is:\n",
      "[1355]\tvalid_0's l2: 0.0216361\n",
      "Training until validation scores don't improve for 50 rounds\n",
      "Early stopping, best iteration is:\n",
      "[1044]\tvalid_0's l2: 0.0217945\n",
      "Training until validation scores don't improve for 50 rounds\n",
      "Early stopping, best iteration is:\n",
      "[704]\tvalid_0's l2: 0.0208272\n",
      "Training until validation scores don't improve for 50 rounds\n",
      "Early stopping, best iteration is:\n",
      "[34]\tvalid_0's l2: 0.0230637\n",
      "Training until validation scores don't improve for 50 rounds\n",
      "Early stopping, best iteration is:\n",
      "[1259]\tvalid_0's l2: 0.0208621\n",
      "Training until validation scores don't improve for 50 rounds\n",
      "Early stopping, best iteration is:\n",
      "[784]\tvalid_0's l2: 0.022656\n",
      "Training until validation scores don't improve for 50 rounds\n",
      "Early stopping, best iteration is:\n",
      "[186]\tvalid_0's l2: 0.0228328\n",
      "Training until validation scores don't improve for 50 rounds\n",
      "Early stopping, best iteration is:\n",
      "[56]\tvalid_0's l2: 0.0231424\n",
      "Training until validation scores don't improve for 50 rounds\n",
      "Early stopping, best iteration is:\n",
      "[971]\tvalid_0's l2: 0.0219284\n",
      "Training until validation scores don't improve for 50 rounds\n",
      "Early stopping, best iteration is:\n",
      "[1402]\tvalid_0's l2: 0.0234732\n",
      "Training until validation scores don't improve for 50 rounds\n",
      "Early stopping, best iteration is:\n",
      "[1934]\tvalid_0's l2: 0.021909\n",
      "Training until validation scores don't improve for 50 rounds\n",
      "Early stopping, best iteration is:\n",
      "[1513]\tvalid_0's l2: 0.0220667\n",
      "Training until validation scores don't improve for 50 rounds\n",
      "Early stopping, best iteration is:\n",
      "[1157]\tvalid_0's l2: 0.0211538\n",
      "Training until validation scores don't improve for 50 rounds\n",
      "Early stopping, best iteration is:\n",
      "[62]\tvalid_0's l2: 0.0212434\n",
      "Training until validation scores don't improve for 50 rounds\n",
      "Early stopping, best iteration is:\n",
      "[90]\tvalid_0's l2: 0.022024\n",
      "Training until validation scores don't improve for 50 rounds\n",
      "Early stopping, best iteration is:\n",
      "[138]\tvalid_0's l2: 0.0233787\n",
      "Training until validation scores don't improve for 50 rounds\n",
      "Early stopping, best iteration is:\n",
      "[31]\tvalid_0's l2: 0.0229007\n",
      "Training until validation scores don't improve for 50 rounds\n",
      "Early stopping, best iteration is:\n",
      "[78]\tvalid_0's l2: 0.0225918\n",
      "Training until validation scores don't improve for 50 rounds\n",
      "Early stopping, best iteration is:\n",
      "[23]\tvalid_0's l2: 0.0216553\n",
      "Number of finished trials:  50\n",
      "Best trial:\n",
      "  Value: 0.1443161710132383\n",
      "  Params: \n",
      "    n_estimators: 2000\n",
      "    reg_alpha: 0.05370112344770395\n",
      "    reg_lambda: 0.0018911758500661578\n",
      "    colsample_bytree: 0.8\n",
      "    subsample: 0.6\n",
      "    learning_rate: 0.006\n",
      "    max_depth: 10\n",
      "    num_leaves: 884\n",
      "    min_child_samples: 1\n",
      "    min_data_per_groups: 48\n"
     ]
    }
   ],
   "source": [
    "X_train, X_test, y_train, y_test = train_test_split(X, y, test_size = 0.2, random_state = 42)\n",
    "\n",
    "optuna.logging.set_verbosity(optuna.logging.WARNING)\n",
    "\n",
    "study = optuna.create_study(direction=\"minimize\")\n",
    "study.optimize(objective, n_trials=50)\n",
    "\n",
    "print(\"Number of finished trials: \", len(study.trials))\n",
    "print(\"Best trial:\")\n",
    "trial = study.best_trial\n",
    "\n",
    "hp = study.best_params\n",
    "print(\"  Value: {}\".format(trial.value))\n",
    "print(\"  Params: \")\n",
    "\n",
    "for key, value in trial.params.items():\n",
    "    print(\"    {}: {}\".format(key, value))\n",
    "\n",
    "lgbm_model = lgbm.LGBMRegressor(**hp)\n",
    "\n"
   ]
  },
  {
   "cell_type": "code",
   "execution_count": 19,
   "id": "47645e94",
   "metadata": {},
   "outputs": [
    {
     "name": "stdout",
     "output_type": "stream",
     "text": [
      "[LightGBM] [Warning] Unknown parameter: min_data_per_groups\n",
      "Training until validation scores don't improve for 50 rounds\n",
      "Early stopping, best iteration is:\n",
      "[770]\tvalid_0's l2: 0.0208851\n"
     ]
    }
   ],
   "source": [
    "lgbm_model.fit(X_train, y_train, eval_set=[(X_test, y_test)],callbacks=[lgbm.early_stopping(stopping_rounds=50)])\n",
    "y_pred_lgbm = lgbm_model.predict(X_test)"
   ]
  },
  {
   "cell_type": "code",
   "execution_count": 20,
   "id": "01dd8b8a",
   "metadata": {},
   "outputs": [],
   "source": [
    "test_set = pd.merge(base[[\"ingreso_neto_comprobado\",\"net_income_verified\"]], y_test, left_index=True,right_index=True, how=\"inner\")"
   ]
  },
  {
   "cell_type": "code",
   "execution_count": 21,
   "id": "1d705c5e",
   "metadata": {},
   "outputs": [],
   "source": [
    "test_set = test_set.join(pd.Series(y_pred_lgbm, index=y_test.index,name=\"y_pred\"))\n"
   ]
  },
  {
   "cell_type": "code",
   "execution_count": 22,
   "id": "5cf4180d",
   "metadata": {},
   "outputs": [],
   "source": [
    "test_set[\"pred\"] = test_set[\"net_income_verified\"]*test_set[\"y_pred\"]"
   ]
  },
  {
   "cell_type": "code",
   "execution_count": 23,
   "id": "51b9673d",
   "metadata": {},
   "outputs": [
    {
     "data": {
      "text/plain": [
       "0.15265498223735516"
      ]
     },
     "execution_count": 23,
     "metadata": {},
     "output_type": "execute_result"
    }
   ],
   "source": [
    "MAPE(test_set[\"ingreso_neto_comprobado\"],test_set[\"pred\"])"
   ]
  },
  {
   "cell_type": "code",
   "execution_count": 24,
   "id": "bf4a694a",
   "metadata": {},
   "outputs": [],
   "source": [
    "name = \"%_validated\"\n",
    "write_pickle(\"s3://data-science-kavak-dev/projects/cerberus/v2/dev/income/models/\"+f\"{name}_model.pkl\",lgbm_model)"
   ]
  },
  {
   "cell_type": "markdown",
   "id": "4af379f1",
   "metadata": {},
   "source": [
    "## Modelo declarado con clip"
   ]
  },
  {
   "cell_type": "code",
   "execution_count": 25,
   "id": "d38639ec",
   "metadata": {},
   "outputs": [],
   "source": [
    "to_drop = ['estimate','researchable_id', 'declarativa' ]\n",
    "target = [\"ingreso_neto_comprobado\"]"
   ]
  },
  {
   "cell_type": "code",
   "execution_count": 26,
   "id": "3916bc5e",
   "metadata": {},
   "outputs": [],
   "source": [
    "base_clip = base.copy()\n",
    "base_clip = base.query(\"ingreso_neto_comprobado > 4000 & ingreso_neto_comprobado < 100000\")"
   ]
  },
  {
   "cell_type": "code",
   "execution_count": 27,
   "id": "259ba2b1",
   "metadata": {},
   "outputs": [],
   "source": [
    "to_drop = to_drop + [\"ingreso_neto_comprobado\"]\n",
    "columnas = [col for col in base_clip.columns if col not in to_drop]\n",
    "X = base_clip[columnas]\n",
    "y = base_clip[target]"
   ]
  },
  {
   "cell_type": "code",
   "execution_count": 28,
   "id": "1f726615",
   "metadata": {},
   "outputs": [
    {
     "name": "stdout",
     "output_type": "stream",
     "text": [
      "Training until validation scores don't improve for 50 rounds\n",
      "Early stopping, best iteration is:\n",
      "[212]\tvalid_0's l2: 4.63613e+07\n",
      "Training until validation scores don't improve for 50 rounds\n",
      "Early stopping, best iteration is:\n",
      "[517]\tvalid_0's l2: 4.77411e+07\n",
      "Training until validation scores don't improve for 50 rounds\n",
      "Early stopping, best iteration is:\n",
      "[877]\tvalid_0's l2: 4.44698e+07\n",
      "Training until validation scores don't improve for 50 rounds\n",
      "Early stopping, best iteration is:\n",
      "[432]\tvalid_0's l2: 4.79924e+07\n",
      "Training until validation scores don't improve for 50 rounds\n",
      "Early stopping, best iteration is:\n",
      "[871]\tvalid_0's l2: 4.30028e+07\n",
      "Training until validation scores don't improve for 50 rounds\n",
      "Early stopping, best iteration is:\n",
      "[567]\tvalid_0's l2: 4.71803e+07\n",
      "Training until validation scores don't improve for 50 rounds\n",
      "Early stopping, best iteration is:\n",
      "[842]\tvalid_0's l2: 4.77246e+07\n",
      "Training until validation scores don't improve for 50 rounds\n",
      "Did not meet early stopping. Best iteration is:\n",
      "[1960]\tvalid_0's l2: 4.81558e+07\n",
      "Training until validation scores don't improve for 50 rounds\n",
      "Early stopping, best iteration is:\n",
      "[278]\tvalid_0's l2: 4.50966e+07\n",
      "Training until validation scores don't improve for 50 rounds\n",
      "Early stopping, best iteration is:\n",
      "[247]\tvalid_0's l2: 4.62094e+07\n",
      "Training until validation scores don't improve for 50 rounds\n",
      "Did not meet early stopping. Best iteration is:\n",
      "[997]\tvalid_0's l2: 4.29462e+07\n",
      "Training until validation scores don't improve for 50 rounds\n",
      "Did not meet early stopping. Best iteration is:\n",
      "[998]\tvalid_0's l2: 4.36078e+07\n",
      "Training until validation scores don't improve for 50 rounds\n",
      "Early stopping, best iteration is:\n",
      "[859]\tvalid_0's l2: 4.36203e+07\n",
      "Training until validation scores don't improve for 50 rounds\n",
      "Did not meet early stopping. Best iteration is:\n",
      "[1000]\tvalid_0's l2: 4.4124e+07\n",
      "Training until validation scores don't improve for 50 rounds\n",
      "Early stopping, best iteration is:\n",
      "[1049]\tvalid_0's l2: 4.51428e+07\n",
      "Training until validation scores don't improve for 50 rounds\n",
      "Early stopping, best iteration is:\n",
      "[480]\tvalid_0's l2: 4.77831e+07\n",
      "Training until validation scores don't improve for 50 rounds\n",
      "Early stopping, best iteration is:\n",
      "[296]\tvalid_0's l2: 4.40068e+07\n",
      "Training until validation scores don't improve for 50 rounds\n",
      "Early stopping, best iteration is:\n",
      "[920]\tvalid_0's l2: 4.38101e+07\n",
      "Training until validation scores don't improve for 50 rounds\n",
      "Early stopping, best iteration is:\n",
      "[320]\tvalid_0's l2: 4.49194e+07\n",
      "Training until validation scores don't improve for 50 rounds\n",
      "Early stopping, best iteration is:\n",
      "[1193]\tvalid_0's l2: 4.78372e+07\n",
      "Training until validation scores don't improve for 50 rounds\n",
      "Early stopping, best iteration is:\n",
      "[438]\tvalid_0's l2: 4.37e+07\n",
      "Training until validation scores don't improve for 50 rounds\n",
      "Did not meet early stopping. Best iteration is:\n",
      "[997]\tvalid_0's l2: 4.35019e+07\n",
      "Training until validation scores don't improve for 50 rounds\n",
      "Early stopping, best iteration is:\n",
      "[877]\tvalid_0's l2: 4.46596e+07\n",
      "Training until validation scores don't improve for 50 rounds\n",
      "Early stopping, best iteration is:\n",
      "[831]\tvalid_0's l2: 4.35108e+07\n",
      "Training until validation scores don't improve for 50 rounds\n",
      "Did not meet early stopping. Best iteration is:\n",
      "[998]\tvalid_0's l2: 4.36385e+07\n",
      "Training until validation scores don't improve for 50 rounds\n",
      "Early stopping, best iteration is:\n",
      "[224]\tvalid_0's l2: 4.55664e+07\n",
      "Training until validation scores don't improve for 50 rounds\n",
      "Early stopping, best iteration is:\n",
      "[323]\tvalid_0's l2: 4.6302e+07\n",
      "Training until validation scores don't improve for 50 rounds\n",
      "Early stopping, best iteration is:\n",
      "[1828]\tvalid_0's l2: 4.51221e+07\n",
      "Training until validation scores don't improve for 50 rounds\n",
      "Early stopping, best iteration is:\n",
      "[312]\tvalid_0's l2: 4.38593e+07\n",
      "Training until validation scores don't improve for 50 rounds\n",
      "Early stopping, best iteration is:\n",
      "[161]\tvalid_0's l2: 4.44503e+07\n",
      "Training until validation scores don't improve for 50 rounds\n",
      "Early stopping, best iteration is:\n",
      "[1124]\tvalid_0's l2: 4.65606e+07\n",
      "Training until validation scores don't improve for 50 rounds\n",
      "Early stopping, best iteration is:\n",
      "[715]\tvalid_0's l2: 4.37557e+07\n",
      "Training until validation scores don't improve for 50 rounds\n",
      "Early stopping, best iteration is:\n",
      "[570]\tvalid_0's l2: 4.46713e+07\n",
      "Training until validation scores don't improve for 50 rounds\n",
      "Did not meet early stopping. Best iteration is:\n",
      "[968]\tvalid_0's l2: 4.47894e+07\n",
      "Training until validation scores don't improve for 50 rounds\n",
      "Early stopping, best iteration is:\n",
      "[329]\tvalid_0's l2: 4.37453e+07\n",
      "Training until validation scores don't improve for 50 rounds\n",
      "Did not meet early stopping. Best iteration is:\n",
      "[990]\tvalid_0's l2: 4.70393e+07\n",
      "Training until validation scores don't improve for 50 rounds\n",
      "Early stopping, best iteration is:\n",
      "[936]\tvalid_0's l2: 4.40307e+07\n",
      "Training until validation scores don't improve for 50 rounds\n",
      "Did not meet early stopping. Best iteration is:\n",
      "[1000]\tvalid_0's l2: 5.02646e+07\n",
      "Training until validation scores don't improve for 50 rounds\n",
      "Early stopping, best iteration is:\n",
      "[136]\tvalid_0's l2: 4.41354e+07\n",
      "Training until validation scores don't improve for 50 rounds\n",
      "Early stopping, best iteration is:\n",
      "[683]\tvalid_0's l2: 4.57284e+07\n",
      "Training until validation scores don't improve for 50 rounds\n",
      "Early stopping, best iteration is:\n",
      "[1311]\tvalid_0's l2: 4.24927e+07\n",
      "Training until validation scores don't improve for 50 rounds\n",
      "Early stopping, best iteration is:\n",
      "[1115]\tvalid_0's l2: 4.2633e+07\n",
      "Training until validation scores don't improve for 50 rounds\n",
      "Early stopping, best iteration is:\n",
      "[1307]\tvalid_0's l2: 4.24618e+07\n",
      "Training until validation scores don't improve for 50 rounds\n",
      "Early stopping, best iteration is:\n",
      "[1057]\tvalid_0's l2: 4.32e+07\n",
      "Training until validation scores don't improve for 50 rounds\n",
      "Early stopping, best iteration is:\n",
      "[1520]\tvalid_0's l2: 4.31614e+07\n",
      "Training until validation scores don't improve for 50 rounds\n",
      "Early stopping, best iteration is:\n",
      "[134]\tvalid_0's l2: 4.50341e+07\n",
      "Training until validation scores don't improve for 50 rounds\n",
      "Early stopping, best iteration is:\n",
      "[673]\tvalid_0's l2: 4.42992e+07\n",
      "Training until validation scores don't improve for 50 rounds\n",
      "Early stopping, best iteration is:\n",
      "[629]\tvalid_0's l2: 4.43552e+07\n",
      "Training until validation scores don't improve for 50 rounds\n",
      "Early stopping, best iteration is:\n",
      "[543]\tvalid_0's l2: 4.41539e+07\n",
      "Training until validation scores don't improve for 50 rounds\n",
      "Early stopping, best iteration is:\n",
      "[96]\tvalid_0's l2: 4.54826e+07\n",
      "Number of finished trials:  50\n",
      "Best trial:\n",
      "  Value: 6516.2750682099995\n",
      "  Params: \n",
      "    n_estimators: 2500\n",
      "    reg_alpha: 0.4814029110260186\n",
      "    reg_lambda: 6.064959976919902\n",
      "    colsample_bytree: 0.4\n",
      "    subsample: 0.5\n",
      "    learning_rate: 0.02\n",
      "    max_depth: 7\n",
      "    num_leaves: 266\n",
      "    min_child_samples: 11\n",
      "    min_data_per_groups: 95\n"
     ]
    }
   ],
   "source": [
    "X_train, X_test, y_train, y_test = train_test_split(X, y, test_size = 0.2, random_state = 42)\n",
    "optuna.logging.set_verbosity(optuna.logging.WARNING)\n",
    "\n",
    "study = optuna.create_study(direction=\"minimize\")\n",
    "study.optimize(objective, n_trials=50)\n",
    "\n",
    "print(\"Number of finished trials: \", len(study.trials))\n",
    "print(\"Best trial:\")\n",
    "trial = study.best_trial\n",
    "\n",
    "hp = study.best_params\n",
    "print(\"  Value: {}\".format(trial.value))\n",
    "print(\"  Params: \")\n",
    "\n",
    "for key, value in trial.params.items():\n",
    "    print(\"    {}: {}\".format(key, value))\n",
    "\n",
    "lgbm_model = lgbm.LGBMRegressor(**hp)\n",
    "\n"
   ]
  },
  {
   "cell_type": "code",
   "execution_count": 29,
   "id": "4e3dcc93",
   "metadata": {},
   "outputs": [
    {
     "name": "stdout",
     "output_type": "stream",
     "text": [
      "[LightGBM] [Warning] Unknown parameter: min_data_per_groups\n",
      "Training until validation scores don't improve for 50 rounds\n",
      "Early stopping, best iteration is:\n",
      "[1157]\tvalid_0's l2: 4.29108e+07\n"
     ]
    }
   ],
   "source": [
    "lgbm_model.fit(X_train, y_train, eval_set=[(X_test, y_test)],callbacks=[lgbm.early_stopping(stopping_rounds=50)])\n",
    "y_pred_lgbm = lgbm_model.predict(X_test)"
   ]
  },
  {
   "cell_type": "code",
   "execution_count": 30,
   "id": "a6115012",
   "metadata": {},
   "outputs": [
    {
     "data": {
      "text/plain": [
       "0.16269582045710504"
      ]
     },
     "execution_count": 30,
     "metadata": {},
     "output_type": "execute_result"
    }
   ],
   "source": [
    "MAPE(y_test,y_pred_lgbm)"
   ]
  },
  {
   "cell_type": "code",
   "execution_count": 31,
   "id": "95421705",
   "metadata": {},
   "outputs": [],
   "source": [
    "name = \"declarado_final\"\n",
    "write_pickle(\"s3://data-science-kavak-dev/projects/cerberus/v2/dev/income/models/\"+f\"{name}_con_clip_model.pkl\",lgbm_model)"
   ]
  },
  {
   "cell_type": "markdown",
   "id": "4ec551e1",
   "metadata": {},
   "source": [
    "# Modelo declarado sin clip"
   ]
  },
  {
   "cell_type": "code",
   "execution_count": 32,
   "id": "853ebcaa",
   "metadata": {},
   "outputs": [],
   "source": [
    "df = df[df[\"net_income_verified\"]>=df[\"ingreso_neto_comprobado\"]]"
   ]
  },
  {
   "cell_type": "code",
   "execution_count": 33,
   "id": "dfc2a723",
   "metadata": {},
   "outputs": [],
   "source": [
    "to_drop = ['estimate','researchable_id', 'declarativa' ]\n",
    "target = [\"target\"]"
   ]
  },
  {
   "cell_type": "code",
   "execution_count": 34,
   "id": "e8639814",
   "metadata": {},
   "outputs": [],
   "source": [
    "to_drop = ['estimate','researchable_id', 'declarativa' ]\n",
    "target = [\"ingreso_neto_comprobado\"]"
   ]
  },
  {
   "cell_type": "code",
   "execution_count": 35,
   "id": "15276666",
   "metadata": {},
   "outputs": [
    {
     "data": {
      "text/plain": [
       "count      8292.00\n",
       "mean      35321.61\n",
       "std       33582.38\n",
       "min        5000.00\n",
       "25%       15642.00\n",
       "50%       24000.00\n",
       "75%       40000.00\n",
       "max      290000.00\n",
       "Name: ingreso_neto_comprobado, dtype: float64"
      ]
     },
     "execution_count": 35,
     "metadata": {},
     "output_type": "execute_result"
    }
   ],
   "source": [
    "df[\"ingreso_neto_comprobado\"].describe().round(2)"
   ]
  },
  {
   "cell_type": "code",
   "execution_count": 36,
   "id": "78f74202",
   "metadata": {},
   "outputs": [],
   "source": [
    "to_drop = to_drop + [\"ingreso_neto_comprobado\"]\n",
    "columnas = [col for col in df.columns if col not in to_drop]\n",
    "X = df[columnas]\n",
    "y = df[target]"
   ]
  },
  {
   "cell_type": "code",
   "execution_count": 37,
   "id": "c033bd26",
   "metadata": {},
   "outputs": [
    {
     "name": "stdout",
     "output_type": "stream",
     "text": [
      "Training until validation scores don't improve for 50 rounds\n",
      "Early stopping, best iteration is:\n",
      "[847]\tvalid_0's l2: 1.06581e+08\n",
      "Training until validation scores don't improve for 50 rounds\n",
      "Early stopping, best iteration is:\n",
      "[181]\tvalid_0's l2: 1.05008e+08\n",
      "Training until validation scores don't improve for 50 rounds\n",
      "Early stopping, best iteration is:\n",
      "[342]\tvalid_0's l2: 1.02034e+08\n",
      "Training until validation scores don't improve for 50 rounds\n",
      "Early stopping, best iteration is:\n",
      "[694]\tvalid_0's l2: 1.1695e+08\n",
      "Training until validation scores don't improve for 50 rounds\n",
      "Early stopping, best iteration is:\n",
      "[618]\tvalid_0's l2: 8.3167e+07\n",
      "Training until validation scores don't improve for 50 rounds\n",
      "Early stopping, best iteration is:\n",
      "[99]\tvalid_0's l2: 1.17359e+08\n",
      "Training until validation scores don't improve for 50 rounds\n",
      "Early stopping, best iteration is:\n",
      "[874]\tvalid_0's l2: 1.04884e+08\n",
      "Training until validation scores don't improve for 50 rounds\n",
      "Early stopping, best iteration is:\n",
      "[864]\tvalid_0's l2: 1.19825e+08\n",
      "Training until validation scores don't improve for 50 rounds\n",
      "Early stopping, best iteration is:\n",
      "[363]\tvalid_0's l2: 1.09253e+08\n",
      "Training until validation scores don't improve for 50 rounds\n",
      "Early stopping, best iteration is:\n",
      "[237]\tvalid_0's l2: 1.22391e+08\n",
      "Training until validation scores don't improve for 50 rounds\n",
      "Early stopping, best iteration is:\n",
      "[899]\tvalid_0's l2: 8.59437e+07\n",
      "Training until validation scores don't improve for 50 rounds\n",
      "Early stopping, best iteration is:\n",
      "[939]\tvalid_0's l2: 8.78677e+07\n",
      "Training until validation scores don't improve for 50 rounds\n",
      "Early stopping, best iteration is:\n",
      "[2448]\tvalid_0's l2: 9.26667e+07\n",
      "Training until validation scores don't improve for 50 rounds\n",
      "Did not meet early stopping. Best iteration is:\n",
      "[1000]\tvalid_0's l2: 1.53451e+08\n",
      "Training until validation scores don't improve for 50 rounds\n",
      "Early stopping, best iteration is:\n",
      "[781]\tvalid_0's l2: 1.00441e+08\n",
      "Training until validation scores don't improve for 50 rounds\n",
      "Early stopping, best iteration is:\n",
      "[586]\tvalid_0's l2: 1.02621e+08\n",
      "Training until validation scores don't improve for 50 rounds\n",
      "Early stopping, best iteration is:\n",
      "[893]\tvalid_0's l2: 1.08891e+08\n",
      "Training until validation scores don't improve for 50 rounds\n",
      "Early stopping, best iteration is:\n",
      "[140]\tvalid_0's l2: 1.06701e+08\n",
      "Training until validation scores don't improve for 50 rounds\n",
      "Early stopping, best iteration is:\n",
      "[124]\tvalid_0's l2: 1.15048e+08\n",
      "Training until validation scores don't improve for 50 rounds\n",
      "Did not meet early stopping. Best iteration is:\n",
      "[981]\tvalid_0's l2: 1.03465e+08\n",
      "Training until validation scores don't improve for 50 rounds\n",
      "Early stopping, best iteration is:\n",
      "[1707]\tvalid_0's l2: 1.17852e+08\n",
      "Training until validation scores don't improve for 50 rounds\n",
      "Early stopping, best iteration is:\n",
      "[984]\tvalid_0's l2: 8.34783e+07\n",
      "Training until validation scores don't improve for 50 rounds\n",
      "Early stopping, best iteration is:\n",
      "[784]\tvalid_0's l2: 1.00892e+08\n",
      "Training until validation scores don't improve for 50 rounds\n",
      "Early stopping, best iteration is:\n",
      "[644]\tvalid_0's l2: 9.71002e+07\n",
      "Training until validation scores don't improve for 50 rounds\n",
      "Early stopping, best iteration is:\n",
      "[1266]\tvalid_0's l2: 1.02724e+08\n",
      "Training until validation scores don't improve for 50 rounds\n",
      "Early stopping, best iteration is:\n",
      "[782]\tvalid_0's l2: 1.05025e+08\n",
      "Training until validation scores don't improve for 50 rounds\n",
      "Early stopping, best iteration is:\n",
      "[174]\tvalid_0's l2: 1.05545e+08\n",
      "Training until validation scores don't improve for 50 rounds\n",
      "Early stopping, best iteration is:\n",
      "[145]\tvalid_0's l2: 8.68348e+07\n",
      "Training until validation scores don't improve for 50 rounds\n",
      "Early stopping, best iteration is:\n",
      "[138]\tvalid_0's l2: 1.45379e+08\n",
      "Training until validation scores don't improve for 50 rounds\n",
      "Early stopping, best iteration is:\n",
      "[126]\tvalid_0's l2: 1.02594e+08\n",
      "Training until validation scores don't improve for 50 rounds\n",
      "Early stopping, best iteration is:\n",
      "[745]\tvalid_0's l2: 1.025e+08\n",
      "Training until validation scores don't improve for 50 rounds\n",
      "Early stopping, best iteration is:\n",
      "[115]\tvalid_0's l2: 8.60578e+07\n",
      "Training until validation scores don't improve for 50 rounds\n",
      "Early stopping, best iteration is:\n",
      "[150]\tvalid_0's l2: 9.08815e+07\n",
      "Training until validation scores don't improve for 50 rounds\n",
      "Early stopping, best iteration is:\n",
      "[104]\tvalid_0's l2: 9.66991e+07\n",
      "Training until validation scores don't improve for 50 rounds\n",
      "Early stopping, best iteration is:\n",
      "[466]\tvalid_0's l2: 1.16853e+08\n",
      "Training until validation scores don't improve for 50 rounds\n",
      "Early stopping, best iteration is:\n",
      "[186]\tvalid_0's l2: 1.05225e+08\n",
      "Training until validation scores don't improve for 50 rounds\n",
      "Early stopping, best iteration is:\n",
      "[694]\tvalid_0's l2: 8.73167e+07\n",
      "Training until validation scores don't improve for 50 rounds\n",
      "Early stopping, best iteration is:\n",
      "[84]\tvalid_0's l2: 1.10591e+08\n",
      "Training until validation scores don't improve for 50 rounds\n",
      "Early stopping, best iteration is:\n",
      "[902]\tvalid_0's l2: 1.09792e+08\n",
      "Training until validation scores don't improve for 50 rounds\n",
      "Early stopping, best iteration is:\n",
      "[1305]\tvalid_0's l2: 1.09642e+08\n",
      "Training until validation scores don't improve for 50 rounds\n",
      "Did not meet early stopping. Best iteration is:\n",
      "[1972]\tvalid_0's l2: 1.50133e+08\n",
      "Training until validation scores don't improve for 50 rounds\n",
      "Early stopping, best iteration is:\n",
      "[226]\tvalid_0's l2: 9.54151e+07\n",
      "Training until validation scores don't improve for 50 rounds\n",
      "Early stopping, best iteration is:\n",
      "[107]\tvalid_0's l2: 8.56142e+07\n",
      "Training until validation scores don't improve for 50 rounds\n",
      "Early stopping, best iteration is:\n",
      "[105]\tvalid_0's l2: 1.00435e+08\n",
      "Training until validation scores don't improve for 50 rounds\n",
      "Early stopping, best iteration is:\n",
      "[102]\tvalid_0's l2: 8.6135e+07\n",
      "Training until validation scores don't improve for 50 rounds\n",
      "Early stopping, best iteration is:\n",
      "[234]\tvalid_0's l2: 1.08593e+08\n",
      "Training until validation scores don't improve for 50 rounds\n",
      "Early stopping, best iteration is:\n",
      "[46]\tvalid_0's l2: 9.95763e+07\n",
      "Training until validation scores don't improve for 50 rounds\n",
      "Early stopping, best iteration is:\n",
      "[863]\tvalid_0's l2: 8.3256e+07\n",
      "Training until validation scores don't improve for 50 rounds\n",
      "Early stopping, best iteration is:\n",
      "[1557]\tvalid_0's l2: 1.19327e+08\n",
      "Training until validation scores don't improve for 50 rounds\n",
      "Early stopping, best iteration is:\n",
      "[961]\tvalid_0's l2: 1.00439e+08\n",
      "Number of finished trials:  50\n",
      "Best trial:\n",
      "  Value: 9119.592000271308\n",
      "  Params: \n",
      "    n_estimators: 1000\n",
      "    reg_alpha: 2.391194054712362\n",
      "    reg_lambda: 0.014988357762580165\n",
      "    colsample_bytree: 1.0\n",
      "    subsample: 0.6\n",
      "    learning_rate: 0.006\n",
      "    max_depth: 7\n",
      "    num_leaves: 328\n",
      "    min_child_samples: 11\n",
      "    min_data_per_groups: 80\n"
     ]
    }
   ],
   "source": [
    "X_train, X_test, y_train, y_test = train_test_split(X, y, test_size = 0.2, random_state = 42)\n",
    "optuna.logging.set_verbosity(optuna.logging.WARNING)\n",
    "\n",
    "study = optuna.create_study(direction=\"minimize\")\n",
    "study.optimize(objective, n_trials=50)\n",
    "\n",
    "print(\"Number of finished trials: \", len(study.trials))\n",
    "print(\"Best trial:\")\n",
    "trial = study.best_trial\n",
    "\n",
    "hp = study.best_params\n",
    "print(\"  Value: {}\".format(trial.value))\n",
    "print(\"  Params: \")\n",
    "\n",
    "for key, value in trial.params.items():\n",
    "    print(\"    {}: {}\".format(key, value))\n",
    "\n",
    "lgbm_model = lgbm.LGBMRegressor(**hp)\n",
    "\n"
   ]
  },
  {
   "cell_type": "code",
   "execution_count": 38,
   "id": "c2e5a467",
   "metadata": {},
   "outputs": [
    {
     "name": "stdout",
     "output_type": "stream",
     "text": [
      "[LightGBM] [Warning] Unknown parameter: min_data_per_groups\n",
      "Training until validation scores don't improve for 50 rounds\n",
      "Early stopping, best iteration is:\n",
      "[618]\tvalid_0's l2: 8.3167e+07\n"
     ]
    }
   ],
   "source": [
    "lgbm_model.fit(X_train, y_train, eval_set=[(X_test, y_test)],callbacks=[lgbm.early_stopping(stopping_rounds=50)])\n",
    "y_pred_lgbm = lgbm_model.predict(X_test)"
   ]
  },
  {
   "cell_type": "code",
   "execution_count": 39,
   "id": "1adbc8dd",
   "metadata": {},
   "outputs": [
    {
     "data": {
      "text/plain": [
       "0.15660925532208383"
      ]
     },
     "execution_count": 39,
     "metadata": {},
     "output_type": "execute_result"
    }
   ],
   "source": [
    "MAPE(y_test,y_pred_lgbm)"
   ]
  },
  {
   "cell_type": "code",
   "execution_count": 40,
   "id": "153300b3",
   "metadata": {},
   "outputs": [],
   "source": [
    "name = \"declarado_sin_clip\"\n",
    "write_pickle(\"s3://data-science-kavak-dev/projects/cerberus/v2/dev/income/models/\"+f\"{name}_model.pkl\",lgbm_model)"
   ]
  },
  {
   "cell_type": "markdown",
   "id": "abd99fb4",
   "metadata": {},
   "source": [
    "# Modelo sin declarado sin clip"
   ]
  },
  {
   "cell_type": "code",
   "execution_count": 41,
   "id": "73130c95",
   "metadata": {},
   "outputs": [],
   "source": [
    "to_drop = ['estimate','researchable_id', 'declarativa' ,\"net_income_verified\"]\n",
    "target = [\"ingreso_neto_comprobado\"]"
   ]
  },
  {
   "cell_type": "code",
   "execution_count": 42,
   "id": "c23571b9",
   "metadata": {},
   "outputs": [
    {
     "data": {
      "text/plain": [
       "count      8292.00\n",
       "mean      35321.61\n",
       "std       33582.38\n",
       "min        5000.00\n",
       "25%       15642.00\n",
       "50%       24000.00\n",
       "75%       40000.00\n",
       "max      290000.00\n",
       "Name: ingreso_neto_comprobado, dtype: float64"
      ]
     },
     "execution_count": 42,
     "metadata": {},
     "output_type": "execute_result"
    }
   ],
   "source": [
    "df[\"ingreso_neto_comprobado\"].describe().round(2)"
   ]
  },
  {
   "cell_type": "code",
   "execution_count": 43,
   "id": "a4460f56",
   "metadata": {},
   "outputs": [],
   "source": [
    "to_drop = to_drop + [\"ingreso_neto_comprobado\"]\n",
    "columnas = [col for col in base.columns if col not in to_drop]\n",
    "X = df[columnas]\n",
    "y = df[target]"
   ]
  },
  {
   "cell_type": "code",
   "execution_count": 44,
   "id": "e5398f0c",
   "metadata": {},
   "outputs": [
    {
     "name": "stdout",
     "output_type": "stream",
     "text": [
      "Training until validation scores don't improve for 50 rounds\n",
      "Did not meet early stopping. Best iteration is:\n",
      "[2000]\tvalid_0's l2: 6.79136e+08\n",
      "Training until validation scores don't improve for 50 rounds\n",
      "Did not meet early stopping. Best iteration is:\n",
      "[3999]\tvalid_0's l2: 6.79029e+08\n",
      "Training until validation scores don't improve for 50 rounds\n",
      "Did not meet early stopping. Best iteration is:\n",
      "[1497]\tvalid_0's l2: 7.12489e+08\n",
      "Training until validation scores don't improve for 50 rounds\n",
      "Early stopping, best iteration is:\n",
      "[565]\tvalid_0's l2: 5.97637e+08\n",
      "Training until validation scores don't improve for 50 rounds\n",
      "Early stopping, best iteration is:\n",
      "[1117]\tvalid_0's l2: 6.95963e+08\n",
      "Training until validation scores don't improve for 50 rounds\n",
      "Early stopping, best iteration is:\n",
      "[3317]\tvalid_0's l2: 7.36023e+08\n",
      "Training until validation scores don't improve for 50 rounds\n",
      "Did not meet early stopping. Best iteration is:\n",
      "[1000]\tvalid_0's l2: 7.37089e+08\n",
      "Training until validation scores don't improve for 50 rounds\n",
      "Did not meet early stopping. Best iteration is:\n",
      "[5000]\tvalid_0's l2: 6.81704e+08\n",
      "Training until validation scores don't improve for 50 rounds\n",
      "Did not meet early stopping. Best iteration is:\n",
      "[5000]\tvalid_0's l2: 7.35432e+08\n",
      "Training until validation scores don't improve for 50 rounds\n",
      "Early stopping, best iteration is:\n",
      "[326]\tvalid_0's l2: 6.0395e+08\n",
      "Training until validation scores don't improve for 50 rounds\n",
      "Early stopping, best iteration is:\n",
      "[199]\tvalid_0's l2: 5.94955e+08\n",
      "Training until validation scores don't improve for 50 rounds\n",
      "Early stopping, best iteration is:\n",
      "[431]\tvalid_0's l2: 6.00584e+08\n",
      "Training until validation scores don't improve for 50 rounds\n",
      "Early stopping, best iteration is:\n",
      "[760]\tvalid_0's l2: 6.84941e+08\n",
      "Training until validation scores don't improve for 50 rounds\n",
      "Early stopping, best iteration is:\n",
      "[1053]\tvalid_0's l2: 6.6508e+08\n",
      "Training until validation scores don't improve for 50 rounds\n",
      "Early stopping, best iteration is:\n",
      "[783]\tvalid_0's l2: 6.92219e+08\n",
      "Training until validation scores don't improve for 50 rounds\n",
      "Early stopping, best iteration is:\n",
      "[569]\tvalid_0's l2: 6.41842e+08\n",
      "Training until validation scores don't improve for 50 rounds\n",
      "Early stopping, best iteration is:\n",
      "[410]\tvalid_0's l2: 6.75849e+08\n",
      "Training until validation scores don't improve for 50 rounds\n",
      "Did not meet early stopping. Best iteration is:\n",
      "[2999]\tvalid_0's l2: 6.93278e+08\n",
      "Training until validation scores don't improve for 50 rounds\n",
      "Early stopping, best iteration is:\n",
      "[2236]\tvalid_0's l2: 6.70615e+08\n",
      "Training until validation scores don't improve for 50 rounds\n",
      "Did not meet early stopping. Best iteration is:\n",
      "[1000]\tvalid_0's l2: 6.96902e+08\n",
      "Training until validation scores don't improve for 50 rounds\n",
      "Early stopping, best iteration is:\n",
      "[792]\tvalid_0's l2: 6.45344e+08\n",
      "Training until validation scores don't improve for 50 rounds\n",
      "Early stopping, best iteration is:\n",
      "[837]\tvalid_0's l2: 7.65641e+08\n",
      "Training until validation scores don't improve for 50 rounds\n",
      "Early stopping, best iteration is:\n",
      "[87]\tvalid_0's l2: 5.79258e+08\n",
      "Training until validation scores don't improve for 50 rounds\n",
      "Early stopping, best iteration is:\n",
      "[452]\tvalid_0's l2: 6.37102e+08\n",
      "Training until validation scores don't improve for 50 rounds\n",
      "Early stopping, best iteration is:\n",
      "[280]\tvalid_0's l2: 6.86258e+08\n",
      "Training until validation scores don't improve for 50 rounds\n",
      "Did not meet early stopping. Best iteration is:\n",
      "[1000]\tvalid_0's l2: 6.50366e+08\n",
      "Training until validation scores don't improve for 50 rounds\n",
      "Early stopping, best iteration is:\n",
      "[295]\tvalid_0's l2: 6.32223e+08\n",
      "Training until validation scores don't improve for 50 rounds\n",
      "Did not meet early stopping. Best iteration is:\n",
      "[3995]\tvalid_0's l2: 6.87069e+08\n",
      "Training until validation scores don't improve for 50 rounds\n",
      "Early stopping, best iteration is:\n",
      "[218]\tvalid_0's l2: 5.84063e+08\n",
      "Training until validation scores don't improve for 50 rounds\n",
      "Early stopping, best iteration is:\n",
      "[733]\tvalid_0's l2: 6.48202e+08\n",
      "Training until validation scores don't improve for 50 rounds\n",
      "Early stopping, best iteration is:\n",
      "[657]\tvalid_0's l2: 6.21603e+08\n",
      "Training until validation scores don't improve for 50 rounds\n",
      "Early stopping, best iteration is:\n",
      "[271]\tvalid_0's l2: 5.86761e+08\n",
      "Training until validation scores don't improve for 50 rounds\n",
      "Early stopping, best iteration is:\n",
      "[429]\tvalid_0's l2: 6.46853e+08\n",
      "Training until validation scores don't improve for 50 rounds\n",
      "Early stopping, best iteration is:\n",
      "[883]\tvalid_0's l2: 6.62621e+08\n",
      "Training until validation scores don't improve for 50 rounds\n",
      "Did not meet early stopping. Best iteration is:\n",
      "[2000]\tvalid_0's l2: 5.61747e+08\n",
      "Training until validation scores don't improve for 50 rounds\n",
      "Did not meet early stopping. Best iteration is:\n",
      "[1999]\tvalid_0's l2: 6.41662e+08\n",
      "Training until validation scores don't improve for 50 rounds\n",
      "Did not meet early stopping. Best iteration is:\n",
      "[1994]\tvalid_0's l2: 6.99873e+08\n",
      "Training until validation scores don't improve for 50 rounds\n",
      "Did not meet early stopping. Best iteration is:\n",
      "[1997]\tvalid_0's l2: 6.25822e+08\n",
      "Training until validation scores don't improve for 50 rounds\n",
      "Early stopping, best iteration is:\n",
      "[658]\tvalid_0's l2: 6.39806e+08\n",
      "Training until validation scores don't improve for 50 rounds\n",
      "Did not meet early stopping. Best iteration is:\n",
      "[1496]\tvalid_0's l2: 6.80433e+08\n",
      "Training until validation scores don't improve for 50 rounds\n",
      "Early stopping, best iteration is:\n",
      "[1450]\tvalid_0's l2: 7.20313e+08\n",
      "Training until validation scores don't improve for 50 rounds\n",
      "Early stopping, best iteration is:\n",
      "[184]\tvalid_0's l2: 5.63248e+08\n",
      "Training until validation scores don't improve for 50 rounds\n",
      "Early stopping, best iteration is:\n",
      "[257]\tvalid_0's l2: 5.65404e+08\n",
      "Training until validation scores don't improve for 50 rounds\n",
      "Early stopping, best iteration is:\n",
      "[212]\tvalid_0's l2: 5.76163e+08\n",
      "Training until validation scores don't improve for 50 rounds\n",
      "Early stopping, best iteration is:\n",
      "[2572]\tvalid_0's l2: 5.60089e+08\n",
      "Training until validation scores don't improve for 50 rounds\n",
      "Early stopping, best iteration is:\n",
      "[2581]\tvalid_0's l2: 5.65203e+08\n",
      "Training until validation scores don't improve for 50 rounds\n",
      "Early stopping, best iteration is:\n",
      "[3445]\tvalid_0's l2: 5.92218e+08\n",
      "Training until validation scores don't improve for 50 rounds\n",
      "Early stopping, best iteration is:\n",
      "[3928]\tvalid_0's l2: 6.1093e+08\n",
      "Training until validation scores don't improve for 50 rounds\n",
      "Did not meet early stopping. Best iteration is:\n",
      "[4000]\tvalid_0's l2: 6.39859e+08\n",
      "Training until validation scores don't improve for 50 rounds\n",
      "Early stopping, best iteration is:\n",
      "[2382]\tvalid_0's l2: 5.59703e+08\n",
      "Number of finished trials:  50\n",
      "Best trial:\n",
      "  Value: 23658.052228098797\n",
      "  Params: \n",
      "    n_estimators: 4000\n",
      "    reg_alpha: 0.01457354991900925\n",
      "    reg_lambda: 0.16221571349121222\n",
      "    colsample_bytree: 0.4\n",
      "    subsample: 0.8\n",
      "    learning_rate: 0.01\n",
      "    max_depth: 15\n",
      "    num_leaves: 221\n",
      "    min_child_samples: 14\n",
      "    min_data_per_groups: 28\n"
     ]
    }
   ],
   "source": [
    "X_train, X_test, y_train, y_test = train_test_split(X, y, test_size = 0.2, random_state = 42)\n",
    "optuna.logging.set_verbosity(optuna.logging.WARNING)\n",
    "\n",
    "study = optuna.create_study(direction=\"minimize\")\n",
    "study.optimize(objective, n_trials=50)\n",
    "\n",
    "print(\"Number of finished trials: \", len(study.trials))\n",
    "print(\"Best trial:\")\n",
    "trial = study.best_trial\n",
    "\n",
    "hp = study.best_params\n",
    "print(\"  Value: {}\".format(trial.value))\n",
    "print(\"  Params: \")\n",
    "\n",
    "for key, value in trial.params.items():\n",
    "    print(\"    {}: {}\".format(key, value))\n",
    "\n",
    "lgbm_model = lgbm.LGBMRegressor(**hp)\n",
    "\n"
   ]
  },
  {
   "cell_type": "code",
   "execution_count": 45,
   "id": "48197460",
   "metadata": {},
   "outputs": [
    {
     "name": "stdout",
     "output_type": "stream",
     "text": [
      "[LightGBM] [Warning] Unknown parameter: min_data_per_groups\n",
      "Training until validation scores don't improve for 50 rounds\n",
      "Early stopping, best iteration is:\n",
      "[2429]\tvalid_0's l2: 5.60471e+08\n"
     ]
    }
   ],
   "source": [
    "lgbm_model.fit(X_train, y_train, eval_set=[(X_test, y_test)],callbacks=[lgbm.early_stopping(stopping_rounds=50)])\n",
    "y_pred_lgbm = lgbm_model.predict(X_test)"
   ]
  },
  {
   "cell_type": "code",
   "execution_count": 46,
   "id": "4b84778b",
   "metadata": {},
   "outputs": [
    {
     "data": {
      "text/plain": [
       "0.48621439925037385"
      ]
     },
     "execution_count": 46,
     "metadata": {},
     "output_type": "execute_result"
    }
   ],
   "source": [
    "MAPE(y_test,y_pred_lgbm)"
   ]
  },
  {
   "cell_type": "code",
   "execution_count": 47,
   "id": "efe94934",
   "metadata": {},
   "outputs": [],
   "source": [
    "name = \"sin_declarado_sin_clip\"\n",
    "write_pickle(\"s3://data-science-kavak-dev/projects/cerberus/v2/dev/income/models/\"+f\"{name}_model.pkl\",lgbm_model)"
   ]
  },
  {
   "cell_type": "markdown",
   "id": "f14fe442",
   "metadata": {},
   "source": [
    "# Modelo sin declarado con clip"
   ]
  },
  {
   "cell_type": "code",
   "execution_count": 48,
   "id": "b14c028f",
   "metadata": {},
   "outputs": [],
   "source": [
    "to_drop = ['estimate','researchable_id', 'declarativa' ,\"net_income_verified\"]\n",
    "target = [\"ingreso_neto_comprobado\"]"
   ]
  },
  {
   "cell_type": "code",
   "execution_count": 49,
   "id": "939fc3a5",
   "metadata": {},
   "outputs": [
    {
     "data": {
      "text/plain": [
       "count     7771.00\n",
       "mean     28448.69\n",
       "std      18083.28\n",
       "min       5000.00\n",
       "25%      15000.00\n",
       "50%      22000.00\n",
       "75%      35000.00\n",
       "max      99999.00\n",
       "Name: ingreso_neto_comprobado, dtype: float64"
      ]
     },
     "execution_count": 49,
     "metadata": {},
     "output_type": "execute_result"
    }
   ],
   "source": [
    "base_clip[\"ingreso_neto_comprobado\"].describe().round(2)"
   ]
  },
  {
   "cell_type": "code",
   "execution_count": 50,
   "id": "e084ee8c",
   "metadata": {},
   "outputs": [],
   "source": [
    "to_drop = to_drop + [\"ingreso_neto_comprobado\"]\n",
    "columnas = [col for col in base_clip.columns if col not in to_drop]\n",
    "X = base_clip[columnas]\n",
    "y = base_clip[target]"
   ]
  },
  {
   "cell_type": "code",
   "execution_count": 51,
   "id": "96b58854",
   "metadata": {},
   "outputs": [
    {
     "data": {
      "text/plain": [
       "['fecha de apertura de la cuenta más antigua',\n",
       " 'fecha de apertura de la cuenta más reciente',\n",
       " 'fecha de la consulta mas reciente',\n",
       " 'mensaje de alerta',\n",
       " 'moneda del credito',\n",
       " 'nueva direccion en los últimos 60 días',\n",
       " 'número de cuentas',\n",
       " 'número de cuentas cerradas',\n",
       " 'número de cuentas con historial de morosidad',\n",
       " 'número de cuentas con mop = 00',\n",
       " 'número de cuentas con mop = 01',\n",
       " 'número de cuentas con mop = 02',\n",
       " 'número de cuentas con mop = 03',\n",
       " 'número de cuentas con mop = 04',\n",
       " 'número de cuentas con mop = 05',\n",
       " 'número de cuentas con mop = 06',\n",
       " 'número de cuentas con mop = 07',\n",
       " 'número de cuentas con mop = 96',\n",
       " 'número de cuentas con mop = 97',\n",
       " 'número de cuentas con mop = 99',\n",
       " 'número de cuentas con mop = UR',\n",
       " 'número de cuentas con morosidad actual',\n",
       " 'número de cuentas de pagos fijos e hipotecarios',\n",
       " 'número de cuentas en aclaración',\n",
       " 'número de cuentas en despacho de cobranza o administadora de cartera',\n",
       " 'número de cuentas revolventes y sin límite pre-establecido',\n",
       " 'número de solicitudes de consulta',\n",
       " 'número de solicitudes del informe de buró',\n",
       " 'número de solicitudes del informe de buró realizadas por despachos de cobranza o administadora de cartera',\n",
       " 'porcentaje del límite de crédito utilizado para cuentas revolventes y sin límite pre-establecido',\n",
       " 'total de creditos máximos para cuentas revolventes y sin límite pre-establecido',\n",
       " 'total de créditos máximos para cuentas de pagos fijos e hipotecarios',\n",
       " 'total de importe de pago para cuentas de pagos fijos e hipotecarios',\n",
       " 'total de importe pagado para cuentas revolventes y sin límite pre-establecido',\n",
       " 'total de límites de crédito para cuentas revolventes y sin límite pre-establecido',\n",
       " 'total de saldos actuales para cuentas de pagos fijos e hipotecarios',\n",
       " 'total de saldos actuales para cuentas revolventes y sin límite pre-establecido',\n",
       " 'total de saldos vencidos para cuentas de pagos fijos e hipotecarios',\n",
       " 'total de saldos vencidos para cuentas revolventes y sin límite pre-establecido',\n",
       " 'código de razón 1',\n",
       " 'código de razón 2',\n",
       " 'código de razón 3',\n",
       " 'código del score',\n",
       " 'nombre del score',\n",
       " 'valor del score']"
      ]
     },
     "execution_count": 51,
     "metadata": {},
     "output_type": "execute_result"
    }
   ],
   "source": [
    "columnas"
   ]
  },
  {
   "cell_type": "code",
   "execution_count": 52,
   "id": "43b20105",
   "metadata": {},
   "outputs": [
    {
     "name": "stdout",
     "output_type": "stream",
     "text": [
      "Training until validation scores don't improve for 50 rounds\n",
      "Did not meet early stopping. Best iteration is:\n",
      "[3999]\tvalid_0's l2: 1.99259e+08\n",
      "Training until validation scores don't improve for 50 rounds\n",
      "Did not meet early stopping. Best iteration is:\n",
      "[1492]\tvalid_0's l2: 1.8963e+08\n",
      "Training until validation scores don't improve for 50 rounds\n",
      "Early stopping, best iteration is:\n",
      "[978]\tvalid_0's l2: 1.93321e+08\n",
      "Training until validation scores don't improve for 50 rounds\n",
      "Early stopping, best iteration is:\n",
      "[970]\tvalid_0's l2: 1.8878e+08\n",
      "Training until validation scores don't improve for 50 rounds\n",
      "Early stopping, best iteration is:\n",
      "[1094]\tvalid_0's l2: 1.96027e+08\n",
      "Training until validation scores don't improve for 50 rounds\n",
      "Early stopping, best iteration is:\n",
      "[668]\tvalid_0's l2: 1.89604e+08\n",
      "Training until validation scores don't improve for 50 rounds\n",
      "Early stopping, best iteration is:\n",
      "[337]\tvalid_0's l2: 1.91377e+08\n",
      "Training until validation scores don't improve for 50 rounds\n",
      "Early stopping, best iteration is:\n",
      "[627]\tvalid_0's l2: 1.99386e+08\n",
      "Training until validation scores don't improve for 50 rounds\n",
      "Did not meet early stopping. Best iteration is:\n",
      "[1499]\tvalid_0's l2: 1.97962e+08\n",
      "Training until validation scores don't improve for 50 rounds\n",
      "Early stopping, best iteration is:\n",
      "[645]\tvalid_0's l2: 1.94236e+08\n",
      "Training until validation scores don't improve for 50 rounds\n",
      "Did not meet early stopping. Best iteration is:\n",
      "[4998]\tvalid_0's l2: 2.24043e+08\n",
      "Training until validation scores don't improve for 50 rounds\n",
      "Early stopping, best iteration is:\n",
      "[1091]\tvalid_0's l2: 1.8364e+08\n",
      "Training until validation scores don't improve for 50 rounds\n",
      "Early stopping, best iteration is:\n",
      "[498]\tvalid_0's l2: 1.72408e+08\n",
      "Training until validation scores don't improve for 50 rounds\n",
      "Early stopping, best iteration is:\n",
      "[615]\tvalid_0's l2: 1.70201e+08\n",
      "Training until validation scores don't improve for 50 rounds\n",
      "Did not meet early stopping. Best iteration is:\n",
      "[999]\tvalid_0's l2: 1.79731e+08\n",
      "Training until validation scores don't improve for 50 rounds\n",
      "Early stopping, best iteration is:\n",
      "[560]\tvalid_0's l2: 1.72624e+08\n",
      "Training until validation scores don't improve for 50 rounds\n",
      "Early stopping, best iteration is:\n",
      "[1708]\tvalid_0's l2: 1.83429e+08\n",
      "Training until validation scores don't improve for 50 rounds\n",
      "Did not meet early stopping. Best iteration is:\n",
      "[997]\tvalid_0's l2: 2.19237e+08\n",
      "Training until validation scores don't improve for 50 rounds\n",
      "Early stopping, best iteration is:\n",
      "[644]\tvalid_0's l2: 1.73629e+08\n",
      "Training until validation scores don't improve for 50 rounds\n",
      "Early stopping, best iteration is:\n",
      "[1633]\tvalid_0's l2: 1.98024e+08\n",
      "Training until validation scores don't improve for 50 rounds\n",
      "Early stopping, best iteration is:\n",
      "[876]\tvalid_0's l2: 1.97909e+08\n",
      "Training until validation scores don't improve for 50 rounds\n",
      "Early stopping, best iteration is:\n",
      "[508]\tvalid_0's l2: 1.69978e+08\n",
      "Training until validation scores don't improve for 50 rounds\n",
      "Did not meet early stopping. Best iteration is:\n",
      "[1000]\tvalid_0's l2: 1.75701e+08\n",
      "Training until validation scores don't improve for 50 rounds\n",
      "Early stopping, best iteration is:\n",
      "[503]\tvalid_0's l2: 1.68329e+08\n",
      "Training until validation scores don't improve for 50 rounds\n",
      "Early stopping, best iteration is:\n",
      "[666]\tvalid_0's l2: 1.87179e+08\n",
      "Training until validation scores don't improve for 50 rounds\n",
      "Early stopping, best iteration is:\n",
      "[385]\tvalid_0's l2: 1.89154e+08\n",
      "Training until validation scores don't improve for 50 rounds\n",
      "Did not meet early stopping. Best iteration is:\n",
      "[1000]\tvalid_0's l2: 2.14748e+08\n",
      "Training until validation scores don't improve for 50 rounds\n",
      "Did not meet early stopping. Best iteration is:\n",
      "[999]\tvalid_0's l2: 2.10595e+08\n",
      "Training until validation scores don't improve for 50 rounds\n",
      "Did not meet early stopping. Best iteration is:\n",
      "[997]\tvalid_0's l2: 1.81007e+08\n",
      "Training until validation scores don't improve for 50 rounds\n",
      "Did not meet early stopping. Best iteration is:\n",
      "[1000]\tvalid_0's l2: 2.09783e+08\n",
      "Training until validation scores don't improve for 50 rounds\n",
      "Did not meet early stopping. Best iteration is:\n",
      "[996]\tvalid_0's l2: 1.99508e+08\n",
      "Training until validation scores don't improve for 50 rounds\n",
      "Early stopping, best iteration is:\n",
      "[538]\tvalid_0's l2: 1.68906e+08\n",
      "Training until validation scores don't improve for 50 rounds\n",
      "Early stopping, best iteration is:\n",
      "[570]\tvalid_0's l2: 1.6862e+08\n",
      "Training until validation scores don't improve for 50 rounds\n",
      "Early stopping, best iteration is:\n",
      "[863]\tvalid_0's l2: 1.82297e+08\n",
      "Training until validation scores don't improve for 50 rounds\n",
      "Early stopping, best iteration is:\n",
      "[816]\tvalid_0's l2: 1.8595e+08\n",
      "Training until validation scores don't improve for 50 rounds\n",
      "Early stopping, best iteration is:\n",
      "[3292]\tvalid_0's l2: 1.79637e+08\n",
      "Training until validation scores don't improve for 50 rounds\n",
      "Early stopping, best iteration is:\n",
      "[590]\tvalid_0's l2: 1.90937e+08\n",
      "Training until validation scores don't improve for 50 rounds\n",
      "Early stopping, best iteration is:\n",
      "[776]\tvalid_0's l2: 1.86112e+08\n",
      "Training until validation scores don't improve for 50 rounds\n",
      "Early stopping, best iteration is:\n",
      "[611]\tvalid_0's l2: 1.81253e+08\n",
      "Training until validation scores don't improve for 50 rounds\n",
      "Early stopping, best iteration is:\n",
      "[508]\tvalid_0's l2: 2.00066e+08\n",
      "Training until validation scores don't improve for 50 rounds\n",
      "Early stopping, best iteration is:\n",
      "[562]\tvalid_0's l2: 1.77246e+08\n",
      "Training until validation scores don't improve for 50 rounds\n",
      "Early stopping, best iteration is:\n",
      "[371]\tvalid_0's l2: 1.708e+08\n",
      "Training until validation scores don't improve for 50 rounds\n",
      "Early stopping, best iteration is:\n",
      "[535]\tvalid_0's l2: 1.70171e+08\n",
      "Training until validation scores don't improve for 50 rounds\n",
      "Early stopping, best iteration is:\n",
      "[825]\tvalid_0's l2: 1.78339e+08\n",
      "Training until validation scores don't improve for 50 rounds\n",
      "Early stopping, best iteration is:\n",
      "[1006]\tvalid_0's l2: 1.89911e+08\n",
      "Training until validation scores don't improve for 50 rounds\n",
      "Early stopping, best iteration is:\n",
      "[1567]\tvalid_0's l2: 1.76978e+08\n",
      "Training until validation scores don't improve for 50 rounds\n",
      "Early stopping, best iteration is:\n",
      "[918]\tvalid_0's l2: 1.83483e+08\n",
      "Training until validation scores don't improve for 50 rounds\n",
      "Did not meet early stopping. Best iteration is:\n",
      "[1499]\tvalid_0's l2: 2.15342e+08\n",
      "Training until validation scores don't improve for 50 rounds\n",
      "Early stopping, best iteration is:\n",
      "[1068]\tvalid_0's l2: 1.90784e+08\n",
      "Training until validation scores don't improve for 50 rounds\n",
      "Early stopping, best iteration is:\n",
      "[331]\tvalid_0's l2: 1.82061e+08\n",
      "Number of finished trials:  50\n",
      "Best trial:\n",
      "  Value: 12974.174877818294\n",
      "  Params: \n",
      "    n_estimators: 1000\n",
      "    reg_alpha: 0.9901540774414911\n",
      "    reg_lambda: 0.008076677799679901\n",
      "    colsample_bytree: 0.6\n",
      "    subsample: 1.0\n",
      "    learning_rate: 0.05\n",
      "    max_depth: 9\n",
      "    num_leaves: 632\n",
      "    min_child_samples: 3\n",
      "    min_data_per_groups: 89\n"
     ]
    }
   ],
   "source": [
    "X_train, X_test, y_train, y_test = train_test_split(X, y, test_size = 0.2, random_state = 42)\n",
    "optuna.logging.set_verbosity(optuna.logging.WARNING)\n",
    "\n",
    "study = optuna.create_study(direction=\"minimize\")\n",
    "study.optimize(objective, n_trials=50)\n",
    "\n",
    "print(\"Number of finished trials: \", len(study.trials))\n",
    "print(\"Best trial:\")\n",
    "trial = study.best_trial\n",
    "\n",
    "hp = study.best_params\n",
    "print(\"  Value: {}\".format(trial.value))\n",
    "print(\"  Params: \")\n",
    "\n",
    "for key, value in trial.params.items():\n",
    "    print(\"    {}: {}\".format(key, value))\n",
    "\n",
    "lgbm_model = lgbm.LGBMRegressor(**hp)\n",
    "\n"
   ]
  },
  {
   "cell_type": "code",
   "execution_count": 53,
   "id": "8c82500e",
   "metadata": {},
   "outputs": [
    {
     "name": "stdout",
     "output_type": "stream",
     "text": [
      "[LightGBM] [Warning] Unknown parameter: min_data_per_groups\n",
      "Training until validation scores don't improve for 50 rounds\n",
      "Early stopping, best iteration is:\n",
      "[661]\tvalid_0's l2: 1.71237e+08\n"
     ]
    }
   ],
   "source": [
    "lgbm_model.fit(X_train, y_train, eval_set=[(X_test, y_test)],callbacks=[lgbm.early_stopping(stopping_rounds=50)])\n",
    "y_pred_lgbm = lgbm_model.predict(X_test)"
   ]
  },
  {
   "cell_type": "code",
   "execution_count": 54,
   "id": "febb8774",
   "metadata": {},
   "outputs": [
    {
     "data": {
      "text/plain": [
       "0.390339108266836"
      ]
     },
     "execution_count": 54,
     "metadata": {},
     "output_type": "execute_result"
    }
   ],
   "source": [
    "MAPE(y_test,y_pred_lgbm)"
   ]
  },
  {
   "cell_type": "code",
   "execution_count": 55,
   "id": "0f6b5a33",
   "metadata": {},
   "outputs": [],
   "source": [
    "name = \"sin_declarado_con_clip\"\n",
    "write_pickle(\"s3://data-science-kavak-dev/projects/cerberus/v2/dev/income/models/\"+f\"{name}_model.pkl\",lgbm_model)"
   ]
  },
  {
   "cell_type": "code",
   "execution_count": null,
   "id": "f01d8a05",
   "metadata": {},
   "outputs": [],
   "source": []
  },
  {
   "cell_type": "markdown",
   "id": "b1da5da1",
   "metadata": {},
   "source": [
    "\n"
   ]
  }
 ],
 "metadata": {
  "kernelspec": {
   "display_name": "conda_python3",
   "language": "python",
   "name": "conda_python3"
  },
  "language_info": {
   "codemirror_mode": {
    "name": "ipython",
    "version": 3
   },
   "file_extension": ".py",
   "mimetype": "text/x-python",
   "name": "python",
   "nbconvert_exporter": "python",
   "pygments_lexer": "ipython3",
   "version": "3.8.12"
  }
 },
 "nbformat": 4,
 "nbformat_minor": 5
}
