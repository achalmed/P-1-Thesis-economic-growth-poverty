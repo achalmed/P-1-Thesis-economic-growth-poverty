{
 "cells": [
  {
   "cell_type": "code",
   "execution_count": 1,
   "id": "7f54afeb",
   "metadata": {},
   "outputs": [],
   "source": [
    "#!pip install lightgbm"
   ]
  },
  {
   "cell_type": "code",
   "execution_count": 2,
   "id": "583293e1",
   "metadata": {},
   "outputs": [],
   "source": [
    "%load_ext autoreload\n",
    "%autoreload 2"
   ]
  },
  {
   "cell_type": "code",
   "execution_count": 3,
   "id": "38031d22",
   "metadata": {},
   "outputs": [],
   "source": [
    "import joblib\n",
    "import warnings\n",
    "warnings.filterwarnings('ignore')\n",
    "\n",
    "import numpy as np\n",
    "import pandas as pd\n",
    "import matplotlib.pyplot as plt\n",
    "import seaborn as sns\n",
    "\n",
    "\n",
    "from sklearn.metrics import mean_squared_error\n",
    "import lightgbm as lgbm\n",
    "from sklearn.metrics import mean_absolute_percentage_error as mape_ska\n",
    "from sklearn.model_selection import train_test_split\n",
    "from evaluation import predict_multiple,ensemble_output\n",
    "\n",
    "pd.set_option('display.max_rows', 300)"
   ]
  },
  {
   "cell_type": "code",
   "execution_count": 4,
   "id": "ad1e6e32",
   "metadata": {},
   "outputs": [],
   "source": [
    "core = pd.read_csv(\"core_with_preds.csv\", index_col=0)"
   ]
  },
  {
   "cell_type": "markdown",
   "id": "b54dc8ed",
   "metadata": {},
   "source": [
    "## Dataset\n",
    "\n",
    "Adjuntamos al dataset original del Core a febrero 2022, la siguientes variables:\n",
    "* Datos del bureau de créditos obtenidos en la simulación. 45 variables (ver Anexo)\n",
    "* net_income_verified: Ingreso declarado en el momento de simulación. Obtenido desde kikoya.\n",
    "* ingreso_neto_comprobado: Ingreso real obtenido desde netsuite.\n",
    "* ML_declarado: ingreso predicho con un modelo que tiene en cuenta net_income_verified\n",
    "* Ml_nodeclardo: ingreso predicho sin esa columna\n",
    "* ML_income: respuesta de nuestra API = MIN(ML_nodeclarado, ML_income, net_income_verified)\n"
   ]
  },
  {
   "cell_type": "code",
   "execution_count": 5,
   "id": "1d6595c8",
   "metadata": {},
   "outputs": [
    {
     "name": "stdout",
     "output_type": "stream",
     "text": [
      "Nuestro dataset esta compuesto por 13793 clientes únicos y 265 variables\n"
     ]
    }
   ],
   "source": [
    "print(f\"Nuestro dataset esta compuesto por {core.Consecutivo.nunique()} clientes únicos y {len(core.columns)} variables\")"
   ]
  },
  {
   "cell_type": "code",
   "execution_count": 6,
   "id": "5fe6f4ba",
   "metadata": {},
   "outputs": [
    {
     "name": "stdout",
     "output_type": "stream",
     "text": [
      "La cantidad de clientes que declaran más son 2861 y representan el 20.52% del dataset\n"
     ]
    }
   ],
   "source": [
    "cant_declaran_más= len(core[core.net_income_verified > core.ingreso_neto_comprobado])\n",
    "print(f\"La cantidad de clientes que declaran más son {cant_declaran_más} y representan el {(cant_declaran_más/len(core))*100:.2f}% del dataset\")"
   ]
  },
  {
   "cell_type": "code",
   "execution_count": 7,
   "id": "673eebd6",
   "metadata": {},
   "outputs": [
    {
     "name": "stdout",
     "output_type": "stream",
     "text": [
      "La cantidad de clientes que el Modelo1 sobre estima son 2929 y representan el 21.01% del dataset\n"
     ]
    }
   ],
   "source": [
    "cant_modelo_con_declarado = len(core[core.ML_declarado > core.ingreso_neto_comprobado])\n",
    "print(f\"La cantidad de clientes que el Modelo1 sobre estima son {cant_modelo_con_declarado} y representan el {(cant_modelo_con_declarado/len(core))*100:.2f}% del dataset\")"
   ]
  },
  {
   "cell_type": "code",
   "execution_count": 8,
   "id": "e02732aa",
   "metadata": {},
   "outputs": [
    {
     "name": "stdout",
     "output_type": "stream",
     "text": [
      "La cantidad de clientes que el Modelo2 sobreestima son 7049 y representan el 50.57% del dataset\n"
     ]
    }
   ],
   "source": [
    "cant_modelo_sin = len(core[core.ML_nodeclarado > core.ingreso_neto_comprobado])\n",
    "print(f\"La cantidad de clientes que el Modelo2 sobreestima son {cant_modelo_sin} y representan el {(cant_modelo_sin/len(core))*100:.2f}% del dataset\")"
   ]
  },
  {
   "cell_type": "code",
   "execution_count": 9,
   "id": "1f19a314",
   "metadata": {},
   "outputs": [
    {
     "name": "stdout",
     "output_type": "stream",
     "text": [
      "La cantidad de clientes que el modelofinal sobreestima son 1535 y representan el 11.01% del dataset\n"
     ]
    }
   ],
   "source": [
    "cant_modelo_final = len(core[core.ML_income > core.ingreso_neto_comprobado])\n",
    "print(f\"La cantidad de clientes que el modelofinal sobreestima son {cant_modelo_final} y representan el {(cant_modelo_final/len(core))*100:.2f}% del dataset\")"
   ]
  },
  {
   "cell_type": "markdown",
   "id": "224f2d66",
   "metadata": {},
   "source": [
    "## Ingreso declarado"
   ]
  },
  {
   "cell_type": "markdown",
   "id": "390d80a6",
   "metadata": {},
   "source": [
    "### Construcción de variables para el analisis"
   ]
  },
  {
   "cell_type": "code",
   "execution_count": 10,
   "id": "a05d7e57",
   "metadata": {},
   "outputs": [],
   "source": [
    "select_cap = ['Dependientes','Monto_de_la_mensualidad','BC_Score_',\n",
    " 'Ingreso_',\n",
    " 'Ing_Disp']\n",
    "import re\n",
    "core[\"Ingreso_\"] = core[\"Ingreso_\"].apply(lambda x: re.sub(\"[^\\d\\,]\", \"\", str(x)))\n",
    "core[\"Ing_Disp\"] = core[\"Ing_Disp\"].apply(lambda x: re.sub(\"[^\\d\\,]\", \"\", str(x)))\n",
    "core[\"Ingreso_\"] = [x.replace(',', '.') for x in core[\"Ingreso_\"]]\n",
    "core[\"Ing_Disp\"]= [x.replace(',', '.') for x in core[\"Ing_Disp\"]]\n",
    "core[\"Ingreso_\"] = [x.split(\".\")[0] for x in core[\"Ingreso_\"]]\n",
    "core[\"Ing_Disp\"] = [x.split(\".\")[0] for x in core[\"Ing_Disp\"]]\n",
    "core[\"Ing_Disp\"] = pd.to_numeric(core[\"Ing_Disp\"])\n",
    "core[\"Ingreso_\"]  = pd.to_numeric(core[\"Ingreso_\"])\n",
    "core[\"Dependientes\"] = core[\"Dependientes\"].apply(lambda x: re.sub(\"[^\\w]\", \"\", str(x)))\n",
    "core[\"Dependientes\"] = core[\"Dependientes\"].replace(\"nan\",0)\n",
    "core[\"Dependientes\"] = core[\"Dependientes\"].replace(\"None\",0)\n",
    "core[\"Dependientes\"] = pd.to_numeric(core[\"Dependientes\"])\n",
    "core[\"Dependientes\"]  = core[\"Dependientes\"].fillna(0)\n",
    "core[\"descuentos\"] =  core[\"Ingreso_\"] - core[\"Ing_Disp\"]\n",
    "core[\"Monto_de_la_mensualidad\"] = core[\"Monto_de_la_mensualidad\"].apply(lambda x: re.sub(\"[^\\d\\,]\", \"\", str(x)))\n",
    "core[\"Monto_de_la_mensualidad\"] = [x.replace(',', '.') for x in core[\"Monto_de_la_mensualidad\"]]\n",
    "core[\"Monto_de_la_mensualidad\"] = pd.to_numeric(core[\"Monto_de_la_mensualidad\"])\n"
   ]
  },
  {
   "cell_type": "code",
   "execution_count": 11,
   "id": "fd5a8e19",
   "metadata": {},
   "outputs": [],
   "source": [
    "core['BC_Score_'] = core['BC_Score_'].apply(lambda x: re.sub(\"[^\\d\\,]\", \"\", str(x)))"
   ]
  },
  {
   "cell_type": "code",
   "execution_count": 12,
   "id": "904885bc",
   "metadata": {},
   "outputs": [],
   "source": [
    "core['BC_Score_'] = pd.to_numeric(core['BC_Score_'])"
   ]
  },
  {
   "cell_type": "markdown",
   "id": "fc4174a2",
   "metadata": {},
   "source": [
    "## Capacidad de pago Real\n",
    "\n",
    "<br>"
   ]
  },
  {
   "cell_type": "markdown",
   "id": "400e5e95",
   "metadata": {},
   "source": [
    "$$\n",
    "  \\text{CAP true} = \\frac{\\text{Ingreso real} - 2000*Dependientes - Pagos a Bureau}{Mensualidad}\n",
    "$$"
   ]
  },
  {
   "cell_type": "code",
   "execution_count": 13,
   "id": "f5c87602",
   "metadata": {},
   "outputs": [],
   "source": [
    "core[\"capacidad_pago_real\"] = (core[\"ingreso_neto_comprobado\"] - core['descuentos']) / (core[\"Monto_de_la_mensualidad\"])\n",
    "core[\"CAP_true\"]= np.where((core[\"capacidad_pago_real\"]>=2), 1,0)"
   ]
  },
  {
   "cell_type": "markdown",
   "id": "8c1909c1",
   "metadata": {},
   "source": [
    "## Capacidad de Pago declarada\n",
    "\n",
    "<br>"
   ]
  },
  {
   "cell_type": "code",
   "execution_count": 14,
   "id": "957bbdfd",
   "metadata": {},
   "outputs": [],
   "source": [
    "core[\"capacidad_pago_declarada\"] = (core[\"net_income_verified\"] - core['descuentos'] ) / (core[\"Monto_de_la_mensualidad\"])\n",
    "core[\"CAP_declared\"]= np.where((core[\"capacidad_pago_declarada\"]>=2), 1,0)\n"
   ]
  },
  {
   "cell_type": "markdown",
   "id": "92a982cc",
   "metadata": {},
   "source": [
    "$$\n",
    "  \\text{CAP Declared} = \\frac{\\text{Ingreso Declarado} - 2000*Dependientes - Pagos a Bureau}{Mensualidad}\n",
    "$$"
   ]
  },
  {
   "cell_type": "markdown",
   "id": "7fface9c",
   "metadata": {},
   "source": [
    "## Capacidad de Pago Predicha\n",
    "\n",
    "<br>\n"
   ]
  },
  {
   "cell_type": "markdown",
   "id": "40cb2d49",
   "metadata": {},
   "source": [
    "$$\n",
    "  \\text{CAP pred} = \\frac{\\text{Ingreso Predicho} - 2000*Dependientes - Pagos a Bureau}{Mensualidad}\n",
    "$$"
   ]
  },
  {
   "cell_type": "code",
   "execution_count": 15,
   "id": "8a86966b",
   "metadata": {},
   "outputs": [],
   "source": [
    "core[\"pagos_bureau\"] = core[\"descuentos\"] + 2*core[\"Dependientes\"]"
   ]
  },
  {
   "cell_type": "code",
   "execution_count": 16,
   "id": "9237ffa1",
   "metadata": {},
   "outputs": [],
   "source": [
    "core[\"capacidad_pago_predicha\"] = (core[\"ML_income\"] - core['descuentos']) / (core[\"Monto_de_la_mensualidad\"])\n",
    "core[\"CAP_pred\"]= np.where((core[\"capacidad_pago_predicha\"]>=2), 1,0)"
   ]
  },
  {
   "cell_type": "code",
   "execution_count": 17,
   "id": "e9cd766c",
   "metadata": {},
   "outputs": [],
   "source": [
    "df2 = core.copy()"
   ]
  },
  {
   "cell_type": "code",
   "execution_count": 18,
   "id": "50d3eccf",
   "metadata": {},
   "outputs": [],
   "source": [
    "core[[\"Consecutivo\",\"Monto_de_la_mensualidad\",\"pagos_bureau\",\"Dependientes\",\"net_income_verified\",\"ingreso_neto_comprobado\",\"ML_income\",\"capacidad_pago_declarada\",\"capacidad_pago_real\",\"capacidad_pago_predicha\"]].to_csv(\"variables_cap.csv\")"
   ]
  },
  {
   "cell_type": "code",
   "execution_count": 19,
   "id": "1d618770",
   "metadata": {},
   "outputs": [],
   "source": [
    "\n",
    "df2[\"rule\"]= np.where((df2[\"BC_Score_\"]>=680), 1,0)"
   ]
  },
  {
   "cell_type": "code",
   "execution_count": 20,
   "id": "fcde06df",
   "metadata": {},
   "outputs": [],
   "source": [
    "df2[\"rule\"]= np.where((df2[\"rule\"]==0), \"otros\",\"Perfil_X\")\n"
   ]
  },
  {
   "cell_type": "code",
   "execution_count": 21,
   "id": "07cd8f43",
   "metadata": {},
   "outputs": [],
   "source": [
    "#leer excel de adrian y hacer cruce en otro dataset\n",
    "# agrupar por bins de bureau promedios"
   ]
  },
  {
   "cell_type": "code",
   "execution_count": 61,
   "id": "1932d4bc",
   "metadata": {},
   "outputs": [],
   "source": [
    "adrian = pd.read_csv(\"2022_03_core_preprocesado.csv\")"
   ]
  },
  {
   "cell_type": "code",
   "execution_count": 62,
   "id": "2e1cc684",
   "metadata": {},
   "outputs": [],
   "source": [
    "adrian = adrian[[col for col in adrian.columns if col not in df2.columns]+[\"Consecutivo\"]]"
   ]
  },
  {
   "cell_type": "code",
   "execution_count": 111,
   "id": "0e10f425",
   "metadata": {},
   "outputs": [],
   "source": [
    "df_udo = pd.merge(df2,adrian, how=\"inner\", left_on=\"Consecutivo\", right_on=\"Consecutivo\")"
   ]
  },
  {
   "cell_type": "code",
   "execution_count": 112,
   "id": "4e6f85f7",
   "metadata": {},
   "outputs": [
    {
     "data": {
      "text/plain": [
       "['ingreso_neto_comprobado',\n",
       " 'ingreso_hipotecario',\n",
       " 'ingreso_prestamo',\n",
       " 'ingreso_tdc',\n",
       " 'ingreso_tarjetas_no_bancarias']"
      ]
     },
     "execution_count": 112,
     "metadata": {},
     "output_type": "execute_result"
    }
   ],
   "source": [
    "[col for col in df_udo if \"ing\" in col]"
   ]
  },
  {
   "cell_type": "code",
   "execution_count": 113,
   "id": "c18e3357",
   "metadata": {},
   "outputs": [
    {
     "data": {
      "text/plain": [
       "['ML_declarado', 'ML_nodeclarado', 'ML_income']"
      ]
     },
     "execution_count": 113,
     "metadata": {},
     "output_type": "execute_result"
    }
   ],
   "source": [
    "[col for col in df_udo if \"ML\" in col]"
   ]
  },
  {
   "cell_type": "code",
   "execution_count": 114,
   "id": "732059b2",
   "metadata": {},
   "outputs": [],
   "source": [
    "core[\"max_ML\"] = core[['ML_declarado', 'ML_nodeclarado']].max(axis=1)"
   ]
  },
  {
   "cell_type": "code",
   "execution_count": 115,
   "id": "5097d9b1",
   "metadata": {},
   "outputs": [],
   "source": [
    "core[\"capacidad_max\"] = (core[\"max_ML\"]  - core['descuentos']) / (core[\"Monto_de_la_mensualidad\"])\n",
    "core[\"CAP_max_pred\"]= np.where((core[\"capacidad_pago_predicha\"]>=1.8), 1,0)"
   ]
  },
  {
   "cell_type": "code",
   "execution_count": 116,
   "id": "d4d9fa30",
   "metadata": {},
   "outputs": [],
   "source": [
    "df_udo[\"max_ML\"] = df_udo[['ML_declarado', 'ML_nodeclarado']].max(axis=1)\n",
    "df_udo[\"capacidad_max\"] = (df_udo[\"max_ML\"]  - df_udo['descuentos']) / (df_udo[\"Monto_de_la_mensualidad\"])\n",
    "df_udo[\"CAP_max_pred\"]= np.where((df_udo[\"capacidad_pago_predicha\"]>=1.8), 1,0)"
   ]
  },
  {
   "cell_type": "code",
   "execution_count": 117,
   "id": "d8ea855d",
   "metadata": {},
   "outputs": [],
   "source": [
    "df_udo[\"CAP_max_pred\"]= np.where((df_udo[\"CAP_max_pred\"]==0), \"Desaprobado\",\"Aprobado\")"
   ]
  },
  {
   "cell_type": "markdown",
   "id": "50833850",
   "metadata": {},
   "source": [
    "# Salvando los perfil x"
   ]
  },
  {
   "cell_type": "code",
   "execution_count": 118,
   "id": "624d727f",
   "metadata": {},
   "outputs": [],
   "source": [
    "perfilx = core[core[\"BC_Score_\"]>=680]"
   ]
  },
  {
   "cell_type": "code",
   "execution_count": 119,
   "id": "1488d411",
   "metadata": {},
   "outputs": [
    {
     "data": {
      "text/plain": [
       "339"
      ]
     },
     "execution_count": 119,
     "metadata": {},
     "output_type": "execute_result"
    }
   ],
   "source": [
    "(perfilx[\"CAP_declared\"] == 0).sum()"
   ]
  },
  {
   "cell_type": "code",
   "execution_count": 120,
   "id": "e8fa14d5",
   "metadata": {},
   "outputs": [
    {
     "data": {
      "text/plain": [
       "116"
      ]
     },
     "execution_count": 120,
     "metadata": {},
     "output_type": "execute_result"
    }
   ],
   "source": [
    "len(perfilx[(perfilx[\"CAP_declared\"] == 1) & (perfilx[\"CAP_true\"] == 0)])"
   ]
  },
  {
   "cell_type": "code",
   "execution_count": 121,
   "id": "9ca27167",
   "metadata": {},
   "outputs": [
    {
     "data": {
      "text/plain": [
       "96"
      ]
     },
     "execution_count": 121,
     "metadata": {},
     "output_type": "execute_result"
    }
   ],
   "source": [
    "len(perfilx[(perfilx[\"CAP_declared\"] == 1) & (perfilx[\"CAP_true\"] == 0)& (perfilx[\"CAP_pred\"] == 1)])"
   ]
  },
  {
   "cell_type": "code",
   "execution_count": 122,
   "id": "2f712dab",
   "metadata": {},
   "outputs": [
    {
     "data": {
      "text/plain": [
       "110"
      ]
     },
     "execution_count": 122,
     "metadata": {},
     "output_type": "execute_result"
    }
   ],
   "source": [
    "len(perfilx[(perfilx[\"CAP_declared\"] == 1) & (perfilx[\"CAP_true\"] == 0)& (perfilx[\"CAP_max_pred\"] == 1)])"
   ]
  },
  {
   "cell_type": "code",
   "execution_count": 126,
   "id": "78a81ce1",
   "metadata": {},
   "outputs": [],
   "source": [
    "df_udo[\"real\"] = df_udo[\"ingreso_neto_comprobado\"]"
   ]
  },
  {
   "cell_type": "code",
   "execution_count": 127,
   "id": "1f87c481",
   "metadata": {},
   "outputs": [],
   "source": [
    "del df_udo[\"ingreso_neto_comprobado\"]"
   ]
  },
  {
   "cell_type": "code",
   "execution_count": 128,
   "id": "2deb0820",
   "metadata": {},
   "outputs": [
    {
     "name": "stdout",
     "output_type": "stream",
     "text": [
      "CAP_ingreso_hipotecario\n",
      "14\n",
      "CAP_ingreso_prestamo\n",
      "19\n",
      "CAP_ingreso_tdc\n",
      "33\n",
      "CAP_ingreso_tarjetas_no_bancarias\n",
      "8\n"
     ]
    }
   ],
   "source": [
    "for col in df_udo:\n",
    "    if \"ing\" in col:\n",
    "        df_udo[f\"capacidad_{col}\"] = (df_udo[col] - df_udo['descuentos']) / (df_udo[\"Monto_de_la_mensualidad\"])\n",
    "        df_udo[f\"CAP_{col}\"]= np.where((df_udo[f\"capacidad_{col}\"]>=2), 1,0)\n",
    "        perfilx = df_udo[df_udo[\"BC_Score_\"]>=680]\n",
    "        print(f\"CAP_{col}\")\n",
    "        print(len(perfilx[(perfilx[\"CAP_declared\"] == 1) & (perfilx[\"CAP_true\"] == 0)& (perfilx[f\"CAP_{col}\"] == 1)]))\n",
    "        df_udo[f\"CAP_{col}\"]= np.where((df_udo[f\"CAP_{col}\"]==0), \"Desaprobado\",\"Aprobado\")\n",
    "        "
   ]
  },
  {
   "cell_type": "code",
   "execution_count": 129,
   "id": "df5f843b",
   "metadata": {},
   "outputs": [],
   "source": [
    "df_udo[\"ingreso_neto_comprobado\"] = df_udo[\"real\"] \n",
    "del df_udo[\"real\"]"
   ]
  },
  {
   "cell_type": "code",
   "execution_count": 130,
   "id": "af69a139",
   "metadata": {},
   "outputs": [],
   "source": [
    "#df_udo[\"rule\"]= np.where((df_udo[\"rule\"]==0), \"otros\",\"Perfil_X\")\n",
    "df_udo[\"CAP_true\"]= np.where((df_udo[\"CAP_true\"]==0), \"Desaprobado\",\"Aprobado\")\n",
    "df_udo[\"CAP_declared\"]= np.where((df_udo[\"CAP_declared\"]==0), \"Desaprobado\",\"Aprobado\")\n",
    "df_udo[\"CAP_pred\"]= np.where((df_udo[\"CAP_pred\"]==0), \"Desaprobado\",\"Aprobado\")"
   ]
  },
  {
   "cell_type": "code",
   "execution_count": 131,
   "id": "25c95660",
   "metadata": {},
   "outputs": [],
   "source": [
    "df_udo[\"perfil\"] = df_udo[\"rule\"]"
   ]
  },
  {
   "cell_type": "code",
   "execution_count": 132,
   "id": "a643588a",
   "metadata": {},
   "outputs": [],
   "source": [
    "mask_desaprobado_perfil = (df_udo[\"CAP_true\"] == \"Desaprobado\") & (df_udo[\"perfil\"] == \"Perfil_X\")"
   ]
  },
  {
   "cell_type": "code",
   "execution_count": 133,
   "id": "66d70196",
   "metadata": {},
   "outputs": [
    {
     "data": {
      "text/plain": [
       "116"
      ]
     },
     "execution_count": 133,
     "metadata": {},
     "output_type": "execute_result"
    }
   ],
   "source": [
    "len(df_udo[mask_desaprobado_perfil & (df_udo[\"CAP_declared\"] == \"Aprobado\")])"
   ]
  },
  {
   "cell_type": "code",
   "execution_count": 134,
   "id": "6d1ef94a",
   "metadata": {},
   "outputs": [
    {
     "data": {
      "text/plain": [
       "20"
      ]
     },
     "execution_count": 134,
     "metadata": {},
     "output_type": "execute_result"
    }
   ],
   "source": [
    "declarado_aprovado =  (df_udo[\"CAP_declared\"] == \"Aprobado\") \n",
    "len(df_udo[mask_desaprobado_perfil & declarado_aprovado & (df_udo[\"CAP_pred\"] == \"Desaprobado\")])"
   ]
  },
  {
   "cell_type": "code",
   "execution_count": 135,
   "id": "9b6014a2",
   "metadata": {},
   "outputs": [
    {
     "data": {
      "text/plain": [
       "6"
      ]
     },
     "execution_count": 135,
     "metadata": {},
     "output_type": "execute_result"
    }
   ],
   "source": [
    "len(df_udo[mask_desaprobado_perfil & declarado_aprovado & (df_udo[\"CAP_max_pred\"] == \"Desaprobado\")])"
   ]
  },
  {
   "cell_type": "code",
   "execution_count": 136,
   "id": "97b91ad4",
   "metadata": {},
   "outputs": [
    {
     "data": {
      "text/plain": [
       "116"
      ]
     },
     "execution_count": 136,
     "metadata": {},
     "output_type": "execute_result"
    }
   ],
   "source": [
    "len(df_udo[(df_udo[\"CAP_true\"] == \"Desaprobado\") & (df_udo[\"perfil\"] == \"Perfil_X\")& (df_udo[\"CAP_declared\"] == \"Aprobado\")])"
   ]
  },
  {
   "cell_type": "code",
   "execution_count": 137,
   "id": "88d1c8c8",
   "metadata": {},
   "outputs": [
    {
     "data": {
      "text/plain": [
       "116"
      ]
     },
     "execution_count": 137,
     "metadata": {},
     "output_type": "execute_result"
    }
   ],
   "source": [
    "len(df_udo[(df_udo[\"CAP_true\"] == \"Desaprobado\") & (df_udo[\"perfil\"] == \"Perfil_X\")& (df_udo[\"CAP_declared\"] == \"Aprobado\")])"
   ]
  },
  {
   "cell_type": "code",
   "execution_count": 138,
   "id": "55e18733",
   "metadata": {},
   "outputs": [
    {
     "data": {
      "text/plain": [
       "286"
      ]
     },
     "execution_count": 138,
     "metadata": {},
     "output_type": "execute_result"
    }
   ],
   "source": [
    "len(df_udo[(df_udo[\"CAP_true\"] == \"Desaprobado\") & (df_udo[\"perfil\"] == \"Perfil_X\")& (df_udo[\"CAP_pred\"] == \"Desaprobado\")])"
   ]
  },
  {
   "cell_type": "code",
   "execution_count": 139,
   "id": "eea2f7d3",
   "metadata": {},
   "outputs": [
    {
     "data": {
      "text/plain": [
       "169"
      ]
     },
     "execution_count": 139,
     "metadata": {},
     "output_type": "execute_result"
    }
   ],
   "source": [
    "len(df_udo[(df_udo[\"CAP_true\"] == \"Desaprobado\") & (df_udo[\"perfil\"] == \"Perfil_X\")& (df_udo[\"CAP_max_pred\"] == \"Desaprobado\")])"
   ]
  },
  {
   "cell_type": "code",
   "execution_count": 140,
   "id": "ae2cc064",
   "metadata": {},
   "outputs": [
    {
     "data": {
      "text/plain": [
       "336"
      ]
     },
     "execution_count": 140,
     "metadata": {},
     "output_type": "execute_result"
    }
   ],
   "source": [
    "len(df_udo[(df_udo[\"CAP_true\"] == \"Desaprobado\") & (df_udo[\"perfil\"] == \"Perfil_X\")& (df_udo[\"CAP_ingreso_hipotecario\"] == \"Desaprobado\")])"
   ]
  },
  {
   "cell_type": "code",
   "execution_count": null,
   "id": "024a36df",
   "metadata": {},
   "outputs": [],
   "source": []
  },
  {
   "cell_type": "code",
   "execution_count": 141,
   "id": "2a867c1d",
   "metadata": {},
   "outputs": [],
   "source": [
    "columnas = [col for col in df_udo if \"ing\" in col] + [col for col in df_udo if \"CAP\" in col] + [col for col in df_udo if \"ML\" in col] + [\"net_income_verified\",\"ingreso_neto_comprobado\", \"perfil\"]"
   ]
  },
  {
   "cell_type": "code",
   "execution_count": 142,
   "id": "0ffc65fa",
   "metadata": {},
   "outputs": [],
   "source": [
    "#df_udo.columns"
   ]
  },
  {
   "cell_type": "code",
   "execution_count": 146,
   "id": "775bdec1",
   "metadata": {},
   "outputs": [],
   "source": [
    "ingreso_validado = df_udo[[\"Consecutivo\",\"BC_Score_\",\n",
    "'perfil',\n",
    "'ingreso_neto_comprobado',\n",
    "'net_income_verified',\n",
    "'ML_declarado', \n",
    "'ML_nodeclarado',\n",
    "'ML_income',\n",
    "        'max_ML',\n",
    "        \"CAP_max_pred\",        \n",
    "'ingreso_hipotecario', \n",
    "'ingreso_prestamo',\n",
    "'ingreso_tdc', \n",
    "'ingreso_tarjetas_no_bancarias',\n",
    "'capacidad_ingreso_hipotecario', \n",
    "'CAP_ingreso_hipotecario',\n",
    "'capacidad_ingreso_prestamo', \n",
    "'CAP_ingreso_prestamo',\n",
    "'capacidad_ingreso_tdc', \n",
    "'CAP_ingreso_tdc',\n",
    "'capacidad_ingreso_tarjetas_no_bancarias',\n",
    "'CAP_ingreso_tarjetas_no_bancarias',\n",
    "'CAP_true',\n",
    "'CAP_declared',\n",
    "'CAP_pred',  \n",
    "'CAP_ingreso_hipotecario',\n",
    "'CAP_ingreso_prestamo',\n",
    "'CAP_ingreso_tdc',\n",
    "'CAP_ingreso_tarjetas_no_bancarias']]"
   ]
  },
  {
   "cell_type": "code",
   "execution_count": 147,
   "id": "1173c4ef",
   "metadata": {},
   "outputs": [],
   "source": [
    "capacidad = [col for col in ingreso_validado if \"CAP\" in col and \"declared\" not in col]"
   ]
  },
  {
   "cell_type": "code",
   "execution_count": 148,
   "id": "dcc82efc",
   "metadata": {},
   "outputs": [],
   "source": [
    "ing_cap = ingreso_validado[capacidad]"
   ]
  },
  {
   "cell_type": "code",
   "execution_count": 149,
   "id": "80ec60a3",
   "metadata": {},
   "outputs": [],
   "source": [
    "cols = ing_cap.columns.to_numpy()\n",
    "ingreso_validado[\"Aprobados\"] = [cols[x].tolist() for x in ing_cap.eq('Aprobado').to_numpy()]"
   ]
  },
  {
   "cell_type": "code",
   "execution_count": 150,
   "id": "6ff126d9",
   "metadata": {},
   "outputs": [],
   "source": [
    "ingreso_validado[\"Aprobados\"] = [','.join(map(str, l)) for l in ingreso_validado[\"Aprobados\"]]"
   ]
  },
  {
   "cell_type": "code",
   "execution_count": 151,
   "id": "5311f849",
   "metadata": {},
   "outputs": [
    {
     "data": {
      "text/plain": [
       "0"
      ]
     },
     "execution_count": 151,
     "metadata": {},
     "output_type": "execute_result"
    }
   ],
   "source": [
    "ingreso_validado[\"Aprobados\"].isna().sum()"
   ]
  },
  {
   "cell_type": "code",
   "execution_count": 165,
   "id": "4e5b7f8c",
   "metadata": {},
   "outputs": [],
   "source": [
    "ingreso_validado.to_excel(\"validador_ingresos.xlsx\")\n",
    "       "
   ]
  },
  {
   "cell_type": "code",
   "execution_count": null,
   "id": "13965586",
   "metadata": {},
   "outputs": [],
   "source": []
  },
  {
   "cell_type": "code",
   "execution_count": 153,
   "id": "5c9c9841",
   "metadata": {},
   "outputs": [],
   "source": [
    "perfil = ingreso_validado[ingreso_validado[\"perfil\"] == \"Perfil_X\"]"
   ]
  },
  {
   "cell_type": "code",
   "execution_count": 162,
   "id": "872bacbc",
   "metadata": {},
   "outputs": [],
   "source": [
    "criticos = perfil[(perfil[\"CAP_true\"]==\"Desaprobado\") & (perfil[\"CAP_declared\"]==\"Aprobado\")]"
   ]
  },
  {
   "cell_type": "code",
   "execution_count": 166,
   "id": "f825afac",
   "metadata": {},
   "outputs": [],
   "source": [
    "criticos.to_excel(\"criticos.xlsx\")"
   ]
  },
  {
   "cell_type": "code",
   "execution_count": 157,
   "id": "e58586a3",
   "metadata": {},
   "outputs": [
    {
     "data": {
      "text/html": [
       "<div>\n",
       "<style scoped>\n",
       "    .dataframe tbody tr th:only-of-type {\n",
       "        vertical-align: middle;\n",
       "    }\n",
       "\n",
       "    .dataframe tbody tr th {\n",
       "        vertical-align: top;\n",
       "    }\n",
       "\n",
       "    .dataframe thead th {\n",
       "        text-align: right;\n",
       "    }\n",
       "</style>\n",
       "<table border=\"1\" class=\"dataframe\">\n",
       "  <thead>\n",
       "    <tr style=\"text-align: right;\">\n",
       "      <th></th>\n",
       "      <th>Consecutivo</th>\n",
       "      <th>BC_Score_</th>\n",
       "      <th>perfil</th>\n",
       "      <th>ingreso_neto_comprobado</th>\n",
       "      <th>net_income_verified</th>\n",
       "      <th>ML_declarado</th>\n",
       "      <th>ML_nodeclarado</th>\n",
       "      <th>ML_income</th>\n",
       "      <th>max_ML</th>\n",
       "      <th>CAP_max_pred</th>\n",
       "      <th>...</th>\n",
       "      <th>capacidad_ingreso_tarjetas_no_bancarias</th>\n",
       "      <th>CAP_ingreso_tarjetas_no_bancarias</th>\n",
       "      <th>CAP_true</th>\n",
       "      <th>CAP_declared</th>\n",
       "      <th>CAP_pred</th>\n",
       "      <th>CAP_ingreso_hipotecario</th>\n",
       "      <th>CAP_ingreso_prestamo</th>\n",
       "      <th>CAP_ingreso_tdc</th>\n",
       "      <th>CAP_ingreso_tarjetas_no_bancarias</th>\n",
       "      <th>Aprobados</th>\n",
       "    </tr>\n",
       "  </thead>\n",
       "  <tbody>\n",
       "  </tbody>\n",
       "</table>\n",
       "<p>0 rows × 30 columns</p>\n",
       "</div>"
      ],
      "text/plain": [
       "Empty DataFrame\n",
       "Columns: [Consecutivo, BC_Score_, perfil, ingreso_neto_comprobado, net_income_verified, ML_declarado, ML_nodeclarado, ML_income, max_ML, CAP_max_pred, ingreso_hipotecario, ingreso_prestamo, ingreso_tdc, ingreso_tarjetas_no_bancarias, capacidad_ingreso_hipotecario, CAP_ingreso_hipotecario, capacidad_ingreso_prestamo, CAP_ingreso_prestamo, capacidad_ingreso_tdc, CAP_ingreso_tdc, capacidad_ingreso_tarjetas_no_bancarias, CAP_ingreso_tarjetas_no_bancarias, CAP_true, CAP_declared, CAP_pred, CAP_ingreso_hipotecario, CAP_ingreso_prestamo, CAP_ingreso_tdc, CAP_ingreso_tarjetas_no_bancarias, Aprobados]\n",
       "Index: []\n",
       "\n",
       "[0 rows x 30 columns]"
      ]
     },
     "execution_count": 157,
     "metadata": {},
     "output_type": "execute_result"
    }
   ],
   "source": [
    "perfil[(perfil[\"CAP_true\"] == \"Desaprobado\") & perfil[\"CAP_declared\"]==\"Aprobado\"]"
   ]
  },
  {
   "cell_type": "code",
   "execution_count": 154,
   "id": "1bb0fa0f",
   "metadata": {},
   "outputs": [
    {
     "data": {
      "text/plain": [
       "0        CAP_max_pred,CAP_ingreso_tdc,CAP_ingreso_tdc,C...\n",
       "2                           CAP_max_pred,CAP_true,CAP_pred\n",
       "3        CAP_max_pred,CAP_ingreso_prestamo,CAP_ingreso_...\n",
       "4        CAP_max_pred,CAP_ingreso_hipotecario,CAP_ingre...\n",
       "7        CAP_max_pred,CAP_ingreso_tdc,CAP_ingreso_tdc,C...\n",
       "                               ...                        \n",
       "13928    CAP_max_pred,CAP_ingreso_prestamo,CAP_ingreso_...\n",
       "13930    CAP_max_pred,CAP_ingreso_tdc,CAP_ingreso_tdc,C...\n",
       "13933                       CAP_max_pred,CAP_true,CAP_pred\n",
       "13934                       CAP_max_pred,CAP_true,CAP_pred\n",
       "13938                       CAP_max_pred,CAP_true,CAP_pred\n",
       "Name: Aprobados, Length: 7157, dtype: object"
      ]
     },
     "execution_count": 154,
     "metadata": {},
     "output_type": "execute_result"
    }
   ],
   "source": [
    "perfil[\"Aprobados\"]"
   ]
  },
  {
   "cell_type": "code",
   "execution_count": 104,
   "id": "d3acc8d3",
   "metadata": {},
   "outputs": [
    {
     "data": {
      "text/plain": [
       "array([\"['CAP_max_pred', 'CAP_ingreso_neto_comprobado', 'CAP_ingreso_neto_comprobado', 'CAP_ingreso_tdc', 'CAP_ingreso_tdc', 'CAP_true', 'CAP_pred', 'CAP_ingreso_neto_comprobado', 'CAP_ingreso_neto_comprobado', 'CAP_ingreso_tdc', 'CAP_ingreso_tdc']\",\n",
       "       \"['CAP_max_pred', 'CAP_ingreso_neto_comprobado', 'CAP_ingreso_neto_comprobado', 'CAP_true', 'CAP_pred', 'CAP_ingreso_neto_comprobado', 'CAP_ingreso_neto_comprobado']\",\n",
       "       \"['CAP_max_pred', 'CAP_ingreso_neto_comprobado', 'CAP_ingreso_neto_comprobado', 'CAP_ingreso_prestamo', 'CAP_ingreso_prestamo', 'CAP_ingreso_tdc', 'CAP_ingreso_tdc', 'CAP_ingreso_tarjetas_no_bancarias', 'CAP_ingreso_tarjetas_no_bancarias', 'CAP_true', 'CAP_pred', 'CAP_ingreso_neto_comprobado', 'CAP_ingreso_neto_comprobado', 'CAP_ingreso_prestamo', 'CAP_ingreso_prestamo', 'CAP_ingreso_tdc', 'CAP_ingreso_tdc', 'CAP_ingreso_tarjetas_no_bancarias', 'CAP_ingreso_tarjetas_no_bancarias']\",\n",
       "       \"['CAP_max_pred', 'CAP_ingreso_neto_comprobado', 'CAP_ingreso_neto_comprobado', 'CAP_ingreso_hipotecario', 'CAP_ingreso_hipotecario', 'CAP_ingreso_tdc', 'CAP_ingreso_tdc', 'CAP_true', 'CAP_pred', 'CAP_ingreso_neto_comprobado', 'CAP_ingreso_neto_comprobado', 'CAP_ingreso_hipotecario', 'CAP_ingreso_hipotecario', 'CAP_ingreso_tdc', 'CAP_ingreso_tdc']\",\n",
       "       \"['CAP_max_pred', 'CAP_ingreso_neto_comprobado', 'CAP_ingreso_neto_comprobado', 'CAP_ingreso_tdc', 'CAP_ingreso_tdc', 'CAP_ingreso_tarjetas_no_bancarias', 'CAP_ingreso_tarjetas_no_bancarias', 'CAP_true', 'CAP_pred', 'CAP_ingreso_neto_comprobado', 'CAP_ingreso_neto_comprobado', 'CAP_ingreso_tdc', 'CAP_ingreso_tdc', 'CAP_ingreso_tarjetas_no_bancarias', 'CAP_ingreso_tarjetas_no_bancarias']\",\n",
       "       \"['CAP_max_pred', 'CAP_ingreso_neto_comprobado', 'CAP_ingreso_neto_comprobado', 'CAP_ingreso_hipotecario', 'CAP_ingreso_hipotecario', 'CAP_true', 'CAP_pred', 'CAP_ingreso_neto_comprobado', 'CAP_ingreso_neto_comprobado', 'CAP_ingreso_hipotecario', 'CAP_ingreso_hipotecario']\",\n",
       "       \"['CAP_max_pred', 'CAP_ingreso_neto_comprobado', 'CAP_ingreso_neto_comprobado', 'CAP_ingreso_prestamo', 'CAP_ingreso_prestamo', 'CAP_ingreso_tarjetas_no_bancarias', 'CAP_ingreso_tarjetas_no_bancarias', 'CAP_true', 'CAP_pred', 'CAP_ingreso_neto_comprobado', 'CAP_ingreso_neto_comprobado', 'CAP_ingreso_prestamo', 'CAP_ingreso_prestamo', 'CAP_ingreso_tarjetas_no_bancarias', 'CAP_ingreso_tarjetas_no_bancarias']\",\n",
       "       \"['CAP_ingreso_tdc', 'CAP_ingreso_tdc', 'CAP_ingreso_tarjetas_no_bancarias', 'CAP_ingreso_tarjetas_no_bancarias', 'CAP_ingreso_tdc', 'CAP_ingreso_tdc', 'CAP_ingreso_tarjetas_no_bancarias', 'CAP_ingreso_tarjetas_no_bancarias']\",\n",
       "       \"['CAP_max_pred', 'CAP_ingreso_hipotecario', 'CAP_ingreso_hipotecario', 'CAP_pred', 'CAP_ingreso_hipotecario', 'CAP_ingreso_hipotecario']\",\n",
       "       \"['CAP_max_pred', 'CAP_ingreso_neto_comprobado', 'CAP_ingreso_neto_comprobado', 'CAP_ingreso_prestamo', 'CAP_ingreso_prestamo', 'CAP_ingreso_tdc', 'CAP_ingreso_tdc', 'CAP_true', 'CAP_pred', 'CAP_ingreso_neto_comprobado', 'CAP_ingreso_neto_comprobado', 'CAP_ingreso_prestamo', 'CAP_ingreso_prestamo', 'CAP_ingreso_tdc', 'CAP_ingreso_tdc']\",\n",
       "       \"['CAP_max_pred', 'CAP_ingreso_neto_comprobado', 'CAP_ingreso_neto_comprobado', 'CAP_true', 'CAP_ingreso_neto_comprobado', 'CAP_ingreso_neto_comprobado']\",\n",
       "       \"['CAP_ingreso_neto_comprobado', 'CAP_ingreso_neto_comprobado', 'CAP_true', 'CAP_ingreso_neto_comprobado', 'CAP_ingreso_neto_comprobado']\",\n",
       "       \"['CAP_max_pred', 'CAP_ingreso_neto_comprobado', 'CAP_ingreso_neto_comprobado', 'CAP_ingreso_prestamo', 'CAP_ingreso_prestamo', 'CAP_true', 'CAP_pred', 'CAP_ingreso_neto_comprobado', 'CAP_ingreso_neto_comprobado', 'CAP_ingreso_prestamo', 'CAP_ingreso_prestamo']\",\n",
       "       \"['CAP_ingreso_hipotecario', 'CAP_ingreso_hipotecario', 'CAP_ingreso_hipotecario', 'CAP_ingreso_hipotecario']\",\n",
       "       \"['CAP_max_pred', 'CAP_ingreso_prestamo', 'CAP_ingreso_prestamo', 'CAP_pred', 'CAP_ingreso_prestamo', 'CAP_ingreso_prestamo']\",\n",
       "       \"['CAP_max_pred', 'CAP_pred']\",\n",
       "       \"['CAP_max_pred', 'CAP_ingreso_prestamo', 'CAP_ingreso_prestamo', 'CAP_ingreso_tdc', 'CAP_ingreso_tdc', 'CAP_ingreso_prestamo', 'CAP_ingreso_prestamo', 'CAP_ingreso_tdc', 'CAP_ingreso_tdc']\",\n",
       "       \"['CAP_ingreso_neto_comprobado', 'CAP_ingreso_neto_comprobado', 'CAP_ingreso_tdc', 'CAP_ingreso_tdc', 'CAP_true', 'CAP_ingreso_neto_comprobado', 'CAP_ingreso_neto_comprobado', 'CAP_ingreso_tdc', 'CAP_ingreso_tdc']\",\n",
       "       \"['CAP_max_pred', 'CAP_ingreso_neto_comprobado', 'CAP_ingreso_neto_comprobado', 'CAP_ingreso_prestamo', 'CAP_ingreso_prestamo', 'CAP_true', 'CAP_ingreso_neto_comprobado', 'CAP_ingreso_neto_comprobado', 'CAP_ingreso_prestamo', 'CAP_ingreso_prestamo']\",\n",
       "       \"['CAP_ingreso_neto_comprobado', 'CAP_ingreso_neto_comprobado', 'CAP_ingreso_hipotecario', 'CAP_ingreso_hipotecario', 'CAP_true', 'CAP_ingreso_neto_comprobado', 'CAP_ingreso_neto_comprobado', 'CAP_ingreso_hipotecario', 'CAP_ingreso_hipotecario']\",\n",
       "       \"['CAP_max_pred', 'CAP_ingreso_neto_comprobado', 'CAP_ingreso_neto_comprobado', 'CAP_ingreso_hipotecario', 'CAP_ingreso_hipotecario', 'CAP_ingreso_prestamo', 'CAP_ingreso_prestamo', 'CAP_ingreso_tdc', 'CAP_ingreso_tdc', 'CAP_true', 'CAP_pred', 'CAP_ingreso_neto_comprobado', 'CAP_ingreso_neto_comprobado', 'CAP_ingreso_hipotecario', 'CAP_ingreso_hipotecario', 'CAP_ingreso_prestamo', 'CAP_ingreso_prestamo', 'CAP_ingreso_tdc', 'CAP_ingreso_tdc']\",\n",
       "       \"['CAP_max_pred', 'CAP_ingreso_tdc', 'CAP_ingreso_tdc', 'CAP_ingreso_tdc', 'CAP_ingreso_tdc']\",\n",
       "       \"['CAP_max_pred', 'CAP_ingreso_neto_comprobado', 'CAP_ingreso_neto_comprobado', 'CAP_ingreso_tdc', 'CAP_ingreso_tdc', 'CAP_true', 'CAP_ingreso_neto_comprobado', 'CAP_ingreso_neto_comprobado', 'CAP_ingreso_tdc', 'CAP_ingreso_tdc']\",\n",
       "       \"['CAP_max_pred', 'CAP_ingreso_neto_comprobado', 'CAP_ingreso_neto_comprobado', 'CAP_ingreso_tarjetas_no_bancarias', 'CAP_ingreso_tarjetas_no_bancarias', 'CAP_true', 'CAP_ingreso_neto_comprobado', 'CAP_ingreso_neto_comprobado', 'CAP_ingreso_tarjetas_no_bancarias', 'CAP_ingreso_tarjetas_no_bancarias']\",\n",
       "       \"['CAP_max_pred', 'CAP_ingreso_prestamo', 'CAP_ingreso_prestamo', 'CAP_ingreso_prestamo', 'CAP_ingreso_prestamo']\",\n",
       "       \"['CAP_max_pred', 'CAP_ingreso_neto_comprobado', 'CAP_ingreso_neto_comprobado', 'CAP_ingreso_tarjetas_no_bancarias', 'CAP_ingreso_tarjetas_no_bancarias', 'CAP_true', 'CAP_pred', 'CAP_ingreso_neto_comprobado', 'CAP_ingreso_neto_comprobado', 'CAP_ingreso_tarjetas_no_bancarias', 'CAP_ingreso_tarjetas_no_bancarias']\",\n",
       "       \"['CAP_ingreso_tdc', 'CAP_ingreso_tdc', 'CAP_ingreso_tdc', 'CAP_ingreso_tdc']\",\n",
       "       \"['CAP_max_pred', 'CAP_ingreso_neto_comprobado', 'CAP_ingreso_neto_comprobado', 'CAP_ingreso_hipotecario', 'CAP_ingreso_hipotecario', 'CAP_ingreso_prestamo', 'CAP_ingreso_prestamo', 'CAP_ingreso_tdc', 'CAP_ingreso_tdc', 'CAP_ingreso_tarjetas_no_bancarias', 'CAP_ingreso_tarjetas_no_bancarias', 'CAP_true', 'CAP_pred', 'CAP_ingreso_neto_comprobado', 'CAP_ingreso_neto_comprobado', 'CAP_ingreso_hipotecario', 'CAP_ingreso_hipotecario', 'CAP_ingreso_prestamo', 'CAP_ingreso_prestamo', 'CAP_ingreso_tdc', 'CAP_ingreso_tdc', 'CAP_ingreso_tarjetas_no_bancarias', 'CAP_ingreso_tarjetas_no_bancarias']\",\n",
       "       \"['CAP_ingreso_neto_comprobado', 'CAP_ingreso_neto_comprobado', 'CAP_ingreso_prestamo', 'CAP_ingreso_prestamo', 'CAP_true', 'CAP_ingreso_neto_comprobado', 'CAP_ingreso_neto_comprobado', 'CAP_ingreso_prestamo', 'CAP_ingreso_prestamo']\",\n",
       "       \"['CAP_ingreso_neto_comprobado', 'CAP_ingreso_neto_comprobado', 'CAP_ingreso_tarjetas_no_bancarias', 'CAP_ingreso_tarjetas_no_bancarias', 'CAP_true', 'CAP_ingreso_neto_comprobado', 'CAP_ingreso_neto_comprobado', 'CAP_ingreso_tarjetas_no_bancarias', 'CAP_ingreso_tarjetas_no_bancarias']\",\n",
       "       \"['CAP_max_pred', 'CAP_ingreso_neto_comprobado', 'CAP_ingreso_neto_comprobado', 'CAP_ingreso_hipotecario', 'CAP_ingreso_hipotecario', 'CAP_ingreso_prestamo', 'CAP_ingreso_prestamo', 'CAP_true', 'CAP_ingreso_neto_comprobado', 'CAP_ingreso_neto_comprobado', 'CAP_ingreso_hipotecario', 'CAP_ingreso_hipotecario', 'CAP_ingreso_prestamo', 'CAP_ingreso_prestamo']\",\n",
       "       \"['CAP_ingreso_neto_comprobado', 'CAP_ingreso_neto_comprobado', 'CAP_ingreso_prestamo', 'CAP_ingreso_prestamo', 'CAP_ingreso_tarjetas_no_bancarias', 'CAP_ingreso_tarjetas_no_bancarias', 'CAP_true', 'CAP_ingreso_neto_comprobado', 'CAP_ingreso_neto_comprobado', 'CAP_ingreso_prestamo', 'CAP_ingreso_prestamo', 'CAP_ingreso_tarjetas_no_bancarias', 'CAP_ingreso_tarjetas_no_bancarias']\",\n",
       "       \"['CAP_max_pred', 'CAP_ingreso_neto_comprobado', 'CAP_ingreso_neto_comprobado', 'CAP_ingreso_hipotecario', 'CAP_ingreso_hipotecario', 'CAP_ingreso_prestamo', 'CAP_ingreso_prestamo', 'CAP_true', 'CAP_pred', 'CAP_ingreso_neto_comprobado', 'CAP_ingreso_neto_comprobado', 'CAP_ingreso_hipotecario', 'CAP_ingreso_hipotecario', 'CAP_ingreso_prestamo', 'CAP_ingreso_prestamo']\",\n",
       "       \"['CAP_max_pred']\",\n",
       "       \"['CAP_max_pred', 'CAP_ingreso_neto_comprobado', 'CAP_ingreso_neto_comprobado', 'CAP_ingreso_hipotecario', 'CAP_ingreso_hipotecario', 'CAP_ingreso_tdc', 'CAP_ingreso_tdc', 'CAP_ingreso_tarjetas_no_bancarias', 'CAP_ingreso_tarjetas_no_bancarias', 'CAP_true', 'CAP_pred', 'CAP_ingreso_neto_comprobado', 'CAP_ingreso_neto_comprobado', 'CAP_ingreso_hipotecario', 'CAP_ingreso_hipotecario', 'CAP_ingreso_tdc', 'CAP_ingreso_tdc', 'CAP_ingreso_tarjetas_no_bancarias', 'CAP_ingreso_tarjetas_no_bancarias']\",\n",
       "       \"['CAP_max_pred', 'CAP_ingreso_tdc', 'CAP_ingreso_tdc', 'CAP_pred', 'CAP_ingreso_tdc', 'CAP_ingreso_tdc']\",\n",
       "       '[]',\n",
       "       \"['CAP_max_pred', 'CAP_ingreso_neto_comprobado', 'CAP_ingreso_neto_comprobado', 'CAP_ingreso_hipotecario', 'CAP_ingreso_hipotecario', 'CAP_ingreso_prestamo', 'CAP_ingreso_prestamo', 'CAP_ingreso_tarjetas_no_bancarias', 'CAP_ingreso_tarjetas_no_bancarias', 'CAP_true', 'CAP_pred', 'CAP_ingreso_neto_comprobado', 'CAP_ingreso_neto_comprobado', 'CAP_ingreso_hipotecario', 'CAP_ingreso_hipotecario', 'CAP_ingreso_prestamo', 'CAP_ingreso_prestamo', 'CAP_ingreso_tarjetas_no_bancarias', 'CAP_ingreso_tarjetas_no_bancarias']\",\n",
       "       \"['CAP_max_pred', 'CAP_ingreso_neto_comprobado', 'CAP_ingreso_neto_comprobado', 'CAP_ingreso_prestamo', 'CAP_ingreso_prestamo', 'CAP_ingreso_tdc', 'CAP_ingreso_tdc', 'CAP_true', 'CAP_ingreso_neto_comprobado', 'CAP_ingreso_neto_comprobado', 'CAP_ingreso_prestamo', 'CAP_ingreso_prestamo', 'CAP_ingreso_tdc', 'CAP_ingreso_tdc']\",\n",
       "       \"['CAP_max_pred', 'CAP_ingreso_tarjetas_no_bancarias', 'CAP_ingreso_tarjetas_no_bancarias', 'CAP_pred', 'CAP_ingreso_tarjetas_no_bancarias', 'CAP_ingreso_tarjetas_no_bancarias']\",\n",
       "       \"['CAP_max_pred', 'CAP_ingreso_neto_comprobado', 'CAP_ingreso_neto_comprobado', 'CAP_ingreso_hipotecario', 'CAP_ingreso_hipotecario', 'CAP_ingreso_tarjetas_no_bancarias', 'CAP_ingreso_tarjetas_no_bancarias', 'CAP_true', 'CAP_pred', 'CAP_ingreso_neto_comprobado', 'CAP_ingreso_neto_comprobado', 'CAP_ingreso_hipotecario', 'CAP_ingreso_hipotecario', 'CAP_ingreso_tarjetas_no_bancarias', 'CAP_ingreso_tarjetas_no_bancarias']\",\n",
       "       \"['CAP_max_pred', 'CAP_ingreso_neto_comprobado', 'CAP_ingreso_neto_comprobado', 'CAP_ingreso_prestamo', 'CAP_ingreso_prestamo', 'CAP_ingreso_tarjetas_no_bancarias', 'CAP_ingreso_tarjetas_no_bancarias', 'CAP_true', 'CAP_ingreso_neto_comprobado', 'CAP_ingreso_neto_comprobado', 'CAP_ingreso_prestamo', 'CAP_ingreso_prestamo', 'CAP_ingreso_tarjetas_no_bancarias', 'CAP_ingreso_tarjetas_no_bancarias']\",\n",
       "       \"['CAP_ingreso_neto_comprobado', 'CAP_ingreso_neto_comprobado', 'CAP_ingreso_tdc', 'CAP_ingreso_tdc', 'CAP_ingreso_tarjetas_no_bancarias', 'CAP_ingreso_tarjetas_no_bancarias', 'CAP_true', 'CAP_ingreso_neto_comprobado', 'CAP_ingreso_neto_comprobado', 'CAP_ingreso_tdc', 'CAP_ingreso_tdc', 'CAP_ingreso_tarjetas_no_bancarias', 'CAP_ingreso_tarjetas_no_bancarias']\",\n",
       "       \"['CAP_max_pred', 'CAP_ingreso_hipotecario', 'CAP_ingreso_hipotecario', 'CAP_ingreso_tdc', 'CAP_ingreso_tdc', 'CAP_pred', 'CAP_ingreso_hipotecario', 'CAP_ingreso_hipotecario', 'CAP_ingreso_tdc', 'CAP_ingreso_tdc']\",\n",
       "       \"['CAP_ingreso_neto_comprobado', 'CAP_ingreso_neto_comprobado', 'CAP_ingreso_hipotecario', 'CAP_ingreso_hipotecario', 'CAP_ingreso_prestamo', 'CAP_ingreso_prestamo', 'CAP_ingreso_tdc', 'CAP_ingreso_tdc', 'CAP_true', 'CAP_ingreso_neto_comprobado', 'CAP_ingreso_neto_comprobado', 'CAP_ingreso_hipotecario', 'CAP_ingreso_hipotecario', 'CAP_ingreso_prestamo', 'CAP_ingreso_prestamo', 'CAP_ingreso_tdc', 'CAP_ingreso_tdc']\",\n",
       "       \"['CAP_ingreso_neto_comprobado', 'CAP_ingreso_neto_comprobado', 'CAP_ingreso_hipotecario', 'CAP_ingreso_hipotecario', 'CAP_ingreso_tdc', 'CAP_ingreso_tdc', 'CAP_true', 'CAP_ingreso_neto_comprobado', 'CAP_ingreso_neto_comprobado', 'CAP_ingreso_hipotecario', 'CAP_ingreso_hipotecario', 'CAP_ingreso_tdc', 'CAP_ingreso_tdc']\",\n",
       "       \"['CAP_ingreso_prestamo', 'CAP_ingreso_prestamo', 'CAP_ingreso_prestamo', 'CAP_ingreso_prestamo']\",\n",
       "       \"['CAP_ingreso_neto_comprobado', 'CAP_ingreso_neto_comprobado', 'CAP_ingreso_prestamo', 'CAP_ingreso_prestamo', 'CAP_ingreso_tdc', 'CAP_ingreso_tdc', 'CAP_ingreso_tarjetas_no_bancarias', 'CAP_ingreso_tarjetas_no_bancarias', 'CAP_true', 'CAP_ingreso_neto_comprobado', 'CAP_ingreso_neto_comprobado', 'CAP_ingreso_prestamo', 'CAP_ingreso_prestamo', 'CAP_ingreso_tdc', 'CAP_ingreso_tdc', 'CAP_ingreso_tarjetas_no_bancarias', 'CAP_ingreso_tarjetas_no_bancarias']\",\n",
       "       \"['CAP_ingreso_prestamo', 'CAP_ingreso_prestamo', 'CAP_ingreso_tdc', 'CAP_ingreso_tdc', 'CAP_ingreso_prestamo', 'CAP_ingreso_prestamo', 'CAP_ingreso_tdc', 'CAP_ingreso_tdc']\",\n",
       "       \"['CAP_max_pred', 'CAP_ingreso_neto_comprobado', 'CAP_ingreso_neto_comprobado', 'CAP_ingreso_hipotecario', 'CAP_ingreso_hipotecario', 'CAP_ingreso_tdc', 'CAP_ingreso_tdc', 'CAP_true', 'CAP_ingreso_neto_comprobado', 'CAP_ingreso_neto_comprobado', 'CAP_ingreso_hipotecario', 'CAP_ingreso_hipotecario', 'CAP_ingreso_tdc', 'CAP_ingreso_tdc']\",\n",
       "       \"['CAP_ingreso_hipotecario', 'CAP_ingreso_hipotecario', 'CAP_ingreso_prestamo', 'CAP_ingreso_prestamo', 'CAP_ingreso_hipotecario', 'CAP_ingreso_hipotecario', 'CAP_ingreso_prestamo', 'CAP_ingreso_prestamo']\",\n",
       "       \"['CAP_ingreso_neto_comprobado', 'CAP_ingreso_neto_comprobado', 'CAP_ingreso_hipotecario', 'CAP_ingreso_hipotecario', 'CAP_ingreso_prestamo', 'CAP_ingreso_prestamo', 'CAP_true', 'CAP_ingreso_neto_comprobado', 'CAP_ingreso_neto_comprobado', 'CAP_ingreso_hipotecario', 'CAP_ingreso_hipotecario', 'CAP_ingreso_prestamo', 'CAP_ingreso_prestamo']\",\n",
       "       \"['CAP_max_pred', 'CAP_ingreso_prestamo', 'CAP_ingreso_prestamo', 'CAP_ingreso_tdc', 'CAP_ingreso_tdc', 'CAP_pred', 'CAP_ingreso_prestamo', 'CAP_ingreso_prestamo', 'CAP_ingreso_tdc', 'CAP_ingreso_tdc']\",\n",
       "       \"['CAP_max_pred', 'CAP_ingreso_neto_comprobado', 'CAP_ingreso_neto_comprobado', 'CAP_ingreso_tdc', 'CAP_ingreso_tdc', 'CAP_ingreso_tarjetas_no_bancarias', 'CAP_ingreso_tarjetas_no_bancarias', 'CAP_true', 'CAP_ingreso_neto_comprobado', 'CAP_ingreso_neto_comprobado', 'CAP_ingreso_tdc', 'CAP_ingreso_tdc', 'CAP_ingreso_tarjetas_no_bancarias', 'CAP_ingreso_tarjetas_no_bancarias']\",\n",
       "       \"['CAP_max_pred', 'CAP_ingreso_neto_comprobado', 'CAP_ingreso_neto_comprobado', 'CAP_ingreso_hipotecario', 'CAP_ingreso_hipotecario', 'CAP_true', 'CAP_ingreso_neto_comprobado', 'CAP_ingreso_neto_comprobado', 'CAP_ingreso_hipotecario', 'CAP_ingreso_hipotecario']\",\n",
       "       \"['CAP_max_pred', 'CAP_ingreso_tdc', 'CAP_ingreso_tdc', 'CAP_ingreso_tarjetas_no_bancarias', 'CAP_ingreso_tarjetas_no_bancarias', 'CAP_pred', 'CAP_ingreso_tdc', 'CAP_ingreso_tdc', 'CAP_ingreso_tarjetas_no_bancarias', 'CAP_ingreso_tarjetas_no_bancarias']\",\n",
       "       \"['CAP_max_pred', 'CAP_ingreso_hipotecario', 'CAP_ingreso_hipotecario', 'CAP_ingreso_prestamo', 'CAP_ingreso_prestamo', 'CAP_pred', 'CAP_ingreso_hipotecario', 'CAP_ingreso_hipotecario', 'CAP_ingreso_prestamo', 'CAP_ingreso_prestamo']\",\n",
       "       \"['CAP_max_pred', 'CAP_ingreso_prestamo', 'CAP_ingreso_prestamo', 'CAP_ingreso_tarjetas_no_bancarias', 'CAP_ingreso_tarjetas_no_bancarias', 'CAP_pred', 'CAP_ingreso_prestamo', 'CAP_ingreso_prestamo', 'CAP_ingreso_tarjetas_no_bancarias', 'CAP_ingreso_tarjetas_no_bancarias']\",\n",
       "       \"['CAP_ingreso_neto_comprobado', 'CAP_ingreso_neto_comprobado', 'CAP_ingreso_hipotecario', 'CAP_ingreso_hipotecario', 'CAP_ingreso_tarjetas_no_bancarias', 'CAP_ingreso_tarjetas_no_bancarias', 'CAP_true', 'CAP_ingreso_neto_comprobado', 'CAP_ingreso_neto_comprobado', 'CAP_ingreso_hipotecario', 'CAP_ingreso_hipotecario', 'CAP_ingreso_tarjetas_no_bancarias', 'CAP_ingreso_tarjetas_no_bancarias']\",\n",
       "       \"['CAP_ingreso_neto_comprobado', 'CAP_ingreso_neto_comprobado', 'CAP_ingreso_prestamo', 'CAP_ingreso_prestamo', 'CAP_ingreso_tdc', 'CAP_ingreso_tdc', 'CAP_true', 'CAP_ingreso_neto_comprobado', 'CAP_ingreso_neto_comprobado', 'CAP_ingreso_prestamo', 'CAP_ingreso_prestamo', 'CAP_ingreso_tdc', 'CAP_ingreso_tdc']\",\n",
       "       \"['CAP_ingreso_prestamo', 'CAP_ingreso_prestamo', 'CAP_ingreso_tarjetas_no_bancarias', 'CAP_ingreso_tarjetas_no_bancarias', 'CAP_ingreso_prestamo', 'CAP_ingreso_prestamo', 'CAP_ingreso_tarjetas_no_bancarias', 'CAP_ingreso_tarjetas_no_bancarias']\",\n",
       "       \"['CAP_ingreso_neto_comprobado', 'CAP_ingreso_neto_comprobado', 'CAP_ingreso_hipotecario', 'CAP_ingreso_hipotecario', 'CAP_ingreso_prestamo', 'CAP_ingreso_prestamo', 'CAP_ingreso_tarjetas_no_bancarias', 'CAP_ingreso_tarjetas_no_bancarias', 'CAP_true', 'CAP_ingreso_neto_comprobado', 'CAP_ingreso_neto_comprobado', 'CAP_ingreso_hipotecario', 'CAP_ingreso_hipotecario', 'CAP_ingreso_prestamo', 'CAP_ingreso_prestamo', 'CAP_ingreso_tarjetas_no_bancarias', 'CAP_ingreso_tarjetas_no_bancarias']\",\n",
       "       \"['CAP_max_pred', 'CAP_ingreso_hipotecario', 'CAP_ingreso_hipotecario', 'CAP_ingreso_hipotecario', 'CAP_ingreso_hipotecario']\",\n",
       "       \"['CAP_max_pred', 'CAP_ingreso_hipotecario', 'CAP_ingreso_hipotecario', 'CAP_ingreso_prestamo', 'CAP_ingreso_prestamo', 'CAP_ingreso_hipotecario', 'CAP_ingreso_hipotecario', 'CAP_ingreso_prestamo', 'CAP_ingreso_prestamo']\",\n",
       "       \"['CAP_max_pred', 'CAP_ingreso_tdc', 'CAP_ingreso_tdc', 'CAP_ingreso_tarjetas_no_bancarias', 'CAP_ingreso_tarjetas_no_bancarias', 'CAP_ingreso_tdc', 'CAP_ingreso_tdc', 'CAP_ingreso_tarjetas_no_bancarias', 'CAP_ingreso_tarjetas_no_bancarias']\",\n",
       "       \"['CAP_max_pred', 'CAP_ingreso_tarjetas_no_bancarias', 'CAP_ingreso_tarjetas_no_bancarias', 'CAP_ingreso_tarjetas_no_bancarias', 'CAP_ingreso_tarjetas_no_bancarias']\",\n",
       "       \"['CAP_ingreso_hipotecario', 'CAP_ingreso_hipotecario', 'CAP_ingreso_prestamo', 'CAP_ingreso_prestamo', 'CAP_ingreso_tarjetas_no_bancarias', 'CAP_ingreso_tarjetas_no_bancarias', 'CAP_ingreso_hipotecario', 'CAP_ingreso_hipotecario', 'CAP_ingreso_prestamo', 'CAP_ingreso_prestamo', 'CAP_ingreso_tarjetas_no_bancarias', 'CAP_ingreso_tarjetas_no_bancarias']\",\n",
       "       \"['CAP_max_pred', 'CAP_ingreso_hipotecario', 'CAP_ingreso_hipotecario', 'CAP_ingreso_tarjetas_no_bancarias', 'CAP_ingreso_tarjetas_no_bancarias', 'CAP_ingreso_hipotecario', 'CAP_ingreso_hipotecario', 'CAP_ingreso_tarjetas_no_bancarias', 'CAP_ingreso_tarjetas_no_bancarias']\",\n",
       "       \"['CAP_max_pred', 'CAP_ingreso_prestamo', 'CAP_ingreso_prestamo', 'CAP_ingreso_tarjetas_no_bancarias', 'CAP_ingreso_tarjetas_no_bancarias', 'CAP_ingreso_prestamo', 'CAP_ingreso_prestamo', 'CAP_ingreso_tarjetas_no_bancarias', 'CAP_ingreso_tarjetas_no_bancarias']\",\n",
       "       \"['CAP_ingreso_hipotecario', 'CAP_ingreso_hipotecario', 'CAP_ingreso_tdc', 'CAP_ingreso_tdc', 'CAP_ingreso_hipotecario', 'CAP_ingreso_hipotecario', 'CAP_ingreso_tdc', 'CAP_ingreso_tdc']\",\n",
       "       \"['CAP_max_pred', 'CAP_ingreso_hipotecario', 'CAP_ingreso_hipotecario', 'CAP_ingreso_tdc', 'CAP_ingreso_tdc', 'CAP_ingreso_hipotecario', 'CAP_ingreso_hipotecario', 'CAP_ingreso_tdc', 'CAP_ingreso_tdc']\",\n",
       "       \"['CAP_ingreso_tarjetas_no_bancarias', 'CAP_ingreso_tarjetas_no_bancarias', 'CAP_ingreso_tarjetas_no_bancarias', 'CAP_ingreso_tarjetas_no_bancarias']\",\n",
       "       \"['CAP_max_pred', 'CAP_ingreso_hipotecario', 'CAP_ingreso_hipotecario', 'CAP_ingreso_prestamo', 'CAP_ingreso_prestamo', 'CAP_ingreso_tdc', 'CAP_ingreso_tdc', 'CAP_ingreso_hipotecario', 'CAP_ingreso_hipotecario', 'CAP_ingreso_prestamo', 'CAP_ingreso_prestamo', 'CAP_ingreso_tdc', 'CAP_ingreso_tdc']\",\n",
       "       \"['CAP_max_pred', 'CAP_ingreso_neto_comprobado', 'CAP_ingreso_neto_comprobado', 'CAP_ingreso_prestamo', 'CAP_ingreso_prestamo', 'CAP_ingreso_tdc', 'CAP_ingreso_tdc', 'CAP_ingreso_tarjetas_no_bancarias', 'CAP_ingreso_tarjetas_no_bancarias', 'CAP_true', 'CAP_ingreso_neto_comprobado', 'CAP_ingreso_neto_comprobado', 'CAP_ingreso_prestamo', 'CAP_ingreso_prestamo', 'CAP_ingreso_tdc', 'CAP_ingreso_tdc', 'CAP_ingreso_tarjetas_no_bancarias', 'CAP_ingreso_tarjetas_no_bancarias']\"],\n",
       "      dtype=object)"
      ]
     },
     "execution_count": 104,
     "metadata": {},
     "output_type": "execute_result"
    }
   ],
   "source": [
    "perfil[\"Aprobados\"].astype(str).unique()"
   ]
  },
  {
   "cell_type": "code",
   "execution_count": null,
   "id": "b8d626a6",
   "metadata": {},
   "outputs": [],
   "source": [
    "for col in ingreso_validado.columns:\n",
    "    "
   ]
  },
  {
   "cell_type": "code",
   "execution_count": null,
   "id": "54bb9edc",
   "metadata": {},
   "outputs": [],
   "source": [
    "df = ingreso_validado.apply(lambda x:x == \"Aprobado\")"
   ]
  },
  {
   "cell_type": "code",
   "execution_count": null,
   "id": "f7cba1bb",
   "metadata": {},
   "outputs": [],
   "source": [
    "prueba.index = prueba.Consecutivo"
   ]
  },
  {
   "cell_type": "code",
   "execution_count": null,
   "id": "ea9b4b99",
   "metadata": {},
   "outputs": [],
   "source": [
    "df_udo.eq('Aprobado').dot(df.columns + ',').str[:-1].str.split(',')"
   ]
  },
  {
   "cell_type": "code",
   "execution_count": null,
   "id": "4b2601f6",
   "metadata": {},
   "outputs": [],
   "source": []
  },
  {
   "cell_type": "code",
   "execution_count": null,
   "id": "d4e26f77",
   "metadata": {},
   "outputs": [],
   "source": []
  },
  {
   "cell_type": "code",
   "execution_count": null,
   "id": "0541a193",
   "metadata": {},
   "outputs": [],
   "source": [
    "prueba[\"col6\"]"
   ]
  },
  {
   "cell_type": "code",
   "execution_count": null,
   "id": "1c820f22",
   "metadata": {},
   "outputs": [],
   "source": [
    "for col in prueba.columns:\n",
    "    if prueba[col] == True:\n",
    "        prueba"
   ]
  },
  {
   "cell_type": "code",
   "execution_count": null,
   "id": "672a93f5",
   "metadata": {},
   "outputs": [],
   "source": [
    "for x in list(ingreso_validado[\"Consecutivo\"]):\n",
    "    prueba[\"Consecutivo\"]"
   ]
  },
  {
   "cell_type": "code",
   "execution_count": null,
   "id": "bdfdd568",
   "metadata": {},
   "outputs": [],
   "source": [
    "prueba = prueba.astype(int)"
   ]
  },
  {
   "cell_type": "code",
   "execution_count": null,
   "id": "b77e7e2f",
   "metadata": {},
   "outputs": [],
   "source": [
    "prueba"
   ]
  },
  {
   "cell_type": "code",
   "execution_count": null,
   "id": "3125dd65",
   "metadata": {},
   "outputs": [],
   "source": []
  },
  {
   "cell_type": "code",
   "execution_count": null,
   "id": "d06987b8",
   "metadata": {},
   "outputs": [],
   "source": [
    "capacidad = [col for col in df_udo.columns if \"CAP\" in col]"
   ]
  },
  {
   "cell_type": "code",
   "execution_count": null,
   "id": "efab2211",
   "metadata": {},
   "outputs": [],
   "source": []
  },
  {
   "cell_type": "code",
   "execution_count": null,
   "id": "9fde5644",
   "metadata": {},
   "outputs": [],
   "source": [
    "df_perfil_desprobado = (df_udo[(df_udo[\"CAP_true\"] == \"Desaprobado\") & (df_udo[\"perfil\"] == \"Perfil_X\")])"
   ]
  },
  {
   "cell_type": "code",
   "execution_count": null,
   "id": "285123e6",
   "metadata": {},
   "outputs": [],
   "source": [
    "cap_df = df_perfil_desprobado[capacidad+[\"Consecutivo\"]]"
   ]
  },
  {
   "cell_type": "code",
   "execution_count": null,
   "id": "23362d5e",
   "metadata": {},
   "outputs": [],
   "source": [
    "data = pd.DataFrame()\n",
    "data[\"Consecutivo\"] = cap_df[\"Consecutivo\"]"
   ]
  },
  {
   "cell_type": "code",
   "execution_count": null,
   "id": "776347e2",
   "metadata": {},
   "outputs": [],
   "source": [
    "data.index = data[\"Consecutivo\"] "
   ]
  },
  {
   "cell_type": "code",
   "execution_count": null,
   "id": "90831f43",
   "metadata": {},
   "outputs": [],
   "source": [
    "[col for col in cap_df.columns if cap_df[col]]"
   ]
  },
  {
   "cell_type": "code",
   "execution_count": null,
   "id": "de28db4e",
   "metadata": {},
   "outputs": [],
   "source": [
    "np.where((cap_df==\"Aprobado\"), 1,0)"
   ]
  },
  {
   "cell_type": "code",
   "execution_count": null,
   "id": "1449fb0f",
   "metadata": {},
   "outputs": [],
   "source": [
    "\n",
    "for col in cap_df.columns:\n",
    "    if cap_df[col] == \"Aprobado\":\n",
    "        data[\"Aprobado\"] = col"
   ]
  },
  {
   "cell_type": "code",
   "execution_count": null,
   "id": "fa3f6dd4",
   "metadata": {},
   "outputs": [],
   "source": []
  },
  {
   "cell_type": "code",
   "execution_count": null,
   "id": "822e72b6",
   "metadata": {},
   "outputs": [],
   "source": [
    "c = cap_df.columns[(cap_df == \"Aprobado\").all()]\n",
    "print (c)\n",
    "#Index(['Consecutivo'], dtype='object')"
   ]
  },
  {
   "cell_type": "code",
   "execution_count": null,
   "id": "1472f0dd",
   "metadata": {},
   "outputs": [],
   "source": []
  },
  {
   "cell_type": "code",
   "execution_count": null,
   "id": "cfbebc51",
   "metadata": {},
   "outputs": [],
   "source": []
  },
  {
   "cell_type": "code",
   "execution_count": null,
   "id": "d4543764",
   "metadata": {},
   "outputs": [],
   "source": []
  },
  {
   "cell_type": "code",
   "execution_count": null,
   "id": "d69e3637",
   "metadata": {},
   "outputs": [],
   "source": []
  },
  {
   "cell_type": "markdown",
   "id": "2d799f48",
   "metadata": {},
   "source": [
    "## * 2. agregarle excel de adrian\n",
    "## * 3. Agrupar por bureau (quantiles) y sacar todo promedio (CAP; ML;real;pred)\n",
    "## * 4. Salvar predicción con el parametrico? Validar el ingreso de alguna manera "
   ]
  },
  {
   "cell_type": "markdown",
   "id": "58343c2f",
   "metadata": {},
   "source": [
    "# Analisis de Capacidad de pago\n",
    "\n"
   ]
  },
  {
   "cell_type": "code",
   "execution_count": null,
   "id": "ecc5a200",
   "metadata": {},
   "outputs": [],
   "source": [
    "df2.groupby([\"CAP_true\"], as_index=False).agg(\n",
    "    cantidad =  ('CAP_true', 'count'))"
   ]
  },
  {
   "cell_type": "code",
   "execution_count": null,
   "id": "9cf8984a",
   "metadata": {},
   "outputs": [],
   "source": [
    "df2.groupby([\"CAP_declared\"], as_index=False).agg(\n",
    "    cantidad =  ('CAP_true', 'count'))"
   ]
  },
  {
   "cell_type": "code",
   "execution_count": null,
   "id": "305ae35e",
   "metadata": {},
   "outputs": [],
   "source": [
    "matrix = df2.groupby([\"CAP_true\",\"CAP_declared\"], as_index=False).agg(\n",
    "    cantidad =  ('CAP_true', 'count'))\n",
    "matrix = pd.pivot_table(matrix,index=[\"CAP_true\"],values=\"cantidad\",columns=\"CAP_declared\")\n",
    "matrix"
   ]
  },
  {
   "cell_type": "markdown",
   "id": "cba42bf3",
   "metadata": {},
   "source": [
    "Observamos que del total del dataset"
   ]
  },
  {
   "cell_type": "code",
   "execution_count": null,
   "id": "768bd32f",
   "metadata": {},
   "outputs": [],
   "source": [
    "len(df2)"
   ]
  },
  {
   "cell_type": "markdown",
   "id": "f2b030c8",
   "metadata": {},
   "source": [
    "## Matrices de confusion"
   ]
  },
  {
   "cell_type": "markdown",
   "id": "c73e0852",
   "metadata": {},
   "source": [
    "Matriz de confusión segun capacidad de pago declarada"
   ]
  },
  {
   "cell_type": "code",
   "execution_count": null,
   "id": "87c37480",
   "metadata": {},
   "outputs": [],
   "source": [
    "cm = pd.crosstab(df2[\"CAP_true\"], df2[\"CAP_declared\"])\n",
    "plt.rcParams['figure.facecolor'] = 'white'\n",
    "fig, ax = plt.subplots(ncols=1, figsize=(5,5))\n",
    "sns.heatmap(cm, \n",
    "                    annot=True,ax=ax,\n",
    "                    linewidths=.2,linecolor=\"Darkblue\", cmap=\"Blues\", fmt='g')"
   ]
  },
  {
   "cell_type": "markdown",
   "id": "c9f837e2",
   "metadata": {},
   "source": [
    "# Perfil x\n",
    "\n",
    "## Analisis con ingreso declarado y predicho\n",
    "\n",
    "### Comparando para tener la misma cantidad de conversion"
   ]
  },
  {
   "cell_type": "code",
   "execution_count": null,
   "id": "35b58ab1",
   "metadata": {},
   "outputs": [],
   "source": [
    "perfil_x = df2[df2[\"rule\"]==\"Perfil_X\"]"
   ]
  },
  {
   "cell_type": "code",
   "execution_count": null,
   "id": "6ae17a8e",
   "metadata": {},
   "outputs": [],
   "source": [
    "len(perfil_x)/len(df2)"
   ]
  },
  {
   "cell_type": "code",
   "execution_count": null,
   "id": "962ac68f",
   "metadata": {},
   "outputs": [],
   "source": [
    "cantidad = len(perfil_x[perfil_x[\"CAP_declared\"] == \"Aprobado\"])\n",
    "cantidad"
   ]
  },
  {
   "cell_type": "code",
   "execution_count": null,
   "id": "a0756f7f",
   "metadata": {},
   "outputs": [],
   "source": [
    "len(df2)"
   ]
  },
  {
   "cell_type": "code",
   "execution_count": null,
   "id": "74cee1e3",
   "metadata": {},
   "outputs": [],
   "source": [
    "#df2[[\"Consecutivo\",\"net_income_verified\",\"ingreso_neto_comprobado\",\"ML_income\",\"BC_Score_\"]].to_csv(\"ingresos.csv\")"
   ]
  },
  {
   "cell_type": "code",
   "execution_count": null,
   "id": "df2fbbf6",
   "metadata": {},
   "outputs": [],
   "source": [
    "perfilx = df2[df2[\"BC_Score_\"]>=680]\n",
    "cm = pd.crosstab(perfilx[\"CAP_true\"], perfilx[\"CAP_declared\"])\n",
    "plt.rcParams['figure.facecolor'] = 'white'\n",
    "fig, ax = plt.subplots(ncols=1, figsize=(5,5))\n",
    "sns.heatmap(cm, \n",
    "                    annot=True,ax=ax,\n",
    "                    linewidths=.2,linecolor=\"Darkblue\", cmap=\"Oranges\", fmt='g')"
   ]
  },
  {
   "cell_type": "code",
   "execution_count": null,
   "id": "502297b6",
   "metadata": {},
   "outputs": [],
   "source": [
    "\n",
    "cm = pd.crosstab(perfilx[\"CAP_true\"], perfilx[\"CAP_pred\"])\n",
    "plt.rcParams['figure.facecolor'] = 'white'\n",
    "fig, ax = plt.subplots(ncols=1, figsize=(5,5))\n",
    "sns.heatmap(cm, \n",
    "                    annot=True,ax=ax,\n",
    "                    linewidths=.2,linecolor=\"Darkblue\", cmap=\"Oranges\", fmt='g')"
   ]
  },
  {
   "cell_type": "code",
   "execution_count": null,
   "id": "f2487925",
   "metadata": {},
   "outputs": [],
   "source": [
    "aprobados_por_ambos = perfilx[(perfilx[\"CAP_pred\"] == \"Aprobado\") & (perfilx[\"CAP_declared\"] == \"Aprobado\")]"
   ]
  },
  {
   "cell_type": "code",
   "execution_count": null,
   "id": "61e3e8c0",
   "metadata": {},
   "outputs": [],
   "source": [
    "len(aprobados_por_ambos)"
   ]
  },
  {
   "cell_type": "code",
   "execution_count": null,
   "id": "13c2f578",
   "metadata": {},
   "outputs": [],
   "source": [
    "11806+1653+126+355"
   ]
  },
  {
   "cell_type": "code",
   "execution_count": null,
   "id": "2181f61e",
   "metadata": {},
   "outputs": [],
   "source": [
    "1653+355"
   ]
  },
  {
   "cell_type": "code",
   "execution_count": null,
   "id": "c92b8b49",
   "metadata": {},
   "outputs": [],
   "source": [
    "126/13940 *100"
   ]
  },
  {
   "cell_type": "code",
   "execution_count": null,
   "id": "28d6785d",
   "metadata": {},
   "outputs": [],
   "source": [
    "796+286"
   ]
  },
  {
   "cell_type": "code",
   "execution_count": null,
   "id": "77977100",
   "metadata": {},
   "outputs": [],
   "source": [
    "1082/7157 *100"
   ]
  },
  {
   "cell_type": "code",
   "execution_count": null,
   "id": "e2b1e78f",
   "metadata": {},
   "outputs": [],
   "source": [
    "85"
   ]
  },
  {
   "cell_type": "code",
   "execution_count": null,
   "id": "ff11a475",
   "metadata": {},
   "outputs": [],
   "source": [
    "2008/13940"
   ]
  },
  {
   "cell_type": "code",
   "execution_count": null,
   "id": "f6d749c6",
   "metadata": {},
   "outputs": [],
   "source": [
    "len(perfilx[perfilx[\"CAP_declared\"] == \"Aprobado\"])"
   ]
  },
  {
   "cell_type": "code",
   "execution_count": null,
   "id": "5797f27f",
   "metadata": {},
   "outputs": [],
   "source": []
  },
  {
   "cell_type": "code",
   "execution_count": null,
   "id": "8049ea0a",
   "metadata": {},
   "outputs": [],
   "source": [
    "perfilx_df.ML_income.mean()"
   ]
  },
  {
   "cell_type": "code",
   "execution_count": null,
   "id": "7d6e5ff6",
   "metadata": {},
   "outputs": [],
   "source": [
    "perfilx_df.net_income_verified.mean()"
   ]
  },
  {
   "cell_type": "code",
   "execution_count": null,
   "id": "ff8205a2",
   "metadata": {},
   "outputs": [],
   "source": [
    "perfilx_df.ingreso_neto_comprobado.mean()"
   ]
  },
  {
   "cell_type": "code",
   "execution_count": null,
   "id": "bb52a573",
   "metadata": {},
   "outputs": [],
   "source": [
    "perfilx_df.ingreso_neto_comprobado.max()"
   ]
  },
  {
   "cell_type": "code",
   "execution_count": null,
   "id": "5c83ce20",
   "metadata": {},
   "outputs": [],
   "source": [
    "cm = pd.crosstab(perfilx_df[\"CAP_true\"], perfilx_df[\"CAP_pred\"])\n",
    "plt.rcParams['figure.facecolor'] = 'white'\n",
    "fig, ax = plt.subplots(ncols=1, figsize=(5,5))\n",
    "sns.heatmap(cm, \n",
    "                    annot=True,ax=ax,\n",
    "                    linewidths=.2,linecolor=\"Darkblue\", cmap=\"Blues\", fmt='g')"
   ]
  },
  {
   "cell_type": "code",
   "execution_count": null,
   "id": "316f5d2c",
   "metadata": {},
   "outputs": [],
   "source": [
    "#pd.read_excel(\"GRAFICAS_2022-03-29.xlsx\")"
   ]
  },
  {
   "cell_type": "code",
   "execution_count": null,
   "id": "3e554840",
   "metadata": {},
   "outputs": [],
   "source": [
    "df2[\"bins_bc\"] = pd.cut(df2[\"BC_Score_\"], bins=range(0,1000,100))"
   ]
  },
  {
   "cell_type": "code",
   "execution_count": null,
   "id": "48d265f0",
   "metadata": {},
   "outputs": [],
   "source": [
    "df2.groupby(\"bins_bc\").agg(\n",
    "    mean_ML_income =  ('ML_income', 'mean'),\n",
    "    mean_true_income = ('ingreso_neto_comprobado', 'mean'),  mean_declarado = ('net_income_verified', 'mean'))\n"
   ]
  },
  {
   "cell_type": "code",
   "execution_count": null,
   "id": "6bc8baea",
   "metadata": {},
   "outputs": [],
   "source": [
    "errores_modelo = perfilx_df[(perfilx_df[\"CAP_true\"]==\"Desaprobado\") & (perfilx_df[\"CAP_pred\"]==\"Aprobado\")]"
   ]
  },
  {
   "cell_type": "code",
   "execution_count": null,
   "id": "3e6e54a1",
   "metadata": {},
   "outputs": [],
   "source": [
    "df_noventa = pd.merge(adrian,errores_modelo,how=\"inner\", left_on=\"Consecutivo\",right_on=\"Consecutivo\")"
   ]
  },
  {
   "cell_type": "code",
   "execution_count": null,
   "id": "a058b7fc",
   "metadata": {},
   "outputs": [],
   "source": [
    "df_noventa = df_noventa[['ingreso_hipotecario',\n",
    " 'ingreso_prestamo',\n",
    " 'ingreso_tdc',\n",
    " 'ingreso_tarjetas_no_bancarias',\"Consecutivo\",\"ML_income\",\"CAP_true\",\"CAP_pred\",\"CAP_declared\",\"net_income_verified\",\"ingreso_neto_comprobado\",\"BC_Score_\"]]"
   ]
  },
  {
   "cell_type": "code",
   "execution_count": null,
   "id": "75430333",
   "metadata": {},
   "outputs": [],
   "source": [
    "df2[\"CAP_perfilX\"]= np.where((df2[\"capacidad_pago_declarada\"]>=2) &(df2[\"BC_Score_\"]>=680 ), \"Aprobado\",\"Desaprobado\")"
   ]
  },
  {
   "cell_type": "code",
   "execution_count": null,
   "id": "6b17e055",
   "metadata": {},
   "outputs": [],
   "source": [
    "#perf = df2[df2[\"valor_del_score\"]>=680]"
   ]
  },
  {
   "cell_type": "code",
   "execution_count": null,
   "id": "34ba5a2a",
   "metadata": {},
   "outputs": [],
   "source": [
    "cm = pd.crosstab(df2[\"CAP_true\"], df2[\"CAP_perfilX\"])\n",
    "plt.rcParams['figure.facecolor'] = 'white'\n",
    "fig, ax = plt.subplots(ncols=1, figsize=(5,5))\n",
    "sns.heatmap(cm, \n",
    "                    annot=True,ax=ax,\n",
    "                    linewidths=.2,linecolor=\"Darkblue\", cmap=\"Oranges\", fmt='g')"
   ]
  },
  {
   "cell_type": "code",
   "execution_count": null,
   "id": "a26f7ab5",
   "metadata": {},
   "outputs": [],
   "source": [
    "print(cantidad)"
   ]
  },
  {
   "cell_type": "code",
   "execution_count": null,
   "id": "7d855894",
   "metadata": {},
   "outputs": [],
   "source": [
    "errores = len(df2[(df2[\"CAP_true\"]==\"Desaprobado\") & (df2[\"CAP_perfilX\"]==\"Aprobado\")])\n",
    "errores"
   ]
  },
  {
   "cell_type": "code",
   "execution_count": null,
   "id": "a9ff4e15",
   "metadata": {},
   "outputs": [],
   "source": [
    "errores/len(df2) * 100"
   ]
  },
  {
   "cell_type": "markdown",
   "id": "34ee1644",
   "metadata": {},
   "source": [
    "### Misma cantidad de conversion"
   ]
  },
  {
   "cell_type": "code",
   "execution_count": null,
   "id": "d676da03",
   "metadata": {},
   "outputs": [],
   "source": [
    "for umbral in np.linspace(3,4,100):\n",
    "    df2[f\"CAP_pred{int(umbral)}\"]= np.where((df2[\"capacidad_pago_predicha\"]>=umbral), \"Aprobado\",\"Desaprobado\")\n",
    "    cant = len(df2[df2[f\"CAP_pred{int(umbral)}\"]==\"Aprobado\"])\n",
    "    if cant+1<=cantidad:\n",
    "        print(umbral,cant)\n",
    "        print(int(umbral))\n",
    "        break\n",
    "        \n",
    "cm = pd.crosstab(df2[\"CAP_true\"], df2[f\"CAP_pred{int(umbral)}\"])\n",
    "plt.rcParams['figure.facecolor'] = 'white'\n",
    "fig, ax = plt.subplots(ncols=1, figsize=(5,5))\n",
    "sns.heatmap(cm, \n",
    "                    annot=True,ax=ax,\n",
    "                    linewidths=.2,linecolor=\"tab:blue\", cmap=\"Greens\", fmt='g')"
   ]
  },
  {
   "cell_type": "code",
   "execution_count": null,
   "id": "27b4e80f",
   "metadata": {},
   "outputs": [],
   "source": [
    "pred_aprobados = len(df2[(df2[f\"CAP_pred{int(umbral)}\"]==\"Aprobado\")])\n",
    "pred_aprobados/len(df2) *100"
   ]
  },
  {
   "cell_type": "code",
   "execution_count": null,
   "id": "3d6b0d4a",
   "metadata": {},
   "outputs": [],
   "source": [
    "errores_model = len(df2[(df2[f\"CAP_pred{int(umbral)}\"]==\"Aprobado\") & (df2[\"CAP_true\"]==\"Desaprobado\")])\n"
   ]
  },
  {
   "cell_type": "code",
   "execution_count": null,
   "id": "dc50c3ed",
   "metadata": {},
   "outputs": [],
   "source": [
    "errores_model/len(df2) *100"
   ]
  },
  {
   "cell_type": "code",
   "execution_count": null,
   "id": "ae5c8bcd",
   "metadata": {},
   "outputs": [],
   "source": [
    "reduccion = (errores - errores_model)/errores \n",
    "reduccion"
   ]
  },
  {
   "cell_type": "code",
   "execution_count": null,
   "id": "2df4a2dd",
   "metadata": {},
   "outputs": [],
   "source": [
    "(1- reduccion)*errores"
   ]
  },
  {
   "cell_type": "markdown",
   "id": "092f39b2",
   "metadata": {},
   "source": [
    "### aumentar la conversión y mantener error"
   ]
  },
  {
   "cell_type": "code",
   "execution_count": null,
   "id": "83e98dea",
   "metadata": {},
   "outputs": [],
   "source": [
    "len(df2[(df2[f\"CAP_pred\"]==\"Aprobado\") & (df2[f\"CAP_true\"]==\"Desaprobado\")])"
   ]
  },
  {
   "cell_type": "code",
   "execution_count": null,
   "id": "4c2e177a",
   "metadata": {},
   "outputs": [],
   "source": [
    "for umbral in np.linspace(1.8,2.1,100):\n",
    "    df2[f\"CAP_pred{int(umbral)}\"]= np.where((df2[\"capacidad_pago_predicha\"]>=umbral), \"Aprobado\",\"Desaprobado\")\n",
    "    cant = len(df2[(df2[f\"CAP_pred{int(umbral)}\"]==\"Aprobado\") & (df2[f\"CAP_true\"]==\"Desaprobado\")])\n",
    "    if cant<=errores:\n",
    "        print(umbral,cant)\n",
    "        print(int(umbral))\n",
    "        break\n",
    "        \n",
    "cm = pd.crosstab(df2[\"CAP_true\"], df2[f\"CAP_pred{int(umbral)}\"])\n",
    "plt.rcParams['figure.facecolor'] = 'white'\n",
    "fig, ax = plt.subplots(ncols=1, figsize=(5,5))\n",
    "sns.heatmap(cm, \n",
    "                    annot=True,ax=ax,\n",
    "                    linewidths=.2,linecolor=\"tab:blue\", cmap=\"Greens\", fmt='g')\n"
   ]
  },
  {
   "cell_type": "code",
   "execution_count": null,
   "id": "a4fe8780",
   "metadata": {},
   "outputs": [],
   "source": [
    "len(df2[(df2[f\"CAP_pred{int(umbral)}\"]==\"Aprobado\")])"
   ]
  },
  {
   "cell_type": "code",
   "execution_count": null,
   "id": "d1da9391",
   "metadata": {},
   "outputs": [],
   "source": [
    "cant_perfilx = len(perfil_x[df2[\"CAP_perfilX\"] == \"Aprobado\"])\n",
    "cant_perfilx"
   ]
  },
  {
   "cell_type": "code",
   "execution_count": null,
   "id": "97bbac60",
   "metadata": {},
   "outputs": [],
   "source": [
    "cant_cap = len(df2[(df2[f\"CAP_pred{int(umbral)}\"]==\"Aprobado\")])\n",
    "cant_cap"
   ]
  },
  {
   "cell_type": "code",
   "execution_count": null,
   "id": "52c78a95",
   "metadata": {},
   "outputs": [],
   "source": [
    "(cant_cap - cant_perfilx)/cant_perfilx"
   ]
  },
  {
   "cell_type": "code",
   "execution_count": null,
   "id": "19911fe2",
   "metadata": {},
   "outputs": [],
   "source": [
    "cant_perfilx * 1.7"
   ]
  },
  {
   "cell_type": "code",
   "execution_count": null,
   "id": "40c40e36",
   "metadata": {},
   "outputs": [],
   "source": [
    "errores/cant_cap * 100\n"
   ]
  },
  {
   "cell_type": "markdown",
   "id": "3dd7558a",
   "metadata": {},
   "source": [
    "### Punto de corte 2"
   ]
  },
  {
   "cell_type": "code",
   "execution_count": null,
   "id": "40ec371e",
   "metadata": {},
   "outputs": [],
   "source": [
    "cm = pd.crosstab(df2[\"CAP_true\"], df2[\"CAP_pred\"])\n",
    "plt.rcParams['figure.facecolor'] = 'white'\n",
    "fig, ax = plt.subplots(ncols=1, figsize=(5,5))\n",
    "sns.heatmap(cm, \n",
    "                    annot=True,ax=ax,\n",
    "                    linewidths=.2,linecolor=\"Darkblue\", cmap=\"Blues\", fmt='g')"
   ]
  },
  {
   "cell_type": "code",
   "execution_count": null,
   "id": "728510a8",
   "metadata": {},
   "outputs": [],
   "source": [
    "(df2[\"CAP_pred\"] == \"Aprobado\").sum()"
   ]
  },
  {
   "cell_type": "code",
   "execution_count": null,
   "id": "94df8f8c",
   "metadata": {},
   "outputs": [],
   "source": [
    "(df2[\"CAP_pred\"] == \"Aprobado\").sum()/len(df2)"
   ]
  },
  {
   "cell_type": "code",
   "execution_count": null,
   "id": "174ad7ca",
   "metadata": {},
   "outputs": [],
   "source": [
    "len(df2[(df2[\"CAP_pred\"] == \"Aprobado\")& (df2[\"CAP_true\"] == \"Desaprobado\")])/(df2[\"CAP_pred\"] == \"Aprobado\").sum() *100"
   ]
  },
  {
   "cell_type": "markdown",
   "id": "54d71a68",
   "metadata": {},
   "source": [
    "### Score mayor a 680 con modelo de ingreso"
   ]
  },
  {
   "cell_type": "code",
   "execution_count": null,
   "id": "fd0f706b",
   "metadata": {},
   "outputs": [],
   "source": [
    "df2[\"CAP_modelX\"]= np.where((df2[\"capacidad_pago_predicha\"]>=2) &(df2[\"BC_Score_\"]>=680 ), \"Aprobado\",\"Desaprobado\")"
   ]
  },
  {
   "cell_type": "code",
   "execution_count": null,
   "id": "916ad4ec",
   "metadata": {},
   "outputs": [],
   "source": [
    "#perf = df2[df2[\"valor_del_score\"]>=680]"
   ]
  },
  {
   "cell_type": "code",
   "execution_count": null,
   "id": "66ea77ce",
   "metadata": {},
   "outputs": [],
   "source": [
    "cm = pd.crosstab(df2[\"CAP_true\"], df2[\"CAP_modelX\"])\n",
    "plt.rcParams['figure.facecolor'] = 'white'\n",
    "fig, ax = plt.subplots(ncols=1, figsize=(5,5))\n",
    "sns.heatmap(cm, \n",
    "                    annot=True,ax=ax,\n",
    "                    linewidths=.2,linecolor=\"Darkblue\", cmap=\"Oranges\", fmt='g')"
   ]
  },
  {
   "cell_type": "code",
   "execution_count": null,
   "id": "cd319da0",
   "metadata": {},
   "outputs": [],
   "source": [
    "len(df2)"
   ]
  },
  {
   "cell_type": "code",
   "execution_count": null,
   "id": "0ae5cf90",
   "metadata": {},
   "outputs": [],
   "source": [
    "(df2[\"CAP_modelX\"] == \"Aprobado\").sum()"
   ]
  },
  {
   "cell_type": "code",
   "execution_count": null,
   "id": "9e9c33f7",
   "metadata": {},
   "outputs": [],
   "source": [
    "(df2[\"CAP_modelX\"] == \"Aprobado\").sum()/len(df2)"
   ]
  },
  {
   "cell_type": "code",
   "execution_count": null,
   "id": "41373627",
   "metadata": {},
   "outputs": [],
   "source": [
    "+ (116-96)/116"
   ]
  },
  {
   "cell_type": "code",
   "execution_count": null,
   "id": "af608347",
   "metadata": {},
   "outputs": [],
   "source": [
    "(len((df2[(df2[\"CAP_modelX\"] == \"Aprobado\")&(df2[\"CAP_true\"] == \"Desaprobado\") ]))/(df2[\"CAP_modelX\"] == \"Aprobado\").sum() )*100"
   ]
  },
  {
   "cell_type": "markdown",
   "id": "3afee0db",
   "metadata": {},
   "source": [
    "## Perfil X con CAP 1.8"
   ]
  },
  {
   "cell_type": "code",
   "execution_count": null,
   "id": "b0d2b8ed",
   "metadata": {},
   "outputs": [],
   "source": [
    "df2[\"CAP_perfilX_1.8\"]= np.where((df2[\"capacidad_pago_declarada\"]>=1.8) &(df2[\"BC_Score_\"]>=680 ), \"Aprobado\",\"Desaprobado\")"
   ]
  },
  {
   "cell_type": "code",
   "execution_count": null,
   "id": "ac83ddbe",
   "metadata": {},
   "outputs": [],
   "source": [
    "df2[\"CAP_true1.8\"]= np.where((df2[\"capacidad_pago_real\"]>=1.8), 1,0)\n",
    "df2[\"CAP_true1.8\"]= np.where((df2[\"CAP_true1.8\"]==0), \"Desaprobado\",\"Aprobado\")"
   ]
  },
  {
   "cell_type": "code",
   "execution_count": null,
   "id": "53f8685b",
   "metadata": {},
   "outputs": [],
   "source": [
    "cm = pd.crosstab(df2[\"CAP_true1.8\"], df2[\"CAP_perfilX_1.8\"])\n",
    "plt.rcParams['figure.facecolor'] = 'white'\n",
    "fig, ax = plt.subplots(ncols=1, figsize=(5,5))\n",
    "sns.heatmap(cm, \n",
    "                    annot=True,ax=ax,\n",
    "                    linewidths=.2,linecolor=\"Darkblue\", cmap=\"Oranges\", fmt='g')"
   ]
  },
  {
   "cell_type": "markdown",
   "id": "6213d6fc",
   "metadata": {},
   "source": [
    "# Diferencias"
   ]
  },
  {
   "cell_type": "markdown",
   "id": "e0341fef",
   "metadata": {},
   "source": [
    "$$\n",
    "  Declaran = \\frac{Declared Income - True Income}{True Income}\n",
    "$$"
   ]
  },
  {
   "cell_type": "code",
   "execution_count": null,
   "id": "b5fc8918",
   "metadata": {},
   "outputs": [],
   "source": [
    "df2[\"diff_per\"] = (df2[\"net_income_verified\"] - df2[\"ingreso_neto_comprobado\"])/df2[\"ingreso_neto_comprobado\"]"
   ]
  },
  {
   "cell_type": "code",
   "execution_count": null,
   "id": "cbbebc73",
   "metadata": {},
   "outputs": [],
   "source": [
    "#dataframe.loc[(condicion),columnas en particular]"
   ]
  },
  {
   "cell_type": "code",
   "execution_count": null,
   "id": "692ce31b",
   "metadata": {},
   "outputs": [],
   "source": [
    "df2.loc[df2[\"diff_per\"] == 0,  'Declaran'] = \"Lo Mismo\"\n",
    "df2.loc[(df2[\"diff_per\"] < 0), 'Declaran'] = \"Menos\"\n",
    "df2.loc[(df2[\"diff_per\"] > 0) & (df2[\"diff_per\"] <= 0.3), 'Declaran'] = \"entre 1% y 30% más\"\n",
    "df2.loc[(df2[\"diff_per\"] > 0.3) & (df2[\"diff_per\"] <= 0.5), 'Declaran'] = \"entre 31% y 50% más\"\n",
    "df2.loc[(df2[\"diff_per\"] > 0.5) & (df2[\"diff_per\"] < 1), 'Declaran'] = \"entre 51% y 99% más\"\n",
    "df2.loc[(df2[\"diff_per\"] >= 1) , 'Declaran'] = \"Más del 100%\""
   ]
  },
  {
   "cell_type": "code",
   "execution_count": null,
   "id": "a5072588",
   "metadata": {},
   "outputs": [],
   "source": [
    "reorderlist = [\"Más del 100%\",\"entre 51% y 99% más\",\"entre 31% y 50% más\",\"entre 1% y 30% más\",\"Lo Mismo\", \"Menos\"]\n"
   ]
  },
  {
   "cell_type": "code",
   "execution_count": null,
   "id": "452a08cf",
   "metadata": {},
   "outputs": [],
   "source": [
    "declararon = pd.merge(df2.Declaran.value_counts(),df2.Declaran.value_counts(normalize=True), right_index=True, left_index=True)\n",
    "declararon.columns = [\"Cantidad Clientes\",\"Proporcion\"]\n",
    "declararon = declararon.reindex(reorderlist)\n",
    "declararon.index.name = \"Declaran\"\n"
   ]
  },
  {
   "cell_type": "code",
   "execution_count": null,
   "id": "545e8217",
   "metadata": {},
   "outputs": [],
   "source": [
    "plt.figure(figsize=(10,10))\n",
    "paleta = [\"#d53e4f\",\"#fc8d59\", \"#fee08b\", \"#e6f598\", \"#99d594\", \"#3288bd\"]\n",
    "sns.barplot(x=\"Cantidad Clientes\",y=declararon.index,data=declararon, palette=paleta)\n",
    "plt.savefig(\"cantidad.png\", bbox_inches='tight')"
   ]
  },
  {
   "cell_type": "code",
   "execution_count": null,
   "id": "4c408b6c",
   "metadata": {},
   "outputs": [],
   "source": [
    "declararon.loc['Total',:]= declararon.sum(axis=0)\n",
    "\n",
    "per_problema = declararon[0:3][\"Proporcion\"].sum(axis=0)\n",
    "\n",
    "declararon[\"Proporcion\"] = (declararon[\"Proporcion\"].round(2)*100).astype(str) + '%'\n",
    "declararon[\"Cantidad Clientes\"] = declararon[\"Cantidad Clientes\"].astype(int)"
   ]
  },
  {
   "cell_type": "code",
   "execution_count": null,
   "id": "acf7a54b",
   "metadata": {},
   "outputs": [],
   "source": [
    "total_problema = declararon[0:3][\"Cantidad Clientes\"].sum(axis=0)\n",
    "\n",
    "print(f\"El gran problema representa {total_problema} clientes \\ny representa el {(per_problema*100):.2f}% de la población que \\nconocemos el ingreso real \\n\")\n",
    "declararon"
   ]
  },
  {
   "cell_type": "markdown",
   "id": "6ef23875",
   "metadata": {},
   "source": [
    "## Predicciones "
   ]
  },
  {
   "cell_type": "code",
   "execution_count": null,
   "id": "9c39e7c4",
   "metadata": {},
   "outputs": [],
   "source": [
    "df2 = core.copy()"
   ]
  },
  {
   "cell_type": "markdown",
   "id": "93137c4c",
   "metadata": {},
   "source": [
    "### %_validated"
   ]
  },
  {
   "cell_type": "markdown",
   "id": "f46cc540",
   "metadata": {},
   "source": [
    "La respuesta de nuestra API también considera % de validado cómo la división entre el ingreso predicho cómo númerador y el ingreso real cómo denominador. <br>\n",
    "\n",
    "Entendemos que nunca el ingreso predicho debe ser mayor al ingreso declarado. A lo sumo debería ser 100%.\n",
    "\n",
    "Realizamos entonces la variable % validado y luego analizamos en que decil cae entre 0 y 1. Creamos diez categorías y vemos que % de la muestra representa\n"
   ]
  },
  {
   "cell_type": "code",
   "execution_count": null,
   "id": "beac28a8",
   "metadata": {},
   "outputs": [],
   "source": [
    "df2[\"%_validated\"] = df2[\"ML_income\"]/df2[\"net_income_verified\"]\n",
    "\n",
    "\n",
    "lst = [df2]\n",
    "for column in lst:\n",
    "    column.loc[(column[\"%_validated\"] >= 0 ) & (column[\"%_validated\"] <= 0.1), 'dec_%_validado'] = \"0 hasta 10%\"\n",
    "    column.loc[(column[\"%_validated\"] > 0.1) & (column[\"%_validated\"] <= 0.2), 'dec_%_validado'] = \"11 hasta 20%\"\n",
    "    column.loc[(column[\"%_validated\"] > 0.2) & (column[\"%_validated\"] <= 0.3), 'dec_%_validado'] = \"21 hasta 30%\"\n",
    "    column.loc[(column[\"%_validated\"] > 0.3) & (column[\"%_validated\"] <= 0.4), 'dec_%_validado'] = \"31 hasta 40%\"\n",
    "    column.loc[(column[\"%_validated\"] > 0.4) & (column[\"%_validated\"] <= 0.5), 'dec_%_validado'] = \"41 hasta 50%\"\n",
    "    column.loc[(column[\"%_validated\"] > 0.5) & (column[\"%_validated\"] <= 0.6), 'dec_%_validado'] = \"51 hasta 60%\"\n",
    "    column.loc[(column[\"%_validated\"] > 0.6) & (column[\"%_validated\"] <= 0.7), 'dec_%_validado'] = \"61 hasta 70%\"\n",
    "    column.loc[(column[\"%_validated\"] > 0.7) & (column[\"%_validated\"] <= 0.8), 'dec_%_validado'] = \"71 hasta 80%\"\n",
    "    column.loc[(column[\"%_validated\"] > 0.8) & (column[\"%_validated\"] <= 0.9), 'dec_%_validado'] = \"81 hasta 90%\"\n",
    "    column.loc[(column[\"%_validated\"] > 0.9) & (column[\"%_validated\"] < 0.1), 'dec_%_validado'] = \"91 hasta 99%\"\n",
    "    column.loc[column[\"%_validated\"] == 1, 'salarios_min'] = \"+100% validado\""
   ]
  },
  {
   "cell_type": "code",
   "execution_count": null,
   "id": "81db8573",
   "metadata": {},
   "outputs": [],
   "source": [
    "ax = df2[\"dec_%_validado\"].value_counts(normalize=True).sort_index().plot.barh()\n",
    "ax.set_ylabel('% de ingreso declarado valido  \\n ')\n",
    "ax.set_title('Distribución de la predicción \\n ')\n",
    "\n",
    "plt.show()"
   ]
  },
  {
   "cell_type": "markdown",
   "id": "9b414d4d",
   "metadata": {},
   "source": [
    "### Ingresos Mínimos"
   ]
  },
  {
   "cell_type": "markdown",
   "id": "1875d944",
   "metadata": {},
   "source": [
    "Según la fuente https://www.gob.mx/stps/prensa/comunicado-conjunto-289406. El ingreso mínimo durante el 2021 fue de 4.000 pesos mexicanos. Por lo tanto en vez de separar la muestra en quantiles, decidimos discretizar según está variable más interpretable"
   ]
  },
  {
   "cell_type": "code",
   "execution_count": null,
   "id": "98487822",
   "metadata": {},
   "outputs": [],
   "source": [
    "df2[\"ratio_income_min_w\"] = df2[\"ingreso_neto_comprobado\"]/4000\n",
    "\n",
    "lst = [df2]\n",
    "for column in lst:\n",
    "    column.loc[column[\"ratio_income_min_w\"] <= 1,  'salarios_min'] = \" Hasta 1 salario min\"\n",
    "    column.loc[(column[\"ratio_income_min_w\"] > 1) & (column[\"ratio_income_min_w\"] <= 2), 'salarios_min'] = \"1 hasta 2 salarios\"\n",
    "    column.loc[(column[\"ratio_income_min_w\"] > 2) & (column[\"ratio_income_min_w\"] <= 3), 'salarios_min'] = \"2 hasta 3 salarios\"\n",
    "    column.loc[(column[\"ratio_income_min_w\"] > 3) & (column[\"ratio_income_min_w\"] <= 5), 'salarios_min'] = \"3 hasta 5 salarios\"\n",
    "    column.loc[column[\"ratio_income_min_w\"] >5, 'salarios_min'] = \"+ de 5 salarios\"\n",
    "    \n",
    "reorderlist = [\" Hasta 1 salario min\", \"1 hasta 2 salarios\",\"2 hasta 3 salarios\",\"3 hasta 5 salarios\", \"+ de 5 salarios\"]\n"
   ]
  },
  {
   "cell_type": "code",
   "execution_count": null,
   "id": "706c7d3b",
   "metadata": {},
   "outputs": [],
   "source": [
    "cantidad = df2.groupby([\"salarios_min\"]).agg(\n",
    "    Cantidad =  ('salarios_min', 'count')).reindex(reorderlist)\n",
    "proporcion = df2.salarios_min.value_counts(normalize=True).reindex(reorderlist).round(3)\n",
    "inegi_df = pd.merge(cantidad,proporcion, right_index=True, left_index=True)\n",
    "inegi_df.columns = [\"Cantidad Clientes Kavak\",\"Proporcion Muestra\"]\n",
    "inegi_df = inegi_df.reindex(reorderlist)\n",
    "inegi_df.loc['Total',:]= inegi_df.sum(axis=0)\n",
    "inegi_df.fillna(0, inplace=True)\n",
    "\n",
    "\n",
    "inegi_df.index.name = \"Ingreso Real\"\n",
    "inegi_df[\"Mexico\"] = [10642543,17141160,9818858,4522674,1741491,43866726]\n",
    "inegi_df[\"% Poblacion Mexico\"] = [valor/43866726 for valor in inegi_df[\"Mexico\"]]\n",
    "inegi_plot = inegi_df.copy()\n",
    "inegi_df[\"% Poblacion Mexico\"] = ((inegi_df[\"% Poblacion Mexico\"]*100).round(3)).astype(str) + '%'\n",
    "inegi_df[\"Proporcion Muestra\"] = ((inegi_df[\"Proporcion Muestra\"]*100).round(2)).astype(str) + '%'\n",
    "inegi_plot =inegi_plot.reset_index(level=0)\n",
    "inegi_plot[0:5].plot(x=\"Ingreso Real\",y=[\"Proporcion Muestra\",\"% Poblacion Mexico\"], kind=\"bar\", width=0.8, alpha=0.8, align='center',figsize=(8,6)).set_ylim([0,0.6])\n",
    "current_values = plt.gca().get_yticks()\n",
    "# using format string '{:.0f}' here but you can choose others\n",
    "plt.gca().set_yticklabels(['{:,.0%}'.format(x) for x in current_values])\n",
    "plt.xticks(rotation=45)\n",
    "\n",
    "plt.xlabel('Distribución Income')\n",
    "\n",
    "inegi_df"
   ]
  },
  {
   "cell_type": "markdown",
   "id": "8b1daa4a",
   "metadata": {},
   "source": [
    "Analizamos nuestra muestra versus la población de méxico. Observamos que en Kavak el 65% de la población se encuentra por encima de los 5 salarios observando una piramide invertida respecto a la población méxicana extraída del INEGI 2019 "
   ]
  },
  {
   "cell_type": "markdown",
   "id": "c46830e7",
   "metadata": {},
   "source": [
    "## % validado por ingreso mínimo\n",
    "\n",
    "Realizamos la variable cantidad de ingresos mínimos para encontrar una interepretación"
   ]
  },
  {
   "cell_type": "code",
   "execution_count": null,
   "id": "a81fcc95",
   "metadata": {},
   "outputs": [],
   "source": [
    "df2[\"ratio_income_min_w\"] = df2[\"ingreso_neto_comprobado\"]/4000\n",
    "\n",
    "lst = [df2]\n",
    "for column in lst:\n",
    "    column.loc[column[\"ratio_income_min_w\"] <= 1,  'salarios_min'] = \" Hasta 1 salario min\"\n",
    "    column.loc[(column[\"ratio_income_min_w\"] > 1) & (column[\"ratio_income_min_w\"] <= 2), 'salarios_min'] = \"1 hasta 2 salarios\"\n",
    "    column.loc[(column[\"ratio_income_min_w\"] > 2) & (column[\"ratio_income_min_w\"] <= 3), 'salarios_min'] = \"2 hasta 3 salarios\"\n",
    "    column.loc[(column[\"ratio_income_min_w\"] > 3) & (column[\"ratio_income_min_w\"] <= 5), 'salarios_min'] = \"3 hasta 5 salarios\"\n",
    "    column.loc[(column[\"ratio_income_min_w\"] > 5) & (column[\"ratio_income_min_w\"] <= 8), 'salarios_min'] = \"5 hasta 8 salarios\"\n",
    "    column.loc[(column[\"ratio_income_min_w\"] > 8) & (column[\"ratio_income_min_w\"] <= 12), 'salarios_min'] = \"8 hasta 12 salarios\"\n",
    "    column.loc[column[\"ratio_income_min_w\"] >12, 'pred_min'] = \"+ de 12 salarios\"\n",
    "\n",
    "    \n",
    "    \n",
    "reorderlist = [ \"1 hasta 2 salarios\",\"2 hasta 3 salarios\",\"3 hasta 5 salarios\", \"5 hasta 8 salarios\",\"8 hasta 12 salarios\",\"+ de 12 salarios\"]\n",
    "\n",
    "reorderlist2 = [\"8 hasta 12 salarios\",\"5 hasta 8 salarios\", \"3 hasta 5 salarios\",\"2 hasta 3 salarios\", \"1 hasta 2 salarios\"]\n"
   ]
  },
  {
   "cell_type": "markdown",
   "id": "67985d58",
   "metadata": {},
   "source": [
    "Este gráfico analiza el % de ingreso declarado válidado por la predicción del modelo. Vemos que el caso de ingresos de 1 hasta 2 salarios mínimos es donde encontramos mayores desvios en donde en un 16% de la muestar podemos validar sólo hasta el 30% de lo declarado y un 33% hasta un 70% de lo declarado. Vemos que también algo sucede con los mayores salarios."
   ]
  },
  {
   "cell_type": "markdown",
   "id": "b58687ad",
   "metadata": {},
   "source": [
    "Analizamos que el 40% del muestra se encuentra con un ingreso entre 81% hasta 90% validado. Ningún cliente se encuentra con el 100% de los ingresos validados. Esa es una elección de nuestro modelo para subestimar el ingreso"
   ]
  },
  {
   "cell_type": "code",
   "execution_count": null,
   "id": "bbe9f870",
   "metadata": {},
   "outputs": [],
   "source": [
    "fig, ax = plt.subplots(figsize=(10, 10))\n",
    "reorderlist2 = [\"8 hasta 12 salarios\",\"5 hasta 8 salarios\", \"3 hasta 5 salarios\",\"2 hasta 3 salarios\", \"1 hasta 2 salarios\"]\n",
    "\n",
    "cross = pd.crosstab(df2[\"salarios_min\"] ,df2[\"dec_%_validado\"]).apply(lambda x: round(x/x.sum(),3), axis=1).reindex(reorderlist2)\n",
    "#sns.heatmap(cross, annot=True)\n",
    "\n",
    "cmap = sns.diverging_palette(0, 230, 90, 60, as_cmap=True).reversed()\n",
    "# plot heatmap\n",
    "sns.despine(left=True)\n",
    "sns.heatmap(cross, fmt=\".2%\",annot=True,annot_kws={\"size\": 12},\n",
    "           linewidths=5, cmap=cmap,cbar=False, square=True)\n",
    "\n",
    "\n",
    "plt.rcParams[\"axes.labelsize\"] = 10\n",
    "plt.xlabel('% Validado predicho \\n ', fontsize = 10) # x-axis label with fontsize 15\n",
    "plt.ylabel('Ingreso real \\n', fontsize = 10)\n",
    "\n",
    "plt.title(\"\\n % Validado predicho vs Verdadero \\n100% predicho por bucket en comparación a real\\n\", fontsize = 12)\n"
   ]
  },
  {
   "cell_type": "markdown",
   "id": "f56c12e6",
   "metadata": {},
   "source": [
    "## Evaluación del modelo"
   ]
  },
  {
   "cell_type": "code",
   "execution_count": null,
   "id": "4818c5ec",
   "metadata": {},
   "outputs": [],
   "source": [
    "df2[\"ration_pred_min\"] = df2[\"ML_income\"]/4000\n",
    "\n",
    "\n",
    "lst = [df2]\n",
    "for column in lst:\n",
    "    column.loc[column[\"ration_pred_min\"] <= 1,  'pred_min'] = \" Hasta 1 salario min\"\n",
    "    column.loc[(column[\"ration_pred_min\"] > 1) & (column[\"ratio_income_min_w\"] <= 2), 'pred_min'] = \"1 hasta 2 salarios\"\n",
    "    column.loc[(column[\"ration_pred_min\"] > 2) & (column[\"ratio_income_min_w\"] <= 3), 'pred_min'] = \"2 hasta 3 salarios\"\n",
    "    column.loc[(column[\"ration_pred_min\"] > 3) & (column[\"ratio_income_min_w\"] <= 5), 'pred_min'] = \"3 hasta 5 salarios\"\n",
    "    column.loc[(column[\"ration_pred_min\"] > 5) & (column[\"ratio_income_min_w\"] <= 8), 'pred_min'] = \"5 hasta 8 salarios\"\n",
    "    column.loc[(column[\"ration_pred_min\"] > 8) & (column[\"ratio_income_min_w\"] <= 12), 'pred_min'] = \"8 hasta 12 salarios\"\n",
    "    column.loc[column[\"ration_pred_min\"] >12, 'pred_min'] = \"+ de 12 salarios\"\n",
    "    \n",
    "reorderlist = [ \"1 hasta 2 salarios\",\"2 hasta 3 salarios\",\"3 hasta 5 salarios\", \"5 hasta 8 salarios\",\"8 hasta 12 salarios\",\"+ de 12 salarios\"]\n",
    "\n",
    "ingreso_diff_per = pd.crosstab(df2['salarios_min'],df2['pred_min']).apply(lambda x: x/x.sum(), axis=1).reindex(reorderlist2)\n",
    "ingreso_diff_per = ingreso_diff_per[reorderlist]\n",
    "\n",
    "    \n",
    "\n",
    "\n",
    "fig, ax = plt.subplots(figsize=(10, 10))\n",
    "label_size = 8\n",
    "plt.rcParams['xtick.labelsize'] = label_size\n",
    "plt.rcParams['ytick.labelsize'] = label_size\n",
    "cmap = sns.diverging_palette(0, 230, 90, 60, as_cmap=True).reversed()\n",
    "# plot heatmap\n",
    "sns.despine(left=True)\n",
    "sns.heatmap(ingreso_diff_per, fmt=\".2%\",annot=True,annot_kws={\"size\": 12},\n",
    "           linewidths=5, cmap=cmap,cbar=False, square=True)\n",
    "\n",
    "plt.rcParams[\"axes.labelsize\"] = 10\n",
    "plt.xlabel('Salario Real \\n ', fontsize = 10) # x-axis label with fontsize 15\n",
    "plt.ylabel('Predicho \\n', fontsize = 10)\n",
    "\n",
    "plt.suptitle(\"Evaluación del Modelo \\n\\n \", fontsize = 14)\n",
    "plt.title(\"\\n \\n\\n Ingreso predicho vs Verdadero \\n100% predicho por bucket en comparación a real\\n\", fontsize = 12)\n",
    "plt.savefig(\"figures/evaluacion_salario_porcentaje.png\", bbox_inches='tight' )"
   ]
  },
  {
   "cell_type": "markdown",
   "id": "8f2523dd",
   "metadata": {},
   "source": [
    "Del 100% de la predicción discretizada por ingresos mínimo. ¿Cuantos nos equivocamos? ¿A qué distancia del bucket caen?\n",
    "\n",
    "El resultado perfecto sería la diagonal en 100%. Lo que menos esperamos es sobre estimar y en caso de hacerlo no pasarnos en más de un bucket."
   ]
  },
  {
   "cell_type": "markdown",
   "id": "1a85cd19",
   "metadata": {},
   "source": [
    "## Interpretabilidad del modelo"
   ]
  },
  {
   "cell_type": "code",
   "execution_count": null,
   "id": "38659a88",
   "metadata": {},
   "outputs": [],
   "source": [
    "import pickle\n",
    "from s3_utils.s3_utils import write_parquet_from_pd, read_pd_from_parquet, start_logger,write_pickle,read_pickle\n",
    "path_s3 = \"s3://data-science-kavak-dev/projects/cerberus/v2/dev/income/models/\"\n",
    "\n",
    "predictor_decla = read_pickle(path_s3 +\"declarado.pkl\")\n",
    "boost = predictor_decla.booster_\n",
    "columns_declarado=boost.feature_name()\n",
    "X_declarado = df2[columns_declarado]"
   ]
  },
  {
   "cell_type": "code",
   "execution_count": null,
   "id": "029c2ce6",
   "metadata": {},
   "outputs": [],
   "source": [
    "predictor_sin = read_pickle(path_s3 +\"nodeclarado.pkl\")\n",
    "boost = predictor_sin.booster_\n",
    "columns_sindeclarado=boost.feature_name()\n",
    "X_sindeclarado = df2[columns_sindeclarado]"
   ]
  },
  {
   "cell_type": "code",
   "execution_count": null,
   "id": "13d3827f",
   "metadata": {},
   "outputs": [],
   "source": [
    "#pip install --upgrade pyspark\n"
   ]
  },
  {
   "cell_type": "code",
   "execution_count": null,
   "id": "7d9fa3ed",
   "metadata": {},
   "outputs": [],
   "source": [
    "#explainer2 = shap.Explainer(predictor_sin)\n",
    "import shap\n"
   ]
  },
  {
   "cell_type": "code",
   "execution_count": null,
   "id": "abfc6889",
   "metadata": {},
   "outputs": [],
   "source": [
    "explainer = shap.TreeExplainer(predictor_sin)"
   ]
  },
  {
   "cell_type": "code",
   "execution_count": null,
   "id": "327aafd4",
   "metadata": {},
   "outputs": [],
   "source": [
    "\n",
    "explainer_decla = shap.TreeExplainer(predictor_decla)"
   ]
  },
  {
   "cell_type": "code",
   "execution_count": null,
   "id": "f744c9ea",
   "metadata": {},
   "outputs": [],
   "source": [
    "\n",
    "df = df2.copy()\n",
    "df[\"ML_Sin_declared\"] = df2[\"ML_nodeclarado\"]"
   ]
  },
  {
   "cell_type": "code",
   "execution_count": null,
   "id": "26aeaab8",
   "metadata": {},
   "outputs": [],
   "source": [
    "df[\"ML_declared\"] = df[\"ML_declarado\"]"
   ]
  },
  {
   "cell_type": "code",
   "execution_count": null,
   "id": "a333a0eb",
   "metadata": {},
   "outputs": [],
   "source": [
    "df[\"min_models\"] = df[\"ML_income\"]\n",
    "df[\"ML_income\"] = df[\"ML_income\"].astype(int)"
   ]
  },
  {
   "cell_type": "code",
   "execution_count": null,
   "id": "c9cf65b1",
   "metadata": {},
   "outputs": [],
   "source": [
    "df[\"%_validado\"] = df[\"ML_income\"]/df[\"net_income_verified\"]"
   ]
  },
  {
   "cell_type": "code",
   "execution_count": null,
   "id": "9aa4e041",
   "metadata": {},
   "outputs": [],
   "source": [
    "df[\"%_validado\"] = df[[\"%_validado\"]].applymap(lambda x: \"{0:.1f}%\".format(x*100))"
   ]
  },
  {
   "cell_type": "code",
   "execution_count": null,
   "id": "1061d2fb",
   "metadata": {},
   "outputs": [],
   "source": [
    "df[\"true_income\"] =df[\"ingreso_neto_comprobado\"]"
   ]
  },
  {
   "cell_type": "code",
   "execution_count": null,
   "id": "32b28405",
   "metadata": {},
   "outputs": [],
   "source": [
    "df['declared']=df[\"net_income_verified\"]"
   ]
  },
  {
   "cell_type": "code",
   "execution_count": null,
   "id": "635a02a5",
   "metadata": {},
   "outputs": [],
   "source": [
    "df[\"validado\"] = df[\"min_models\"]/df[\"net_income_verified\"]\n",
    "df[['Consecutivo','declared','true_income','ML_declared','ML_Sin_declared', 'min_models','valor_del_score']] = df[['Consecutivo','declared','true_income','ML_declared','ML_Sin_declared', 'min_models','valor_del_score']].astype(int)"
   ]
  },
  {
   "cell_type": "code",
   "execution_count": null,
   "id": "781595c2",
   "metadata": {},
   "outputs": [],
   "source": [
    "df_shap = df.loc[(df[\"validado\"] < 0.8) &(df[\"declared\"]> 1.4*df[\"true_income\"]) & (df[\"ML_income\"]<=df[\"declared\"]),]"
   ]
  },
  {
   "cell_type": "code",
   "execution_count": null,
   "id": "0fca2f2d",
   "metadata": {},
   "outputs": [],
   "source": [
    "df_shap[3:4][['Consecutivo','declared','true_income','ML_declared','ML_Sin_declared', 'ML_income','BC_Score_',\"%_validado\"]].T"
   ]
  },
  {
   "cell_type": "markdown",
   "id": "59d10ffa",
   "metadata": {},
   "source": [
    "# Ejemplo 1"
   ]
  },
  {
   "cell_type": "code",
   "execution_count": null,
   "id": "63a02426",
   "metadata": {},
   "outputs": [],
   "source": [
    "df_shap[3:4][['Consecutivo','declared','true_income','ML_declared','ML_Sin_declared', 'ML_income','BC_Score_',\"%_validado\"]].T"
   ]
  },
  {
   "cell_type": "code",
   "execution_count": null,
   "id": "23112017",
   "metadata": {},
   "outputs": [],
   "source": [
    "df_shap[5:6][['Consecutivo','declared','true_income','ML_declared','ML_Sin_declared', 'ML_income','BC_Score_',\"%_validado\"]].T"
   ]
  },
  {
   "cell_type": "code",
   "execution_count": null,
   "id": "7921327b",
   "metadata": {},
   "outputs": [],
   "source": [
    "df_shap= df_shap[0:10]\n",
    "shap_values2 = explainer(df_shap[columns_sindeclarado])\n",
    "shap_values_decla = explainer_decla(df_shap[columns_declarado])"
   ]
  },
  {
   "cell_type": "code",
   "execution_count": null,
   "id": "8e8d19dd",
   "metadata": {},
   "outputs": [],
   "source": [
    "shap.plots.waterfall(shap_values_decla[6])"
   ]
  },
  {
   "cell_type": "code",
   "execution_count": null,
   "id": "d60adf7a",
   "metadata": {},
   "outputs": [],
   "source": [
    "shap.plots.waterfall(shap_values2[6])"
   ]
  },
  {
   "cell_type": "markdown",
   "id": "73f9d02e",
   "metadata": {},
   "source": [
    "### Ejemplo 2"
   ]
  },
  {
   "cell_type": "code",
   "execution_count": null,
   "id": "007c2a8c",
   "metadata": {},
   "outputs": [],
   "source": [
    "\n",
    "df_shap = df.loc[(df[\"declared\"]>df[\"true_income\"]) & (df[\"min_models\"]<=df[\"true_income\"]),]\n",
    "df_shap =  df_shap[df_shap[\"validado\"] < 0.4]\n",
    "df_shap = df_shap[0:25]\n"
   ]
  },
  {
   "cell_type": "code",
   "execution_count": null,
   "id": "2407a7ca",
   "metadata": {},
   "outputs": [],
   "source": [
    "shap_values2 = explainer(df_shap[columns_sindeclarado])\n",
    "shap_values_decla = explainer_decla(df_shap[columns_declarado])"
   ]
  },
  {
   "cell_type": "code",
   "execution_count": null,
   "id": "4a82fbcc",
   "metadata": {},
   "outputs": [],
   "source": [
    "df_shap[['Consecutivo','declared','true_income','ML_declared','ML_Sin_declared', 'ML_income','BC_Score_',\"%_validado\",\"validado\"]][5:6].T"
   ]
  },
  {
   "cell_type": "code",
   "execution_count": null,
   "id": "e01d1a1a",
   "metadata": {},
   "outputs": [],
   "source": [
    "shap.plots.waterfall(shap_values_decla[5])"
   ]
  },
  {
   "cell_type": "code",
   "execution_count": null,
   "id": "7414149b",
   "metadata": {},
   "outputs": [],
   "source": [
    "shap.plots.waterfall(shap_values2[5])"
   ]
  },
  {
   "cell_type": "markdown",
   "id": "4304fe92",
   "metadata": {},
   "source": [
    "### Ejemplo 3"
   ]
  },
  {
   "cell_type": "code",
   "execution_count": null,
   "id": "e9f84416",
   "metadata": {},
   "outputs": [],
   "source": [
    "#df_shap = df.loc[(df[\"declared\"]== df[\"true_income\"])]\n",
    "df_shap =  df[df[\"validado\"] == 1 ]\n",
    "#df_shap = df_shap[0:25]\n"
   ]
  },
  {
   "cell_type": "code",
   "execution_count": null,
   "id": "8a3ebe37",
   "metadata": {},
   "outputs": [],
   "source": [
    "df_shap = df_shap.loc[(df_shap[\"min_models\"]>df_shap[\"true_income\"]) & (df_shap['valor_del_score']>680),]"
   ]
  },
  {
   "cell_type": "code",
   "execution_count": null,
   "id": "670881a6",
   "metadata": {},
   "outputs": [],
   "source": [
    "df_shap[['Consecutivo','declared','true_income','ML_declared','ML_Sin_declared', 'ML_income','BC_Score_',\"%_validado\",\"validado\"]][0:1].T"
   ]
  },
  {
   "cell_type": "code",
   "execution_count": null,
   "id": "ab7a3f71",
   "metadata": {},
   "outputs": [],
   "source": [
    "shap_values2 = explainer(df_shap[columns_sindeclarado])\n",
    "shap_values_decla = explainer_decla(df_shap[columns_declarado])"
   ]
  },
  {
   "cell_type": "code",
   "execution_count": null,
   "id": "60a5baf1",
   "metadata": {},
   "outputs": [],
   "source": [
    "shap.plots.waterfall(shap_values_decla[0])"
   ]
  },
  {
   "cell_type": "code",
   "execution_count": null,
   "id": "1d009db5",
   "metadata": {},
   "outputs": [],
   "source": [
    "shap.plots.waterfall(shap_values2[0])"
   ]
  },
  {
   "cell_type": "markdown",
   "id": "6dc81015",
   "metadata": {},
   "source": [
    "# Ejemplo 4"
   ]
  },
  {
   "cell_type": "code",
   "execution_count": null,
   "id": "9151e1d2",
   "metadata": {},
   "outputs": [],
   "source": [
    "df_shap =  df.loc[(df[\"declared\"]<df[\"ML_declared\"]) & (df[\"declared\"]<df[\"ML_Sin_declared\"]), ]\n",
    "df_shap[['Consecutivo','declared','true_income','ML_declared','ML_Sin_declared', 'min_models','BC_Score_',\"%_validado\",\"validado\"]][1:2].T"
   ]
  },
  {
   "cell_type": "code",
   "execution_count": null,
   "id": "494e3c7b",
   "metadata": {},
   "outputs": [],
   "source": [
    "df_shap = df_shap[0:5]"
   ]
  },
  {
   "cell_type": "code",
   "execution_count": null,
   "id": "22a116f5",
   "metadata": {},
   "outputs": [],
   "source": [
    "shap_values2 = explainer(df_shap[columns_sindeclarado])\n",
    "shap_values_decla = explainer_decla(df_shap[columns_declarado])"
   ]
  },
  {
   "cell_type": "code",
   "execution_count": null,
   "id": "126a9644",
   "metadata": {},
   "outputs": [],
   "source": [
    "shap.plots.waterfall(shap_values_decla[1])"
   ]
  },
  {
   "cell_type": "code",
   "execution_count": null,
   "id": "57901e74",
   "metadata": {},
   "outputs": [],
   "source": [
    "shap.plots.waterfall(shap_values2[1])"
   ]
  },
  {
   "cell_type": "markdown",
   "id": "8a4cc138",
   "metadata": {},
   "source": [
    "# Ejemplo 5"
   ]
  },
  {
   "cell_type": "code",
   "execution_count": null,
   "id": "c9335942",
   "metadata": {},
   "outputs": [],
   "source": [
    "#df_shap = df.loc[(df[\"declared\"]== df[\"true_income\"])]\n",
    "df_shap =  df[df[\"validado\"] == 1 ]\n",
    "df_shap = df_shap.loc[(df_shap[\"declared\"]>30000),]\n",
    "df_shap = df_shap.loc[(df_shap[\"min_models\"]>df_shap[\"true_income\"]) & (df_shap['BC_Score_']>680),]\n",
    "#df_shap = df_shap.loc[(df_shap[\"true_income\"]<14000)  ,]\n",
    "df_shap[['Consecutivo','declared','true_income','ML_declared','ML_Sin_declared', 'min_models','BC_Score_',\"%_validado\",\"validado\"]][2:3].T"
   ]
  },
  {
   "cell_type": "code",
   "execution_count": null,
   "id": "25baa244",
   "metadata": {},
   "outputs": [],
   "source": [
    "df_shap = df_shap[2:3]\n",
    "shap_values2 = explainer(df_shap[columns_sindeclarado])\n",
    "shap_values_decla = explainer_decla(df_shap[columns_declarado])"
   ]
  },
  {
   "cell_type": "code",
   "execution_count": null,
   "id": "044a5a7f",
   "metadata": {},
   "outputs": [],
   "source": [
    "shap.plots.waterfall(shap_values_decla[0])"
   ]
  },
  {
   "cell_type": "code",
   "execution_count": null,
   "id": "b801124d",
   "metadata": {},
   "outputs": [],
   "source": [
    "shap.plots.waterfall(shap_values2[0])"
   ]
  },
  {
   "cell_type": "markdown",
   "id": "8e594797",
   "metadata": {},
   "source": [
    "## Ejemplo 6"
   ]
  },
  {
   "cell_type": "code",
   "execution_count": null,
   "id": "f96d5764",
   "metadata": {},
   "outputs": [],
   "source": [
    "#df_shap = df.loc[(df[\"declared\"]== df[\"true_income\"])]\n",
    "df_shap =  df[df[\"validado\"] == 1 ]\n",
    "df_shap = df_shap.loc[(df_shap[\"min_models\"]<28000),]\n",
    "df_shap = df_shap.loc[(df_shap[\"min_models\"]>df_shap[\"true_income\"]) & (df_shap['valor_del_score']>680),]\n",
    "df_shap = df_shap.loc[(df_shap[\"true_income\"]<14000)  ,]\n",
    "df_shap[['Consecutivo','declared','true_income','ML_declared','ML_Sin_declared', 'min_models','BC_Score_',\"%_validado\",\"validado\"]][4:5].T"
   ]
  },
  {
   "cell_type": "code",
   "execution_count": null,
   "id": "a9ff51d9",
   "metadata": {},
   "outputs": [],
   "source": [
    "df_shap = df_shap[4:5]"
   ]
  },
  {
   "cell_type": "code",
   "execution_count": null,
   "id": "da28ee2c",
   "metadata": {},
   "outputs": [],
   "source": [
    "shap_values2 = explainer(df_shap[columns_sindeclarado])\n",
    "shap_values_decla = explainer_decla(df_shap[columns_declarado])"
   ]
  },
  {
   "cell_type": "code",
   "execution_count": null,
   "id": "b74e0341",
   "metadata": {},
   "outputs": [],
   "source": [
    "shap.plots.waterfall(shap_values_decla[0])"
   ]
  },
  {
   "cell_type": "code",
   "execution_count": null,
   "id": "99abd6ad",
   "metadata": {},
   "outputs": [],
   "source": [
    "shap.plots.waterfall(shap_values2[0])"
   ]
  },
  {
   "cell_type": "markdown",
   "id": "86f53c78",
   "metadata": {},
   "source": [
    "## Performance\n"
   ]
  },
  {
   "cell_type": "markdown",
   "id": "c278bb1c",
   "metadata": {},
   "source": [
    "# Performance"
   ]
  },
  {
   "cell_type": "code",
   "execution_count": null,
   "id": "04aee911",
   "metadata": {},
   "outputs": [],
   "source": [
    "from sklearn.metrics import mean_absolute_percentage_error as MAPE_skl\n",
    "MAPE_skl"
   ]
  },
  {
   "cell_type": "code",
   "execution_count": null,
   "id": "03b0cbc2",
   "metadata": {},
   "outputs": [],
   "source": [
    "MAPE_skl(df[\"true_income\"],df[\"ML_declared\"]).round(3) "
   ]
  },
  {
   "cell_type": "code",
   "execution_count": null,
   "id": "de8ecab4",
   "metadata": {},
   "outputs": [],
   "source": [
    "MAPE_skl(df[\"true_income\"],df[\"ML_nodeclarado\"]).round(3) "
   ]
  },
  {
   "cell_type": "code",
   "execution_count": null,
   "id": "96008f22",
   "metadata": {},
   "outputs": [],
   "source": [
    "MAPE_skl(df[\"true_income\"],df[\"net_income_verified\"]).round(3) "
   ]
  },
  {
   "cell_type": "code",
   "execution_count": null,
   "id": "a80cb83d",
   "metadata": {},
   "outputs": [],
   "source": [
    "MAPE_skl(df[\"true_income\"],df[\"ML_income\"]).round(3) "
   ]
  },
  {
   "cell_type": "code",
   "execution_count": null,
   "id": "685a2b76",
   "metadata": {},
   "outputs": [],
   "source": [
    "df_map = df.query(\"true_income<100000\")"
   ]
  },
  {
   "cell_type": "code",
   "execution_count": null,
   "id": "db16e17b",
   "metadata": {},
   "outputs": [],
   "source": [
    "MAPE_skl(df_map[\"true_income\"],df_map[\"ML_income\"]).round(3) "
   ]
  },
  {
   "cell_type": "code",
   "execution_count": null,
   "id": "38106989",
   "metadata": {},
   "outputs": [],
   "source": []
  },
  {
   "cell_type": "code",
   "execution_count": null,
   "id": "8dfbb21d",
   "metadata": {},
   "outputs": [],
   "source": []
  },
  {
   "cell_type": "markdown",
   "id": "f8090fdf",
   "metadata": {},
   "source": [
    "# Anexo:\n",
    "\n",
    "Variables de bureau de crédito utilizadas para el modelo"
   ]
  },
  {
   "cell_type": "code",
   "execution_count": null,
   "id": "78aff3eb",
   "metadata": {},
   "outputs": [],
   "source": [
    "variables_bureau = ['fecha_de_apertura_de_la_cuenta_más_antigua',\n",
    " 'fecha_de_apertura_de_la_cuenta_más_reciente',\n",
    " 'fecha_de_la_consulta_mas_reciente',\n",
    " 'mensaje_de_alerta',\n",
    " 'moneda_del_credito',\n",
    " 'nueva_direccion_en_los_últimos_60_días',\n",
    " 'número_de_cuentas',\n",
    " 'número_de_cuentas_cerradas',\n",
    " 'número_de_cuentas_con_historial_de_morosidad',\n",
    " 'número_de_cuentas_con_mop_=_00',\n",
    " 'número_de_cuentas_con_mop_=_01',\n",
    " 'número_de_cuentas_con_mop_=_02',\n",
    " 'número_de_cuentas_con_mop_=_03',\n",
    " 'número_de_cuentas_con_mop_=_04',\n",
    " 'número_de_cuentas_con_mop_=_05',\n",
    " 'número_de_cuentas_con_mop_=_06',\n",
    " 'número_de_cuentas_con_mop_=_07',\n",
    " 'número_de_cuentas_con_mop_=_96',\n",
    " 'número_de_cuentas_con_mop_=_97',\n",
    " 'número_de_cuentas_con_mop_=_99',\n",
    " 'número_de_cuentas_con_mop_=_UR',\n",
    " 'número_de_cuentas_con_morosidad_actual',\n",
    " 'número_de_cuentas_de_pagos_fijos_e_hipotecarios',\n",
    " 'número_de_cuentas_en_aclaración',\n",
    " 'número_de_cuentas_en_despacho_de_cobranza_o_administadora_de_cartera',\n",
    " 'número_de_cuentas_revolventes_y_sin_límite_pre-establecido',\n",
    " 'número_de_solicitudes_de_consulta',\n",
    " 'número_de_solicitudes_del_informe_de_buró',\n",
    " 'número_de_solicitudes_del_informe_de_buró_realizadas_por_despachos_de_cobranza_o_administadora_de_cartera',\n",
    " 'porcentaje_del_límite_de_crédito_utilizado_para_cuentas_revolventes_y_sin_límite_pre-establecido',\n",
    " 'total_de_creditos_máximos_para_cuentas_revolventes_y_sin_límite_pre-establecido',\n",
    " 'total_de_créditos_máximos_para_cuentas_de_pagos_fijos_e_hipotecarios',\n",
    " 'total_de_importe_de_pago_para_cuentas_de_pagos_fijos_e_hipotecarios',\n",
    " 'total_de_importe_pagado_para_cuentas_revolventes_y_sin_límite_pre-establecido',\n",
    " 'total_de_límites_de_crédito_para_cuentas_revolventes_y_sin_límite_pre-establecido',\n",
    " 'total_de_saldos_actuales_para_cuentas_de_pagos_fijos_e_hipotecarios',\n",
    " 'total_de_saldos_actuales_para_cuentas_revolventes_y_sin_límite_pre-establecido',\n",
    " 'total_de_saldos_vencidos_para_cuentas_de_pagos_fijos_e_hipotecarios',\n",
    " 'total_de_saldos_vencidos_para_cuentas_revolventes_y_sin_límite_pre-establecido',\n",
    " 'código_de_razón_1',\n",
    " 'código_de_razón_2',\n",
    " 'código_de_razón_3',\n",
    " 'código_del_score',\n",
    " 'nombre_del_score',\n",
    " 'valor_del_score']\n",
    "\n"
   ]
  },
  {
   "cell_type": "code",
   "execution_count": null,
   "id": "928d8a51",
   "metadata": {},
   "outputs": [],
   "source": [
    "print(f\"La cantidad de variables utilizadas para entrenamiento del modelo son {len(variables_bureau)}\")"
   ]
  },
  {
   "cell_type": "code",
   "execution_count": null,
   "id": "c4ab188e",
   "metadata": {},
   "outputs": [],
   "source": [
    "variables_bureau"
   ]
  },
  {
   "cell_type": "code",
   "execution_count": null,
   "id": "dfb37a77",
   "metadata": {},
   "outputs": [],
   "source": [
    "!jupyter nbconvert analisis_resultados.ipynb --to html --TemplateExporter.exclude_input=True"
   ]
  },
  {
   "cell_type": "code",
   "execution_count": null,
   "id": "e69294d9",
   "metadata": {},
   "outputs": [],
   "source": []
  }
 ],
 "metadata": {
  "kernelspec": {
   "display_name": "conda_python3",
   "language": "python",
   "name": "conda_python3"
  },
  "language_info": {
   "codemirror_mode": {
    "name": "ipython",
    "version": 3
   },
   "file_extension": ".py",
   "mimetype": "text/x-python",
   "name": "python",
   "nbconvert_exporter": "python",
   "pygments_lexer": "ipython3",
   "version": "3.8.12"
  }
 },
 "nbformat": 4,
 "nbformat_minor": 5
}