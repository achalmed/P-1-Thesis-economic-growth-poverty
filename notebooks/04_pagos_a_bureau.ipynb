{
 "cells": [
  {
   "cell_type": "markdown",
   "id": "8cd12028",
   "metadata": {},
   "source": [
    "\n",
    "* 4. Pagos a Bureau - No declaro:\n",
    "    * Pruebo crear variables\n",
    "    * Regresion: \n",
    "        credit lines + Pagos a bureau a tiempo (cuello de botella  TL sections)\n",
    "    * Ensamblearlo ligthgbm: Ejemplo regresion + 20% o -20%"
   ]
  },
  {
   "cell_type": "code",
   "execution_count": null,
   "id": "8f5406bf",
   "metadata": {},
   "outputs": [],
   "source": []
  }
 ],
 "metadata": {
  "kernelspec": {
   "display_name": "conda_mxnet_p37",
   "language": "python",
   "name": "conda_mxnet_p37"
  },
  "language_info": {
   "codemirror_mode": {
    "name": "ipython",
    "version": 3
   },
   "file_extension": ".py",
   "mimetype": "text/x-python",
   "name": "python",
   "nbconvert_exporter": "python",
   "pygments_lexer": "ipython3",
   "version": "3.7.10"
  }
 },
 "nbformat": 4,
 "nbformat_minor": 5
}
